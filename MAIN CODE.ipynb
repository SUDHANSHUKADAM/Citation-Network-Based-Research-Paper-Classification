{
 "cells": [
  {
   "cell_type": "markdown",
   "id": "0a18d00c",
   "metadata": {
    "id": "tfBU8HX-7sNN",
    "papermill": {
     "duration": 0.021933,
     "end_time": "2024-11-26T05:23:42.740027",
     "exception": false,
     "start_time": "2024-11-26T05:23:42.718094",
     "status": "completed"
    },
    "tags": []
   },
   "source": [
    "## Setup"
   ]
  },
  {
   "cell_type": "code",
   "execution_count": 1,
   "id": "ddfa6b90",
   "metadata": {
    "execution": {
     "iopub.execute_input": "2024-11-26T05:23:42.780661Z",
     "iopub.status.busy": "2024-11-26T05:23:42.780102Z",
     "iopub.status.idle": "2024-11-26T05:23:58.339198Z",
     "shell.execute_reply": "2024-11-26T05:23:58.338032Z"
    },
    "id": "y7fkGQ907sNO",
    "papermill": {
     "duration": 15.582363,
     "end_time": "2024-11-26T05:23:58.341868",
     "exception": false,
     "start_time": "2024-11-26T05:23:42.759505",
     "status": "completed"
    },
    "tags": []
   },
   "outputs": [],
   "source": [
    "import os\n",
    "import pandas as pd\n",
    "import numpy as np\n",
    "import networkx as nx\n",
    "import matplotlib.pyplot as plt\n",
    "import tensorflow as tf\n",
    "from tensorflow import keras\n",
    "from tensorflow.keras import layers"
   ]
  },
  {
   "cell_type": "markdown",
   "id": "5ac703df",
   "metadata": {
    "id": "ef0ITPwG7sNQ",
    "papermill": {
     "duration": 0.01905,
     "end_time": "2024-11-26T05:23:58.380545",
     "exception": false,
     "start_time": "2024-11-26T05:23:58.361495",
     "status": "completed"
    },
    "tags": []
   },
   "source": [
    "## Prepare the Dataset"
   ]
  },
  {
   "cell_type": "code",
   "execution_count": 2,
   "id": "06aca585",
   "metadata": {
    "execution": {
     "iopub.execute_input": "2024-11-26T05:23:58.420773Z",
     "iopub.status.busy": "2024-11-26T05:23:58.420081Z",
     "iopub.status.idle": "2024-11-26T05:23:58.425331Z",
     "shell.execute_reply": "2024-11-26T05:23:58.424270Z"
    },
    "id": "VLCYL-9l7sNR",
    "papermill": {
     "duration": 0.02789,
     "end_time": "2024-11-26T05:23:58.427648",
     "exception": false,
     "start_time": "2024-11-26T05:23:58.399758",
     "status": "completed"
    },
    "tags": []
   },
   "outputs": [],
   "source": [
    "import os\n",
    "import tarfile"
   ]
  },
  {
   "cell_type": "markdown",
   "id": "2ad688b1",
   "metadata": {
    "id": "T6Mxs2aD7sNS",
    "papermill": {
     "duration": 0.018814,
     "end_time": "2024-11-26T05:23:58.466966",
     "exception": false,
     "start_time": "2024-11-26T05:23:58.448152",
     "status": "completed"
    },
    "tags": []
   },
   "source": [
    "### Process and visualize the dataset\n",
    "\n",
    "Then we load the citations data into a Pandas DataFrame."
   ]
  },
  {
   "cell_type": "code",
   "execution_count": 3,
   "id": "a56057d1",
   "metadata": {
    "execution": {
     "iopub.execute_input": "2024-11-26T05:23:58.509192Z",
     "iopub.status.busy": "2024-11-26T05:23:58.508459Z",
     "iopub.status.idle": "2024-11-26T05:23:58.523735Z",
     "shell.execute_reply": "2024-11-26T05:23:58.522549Z"
    },
    "papermill": {
     "duration": 0.039795,
     "end_time": "2024-11-26T05:23:58.525905",
     "exception": false,
     "start_time": "2024-11-26T05:23:58.486110",
     "status": "completed"
    },
    "tags": []
   },
   "outputs": [],
   "source": [
    "def transform_pubmed(inFeat, outFeat, inNet, outNet):\n",
    "    with open(inFeat) as f:\n",
    "        with open(outFeat, 'w') as out:\n",
    "            ignore = True\n",
    "            head = True\n",
    "            target = {}\n",
    "            features = {}\n",
    "            for line in f:\n",
    "                if ignore:\n",
    "                    ignore = False\n",
    "                    continue\n",
    "                if head:\n",
    "                    head = False\n",
    "                    s = line.split()[1:-1]\n",
    "                    s = [x.split(':')[1] for x in s]\n",
    "                    feats_nums = {s[i]: i for i in range(len(s))}\n",
    "                    continue\n",
    "                s = line.split()\n",
    "                id = s[0]\n",
    "                target[id] = s[1].split('=')[1]\n",
    "                assert (s[1].split('=')[0] == 'label')\n",
    "                idx = [feats_nums[x.split('=')[0]] for x in s[2:-1]]\n",
    "                feats = [1 if i in idx else 0 for i in range(len(feats_nums))]\n",
    "                features[id] = feats\n",
    "                out.write(id + ' ')\n",
    "                out.write(' '.join([str(x) for x in feats]))\n",
    "                out.write(' ' + target[id] + '\\n')\n",
    "    with open(inNet) as f:\n",
    "        with open(outNet, 'w') as out:\n",
    "            ignore = True\n",
    "            head = True\n",
    "            for line in f:\n",
    "                if ignore:\n",
    "                    ignore = False\n",
    "                    continue\n",
    "                if head:\n",
    "                    head = False\n",
    "                    continue\n",
    "                s = line.split()\n",
    "                u = s[1].split(':')[1]\n",
    "                v = s[3].split(':')[1]\n",
    "                out.write(v + ' ' + u + '\\n')\n",
    "                \n"
   ]
  },
  {
   "cell_type": "code",
   "execution_count": 4,
   "id": "4214df40",
   "metadata": {
    "execution": {
     "iopub.execute_input": "2024-11-26T05:23:58.565950Z",
     "iopub.status.busy": "2024-11-26T05:23:58.565546Z",
     "iopub.status.idle": "2024-11-26T05:24:06.080828Z",
     "shell.execute_reply": "2024-11-26T05:24:06.079462Z"
    },
    "papermill": {
     "duration": 7.538075,
     "end_time": "2024-11-26T05:24:06.083487",
     "exception": false,
     "start_time": "2024-11-26T05:23:58.545412",
     "status": "completed"
    },
    "tags": []
   },
   "outputs": [
    {
     "name": "stdout",
     "output_type": "stream",
     "text": [
      "Processed files saved in /kaggle/working/data/graphs/processed\n"
     ]
    }
   ],
   "source": [
    "import os\n",
    "\n",
    "# Dataset and paths\n",
    "dataset_name = 'pubmed'\n",
    "input_dir = '/kaggle/input/pumbed1'  # Read-only input directory in Kaggle\n",
    "output_dir = '/kaggle/working/data/graphs/processed'  # Writable directory for processed data\n",
    "\n",
    "# Create output directory if it doesn't exist\n",
    "os.makedirs(output_dir, exist_ok=True)\n",
    "\n",
    "# File paths\n",
    "node_file = os.path.join(input_dir, 'Pubmed-Diabetes.NODE.paper.tab')  # Input node file\n",
    "content_file = os.path.join(output_dir, f'{dataset_name}.content')  # Output content file\n",
    "cites_file = os.path.join(input_dir, 'Pubmed-Diabetes.DIRECTED.cites.tab')  # Input cites file\n",
    "cites_output_file = os.path.join(output_dir, f'{dataset_name}.cites')  # Output cites file\n",
    "\n",
    "# Call transform_pubmed with updated paths\n",
    "transform_pubmed(node_file, content_file, cites_file, cites_output_file)\n",
    "data_dir = f'/kaggle/working/data/graphs/processed'\n",
    "print(f\"Processed files saved in {output_dir}\")\n"
   ]
  },
  {
   "cell_type": "code",
   "execution_count": 5,
   "id": "1f82136d",
   "metadata": {
    "execution": {
     "iopub.execute_input": "2024-11-26T05:24:06.124847Z",
     "iopub.status.busy": "2024-11-26T05:24:06.124424Z",
     "iopub.status.idle": "2024-11-26T05:24:06.130062Z",
     "shell.execute_reply": "2024-11-26T05:24:06.128859Z"
    },
    "papermill": {
     "duration": 0.02893,
     "end_time": "2024-11-26T05:24:06.132407",
     "exception": false,
     "start_time": "2024-11-26T05:24:06.103477",
     "status": "completed"
    },
    "tags": []
   },
   "outputs": [
    {
     "name": "stdout",
     "output_type": "stream",
     "text": [
      "/kaggle/input/pumbed1/Pubmed-Diabetes.NODE.paper.tab\n"
     ]
    }
   ],
   "source": [
    "print(node_file)\n",
    "\n",
    "# Class 0: Diabetes Type 1\n",
    "# Class 1: Diabetes Type 2\n",
    "# Class 2: Experimental research on diabetes (other diabetes-related studies)"
   ]
  },
  {
   "cell_type": "code",
   "execution_count": 6,
   "id": "b84578bb",
   "metadata": {
    "execution": {
     "iopub.execute_input": "2024-11-26T05:24:06.174418Z",
     "iopub.status.busy": "2024-11-26T05:24:06.172941Z",
     "iopub.status.idle": "2024-11-26T05:24:06.204191Z",
     "shell.execute_reply": "2024-11-26T05:24:06.203008Z"
    },
    "papermill": {
     "duration": 0.054314,
     "end_time": "2024-11-26T05:24:06.206420",
     "exception": false,
     "start_time": "2024-11-26T05:24:06.152106",
     "status": "completed"
    },
    "tags": []
   },
   "outputs": [
    {
     "name": "stdout",
     "output_type": "stream",
     "text": [
      "Citations shape: (44338, 2)\n"
     ]
    }
   ],
   "source": [
    "citations = pd.read_csv(\n",
    "    os.path.join(data_dir, \"pubmed.cites\"),\n",
    "    sep=\" \", \n",
    "    header=None,\n",
    "    names=[\"target\", \"source\"],\n",
    ")\n",
    "print(\"Citations shape:\", citations.shape)"
   ]
  },
  {
   "cell_type": "markdown",
   "id": "48fa64c7",
   "metadata": {
    "id": "0AY0HYIA7sNT",
    "papermill": {
     "duration": 0.019085,
     "end_time": "2024-11-26T05:24:06.245465",
     "exception": false,
     "start_time": "2024-11-26T05:24:06.226380",
     "status": "completed"
    },
    "tags": []
   },
   "source": [
    "Now we display a sample of the `citations` DataFrame.\n",
    "The `target` column includes the paper ids cited by the paper ids in the `source` column."
   ]
  },
  {
   "cell_type": "code",
   "execution_count": 7,
   "id": "3f236934",
   "metadata": {
    "execution": {
     "iopub.execute_input": "2024-11-26T05:24:06.285603Z",
     "iopub.status.busy": "2024-11-26T05:24:06.285171Z",
     "iopub.status.idle": "2024-11-26T05:24:06.311420Z",
     "shell.execute_reply": "2024-11-26T05:24:06.310271Z"
    },
    "id": "t3Fjmy6O7sNU",
    "papermill": {
     "duration": 0.049139,
     "end_time": "2024-11-26T05:24:06.313808",
     "exception": false,
     "start_time": "2024-11-26T05:24:06.264669",
     "status": "completed"
    },
    "tags": []
   },
   "outputs": [
    {
     "data": {
      "text/html": [
       "<div>\n",
       "<style scoped>\n",
       "    .dataframe tbody tr th:only-of-type {\n",
       "        vertical-align: middle;\n",
       "    }\n",
       "\n",
       "    .dataframe tbody tr th {\n",
       "        vertical-align: top;\n",
       "    }\n",
       "\n",
       "    .dataframe thead th {\n",
       "        text-align: right;\n",
       "    }\n",
       "</style>\n",
       "<table border=\"1\" class=\"dataframe\">\n",
       "  <thead>\n",
       "    <tr style=\"text-align: right;\">\n",
       "      <th></th>\n",
       "      <th>target</th>\n",
       "      <th>source</th>\n",
       "    </tr>\n",
       "  </thead>\n",
       "  <tbody>\n",
       "    <tr>\n",
       "      <th>14206</th>\n",
       "      <td>9851666</td>\n",
       "      <td>15270841</td>\n",
       "    </tr>\n",
       "    <tr>\n",
       "      <th>44128</th>\n",
       "      <td>7698052</td>\n",
       "      <td>16215165</td>\n",
       "    </tr>\n",
       "    <tr>\n",
       "      <th>6429</th>\n",
       "      <td>16249540</td>\n",
       "      <td>18258851</td>\n",
       "    </tr>\n",
       "    <tr>\n",
       "      <th>11805</th>\n",
       "      <td>9285498</td>\n",
       "      <td>18555826</td>\n",
       "    </tr>\n",
       "    <tr>\n",
       "      <th>12928</th>\n",
       "      <td>4581053</td>\n",
       "      <td>8200993</td>\n",
       "    </tr>\n",
       "  </tbody>\n",
       "</table>\n",
       "</div>"
      ],
      "text/plain": [
       "         target    source\n",
       "14206   9851666  15270841\n",
       "44128   7698052  16215165\n",
       "6429   16249540  18258851\n",
       "11805   9285498  18555826\n",
       "12928   4581053   8200993"
      ]
     },
     "execution_count": 7,
     "metadata": {},
     "output_type": "execute_result"
    }
   ],
   "source": [
    "citations.sample(frac=1).head()"
   ]
  },
  {
   "cell_type": "markdown",
   "id": "cde1c7d3",
   "metadata": {
    "id": "nBP04NWz7sNU",
    "papermill": {
     "duration": 0.019365,
     "end_time": "2024-11-26T05:24:06.352878",
     "exception": false,
     "start_time": "2024-11-26T05:24:06.333513",
     "status": "completed"
    },
    "tags": []
   },
   "source": [
    "Now let's load the papers data into a Pandas DataFrame."
   ]
  },
  {
   "cell_type": "code",
   "execution_count": 8,
   "id": "e43541c4",
   "metadata": {
    "execution": {
     "iopub.execute_input": "2024-11-26T05:24:06.393603Z",
     "iopub.status.busy": "2024-11-26T05:24:06.393188Z",
     "iopub.status.idle": "2024-11-26T05:24:07.058078Z",
     "shell.execute_reply": "2024-11-26T05:24:07.056820Z"
    },
    "id": "shx5--Vk7sNV",
    "papermill": {
     "duration": 0.688276,
     "end_time": "2024-11-26T05:24:07.060664",
     "exception": false,
     "start_time": "2024-11-26T05:24:06.372388",
     "status": "completed"
    },
    "tags": []
   },
   "outputs": [
    {
     "name": "stdout",
     "output_type": "stream",
     "text": [
      "Papers shape: (19717, 502)\n"
     ]
    }
   ],
   "source": [
    "column_names = [\"paper_id\"] + [f\"term_{idx}\" for idx in range(500)] + [\"subject\"]\n",
    "papers = pd.read_csv(\n",
    "    os.path.join(data_dir, \"pubmed.content\"), sep=\" \", header=None, names=column_names,\n",
    ")\n",
    "print(\"Papers shape:\", papers.shape)"
   ]
  },
  {
   "cell_type": "code",
   "execution_count": 9,
   "id": "82287cee",
   "metadata": {
    "execution": {
     "iopub.execute_input": "2024-11-26T05:24:07.101908Z",
     "iopub.status.busy": "2024-11-26T05:24:07.101547Z",
     "iopub.status.idle": "2024-11-26T05:24:07.108437Z",
     "shell.execute_reply": "2024-11-26T05:24:07.107323Z"
    },
    "papermill": {
     "duration": 0.030423,
     "end_time": "2024-11-26T05:24:07.111265",
     "exception": false,
     "start_time": "2024-11-26T05:24:07.080842",
     "status": "completed"
    },
    "tags": []
   },
   "outputs": [
    {
     "name": "stdout",
     "output_type": "stream",
     "text": [
      "0        1\n",
      "1        1\n",
      "2        1\n",
      "3        2\n",
      "4        1\n",
      "        ..\n",
      "19712    3\n",
      "19713    2\n",
      "19714    1\n",
      "19715    3\n",
      "19716    3\n",
      "Name: subject, Length: 19717, dtype: int64\n"
     ]
    }
   ],
   "source": [
    "print(papers[\"subject\"])"
   ]
  },
  {
   "cell_type": "code",
   "execution_count": 10,
   "id": "4e2ba230",
   "metadata": {
    "execution": {
     "iopub.execute_input": "2024-11-26T05:24:07.151966Z",
     "iopub.status.busy": "2024-11-26T05:24:07.151606Z",
     "iopub.status.idle": "2024-11-26T05:24:07.161954Z",
     "shell.execute_reply": "2024-11-26T05:24:07.160892Z"
    },
    "papermill": {
     "duration": 0.033273,
     "end_time": "2024-11-26T05:24:07.164197",
     "exception": false,
     "start_time": "2024-11-26T05:24:07.130924",
     "status": "completed"
    },
    "tags": []
   },
   "outputs": [
    {
     "name": "stdout",
     "output_type": "stream",
     "text": [
      "   paper_id  term_0  term_1  term_2  term_3  term_4  term_5  term_6  term_7  \\\n",
      "0  12187484       1       1       1       1       1       1       1       1   \n",
      "1   2344352       1       0       1       0       0       0       0       0   \n",
      "2  14654069       1       0       1       0       0       0       0       0   \n",
      "3  16443886       0       0       0       0       0       0       0       0   \n",
      "4   2684155       1       0       0       0       0       0       0       0   \n",
      "\n",
      "   term_8  ...  term_491  term_492  term_493  term_494  term_495  term_496  \\\n",
      "0       1  ...         0         0         0         0         0         0   \n",
      "1       1  ...         0         0         0         0         0         0   \n",
      "2       1  ...         0         0         0         0         0         0   \n",
      "3       0  ...         0         0         0         0         0         0   \n",
      "4       1  ...         0         0         0         0         0         0   \n",
      "\n",
      "   term_497  term_498  term_499  subject  \n",
      "0         0         0         0        1  \n",
      "1         0         0         0        1  \n",
      "2         0         0         0        1  \n",
      "3         0         0         0        2  \n",
      "4         0         0         0        1  \n",
      "\n",
      "[5 rows x 502 columns]\n"
     ]
    }
   ],
   "source": [
    "print(papers.head())"
   ]
  },
  {
   "cell_type": "markdown",
   "id": "1df6cde2",
   "metadata": {
    "id": "O9Pgo-HF7sNV",
    "papermill": {
     "duration": 0.019761,
     "end_time": "2024-11-26T05:24:07.203686",
     "exception": false,
     "start_time": "2024-11-26T05:24:07.183925",
     "status": "completed"
    },
    "tags": []
   },
   "source": [
    "Now we display a sample of the `papers` DataFrame. The DataFrame includes the `paper_id`\n",
    "and the `subject` columns, as well as 1,433 binary column representing whether a term exists\n",
    "in the paper or not."
   ]
  },
  {
   "cell_type": "code",
   "execution_count": 11,
   "id": "91709dc0",
   "metadata": {
    "execution": {
     "iopub.execute_input": "2024-11-26T05:24:07.244676Z",
     "iopub.status.busy": "2024-11-26T05:24:07.244295Z",
     "iopub.status.idle": "2024-11-26T05:24:07.257394Z",
     "shell.execute_reply": "2024-11-26T05:24:07.256296Z"
    },
    "id": "f7iSIKrz7sNW",
    "papermill": {
     "duration": 0.036046,
     "end_time": "2024-11-26T05:24:07.259452",
     "exception": false,
     "start_time": "2024-11-26T05:24:07.223406",
     "status": "completed"
    },
    "tags": []
   },
   "outputs": [
    {
     "name": "stdout",
     "output_type": "stream",
     "text": [
      "             15111     16829     8478      15789     6495 \n",
      "paper_id  17379048  15369805  15284064  15914522  10088625\n",
      "term_0           0         0         1         0         0\n",
      "term_1           0         0         0         0         0\n",
      "term_2           0         1         0         0         1\n",
      "term_3           0         0         0         0         1\n",
      "...            ...       ...       ...       ...       ...\n",
      "term_496         0         0         0         0         0\n",
      "term_497         0         0         0         0         0\n",
      "term_498         0         0         0         0         0\n",
      "term_499         0         0         0         0         0\n",
      "subject          3         3         1         2         3\n",
      "\n",
      "[502 rows x 5 columns]\n"
     ]
    }
   ],
   "source": [
    "print(papers.sample(5).T)"
   ]
  },
  {
   "cell_type": "markdown",
   "id": "d12500a3",
   "metadata": {
    "id": "vsnxX-gh7sNW",
    "papermill": {
     "duration": 0.019422,
     "end_time": "2024-11-26T05:24:07.298554",
     "exception": false,
     "start_time": "2024-11-26T05:24:07.279132",
     "status": "completed"
    },
    "tags": []
   },
   "source": [
    "Let's display the count of the papers in each subject."
   ]
  },
  {
   "cell_type": "code",
   "execution_count": 12,
   "id": "80f73fac",
   "metadata": {
    "execution": {
     "iopub.execute_input": "2024-11-26T05:24:07.340017Z",
     "iopub.status.busy": "2024-11-26T05:24:07.339309Z",
     "iopub.status.idle": "2024-11-26T05:24:07.351760Z",
     "shell.execute_reply": "2024-11-26T05:24:07.350489Z"
    },
    "id": "QrhKp1fG7sNW",
    "papermill": {
     "duration": 0.0354,
     "end_time": "2024-11-26T05:24:07.353827",
     "exception": false,
     "start_time": "2024-11-26T05:24:07.318427",
     "status": "completed"
    },
    "tags": []
   },
   "outputs": [
    {
     "name": "stdout",
     "output_type": "stream",
     "text": [
      "subject\n",
      "2    7875\n",
      "3    7739\n",
      "1    4103\n",
      "Name: count, dtype: int64\n"
     ]
    }
   ],
   "source": [
    "print(papers.subject.value_counts())"
   ]
  },
  {
   "cell_type": "markdown",
   "id": "df6d1966",
   "metadata": {
    "id": "UoSp--2U7sNX",
    "papermill": {
     "duration": 0.019684,
     "end_time": "2024-11-26T05:24:07.393515",
     "exception": false,
     "start_time": "2024-11-26T05:24:07.373831",
     "status": "completed"
    },
    "tags": []
   },
   "source": [
    "We convert the paper ids and the subjects into zero-based indices."
   ]
  },
  {
   "cell_type": "code",
   "execution_count": 13,
   "id": "fd4ba192",
   "metadata": {
    "execution": {
     "iopub.execute_input": "2024-11-26T05:24:07.435063Z",
     "iopub.status.busy": "2024-11-26T05:24:07.434346Z",
     "iopub.status.idle": "2024-11-26T05:24:07.525995Z",
     "shell.execute_reply": "2024-11-26T05:24:07.524760Z"
    },
    "id": "1Dkk44Qg7sNX",
    "papermill": {
     "duration": 0.114884,
     "end_time": "2024-11-26T05:24:07.528338",
     "exception": false,
     "start_time": "2024-11-26T05:24:07.413454",
     "status": "completed"
    },
    "tags": []
   },
   "outputs": [],
   "source": [
    "class_values = sorted(papers[\"subject\"].unique())\n",
    "class_idx = {name: id for id, name in enumerate(class_values)}\n",
    "paper_idx = {name: idx for idx, name in enumerate(sorted(papers[\"paper_id\"].unique()))}\n",
    "\n",
    "papers[\"paper_id\"] = papers[\"paper_id\"].apply(lambda name: paper_idx[name])\n",
    "citations[\"source\"] = citations[\"source\"].apply(lambda name: paper_idx[name])\n",
    "citations[\"target\"] = citations[\"target\"].apply(lambda name: paper_idx[name])\n",
    "papers[\"subject\"] = papers[\"subject\"].apply(lambda value: class_idx[value])"
   ]
  },
  {
   "cell_type": "markdown",
   "id": "8823fa2c",
   "metadata": {
    "id": "dxdiCQKu7sNY",
    "papermill": {
     "duration": 0.019655,
     "end_time": "2024-11-26T05:24:07.621706",
     "exception": false,
     "start_time": "2024-11-26T05:24:07.602051",
     "status": "completed"
    },
    "tags": []
   },
   "source": [
    "Now let's visualize the citation graph. Each node in the graph represents a paper,\n",
    "and the color of the node corresponds to its subject. Note that we only show a sample of\n",
    "the papers in the dataset."
   ]
  },
  {
   "cell_type": "markdown",
   "id": "2d3eeaf8",
   "metadata": {
    "papermill": {
     "duration": 0.020241,
     "end_time": "2024-11-26T05:24:07.662084",
     "exception": false,
     "start_time": "2024-11-26T05:24:07.641843",
     "status": "completed"
    },
    "tags": []
   },
   "source": [
    "# **VIS1**"
   ]
  },
  {
   "cell_type": "code",
   "execution_count": 14,
   "id": "79c5d4d1",
   "metadata": {
    "execution": {
     "iopub.execute_input": "2024-11-26T05:24:07.704651Z",
     "iopub.status.busy": "2024-11-26T05:24:07.704214Z",
     "iopub.status.idle": "2024-11-26T05:24:07.710149Z",
     "shell.execute_reply": "2024-11-26T05:24:07.708895Z"
    },
    "papermill": {
     "duration": 0.029785,
     "end_time": "2024-11-26T05:24:07.712473",
     "exception": false,
     "start_time": "2024-11-26T05:24:07.682688",
     "status": "completed"
    },
    "tags": []
   },
   "outputs": [],
   "source": [
    "\n",
    "# #A more visually appealing Graph #Megha\n",
    "# import matplotlib.pyplot as plt\n",
    "# import networkx as nx\n",
    "# import seaborn as sns\n",
    "\n",
    "# # Increase the figure size to accommodate the larger graph\n",
    "# plt.figure(figsize=(15, 15))\n",
    "\n",
    "# # Create the graph from a sample of the citations\n",
    "# cora_graph = nx.from_pandas_edgelist(citations.sample(n=1500))\n",
    "\n",
    "# # Get the subjects for the sampled nodes\n",
    "# subjects = papers[papers[\"paper_id\"].isin(cora_graph.nodes())][\"subject\"]\n",
    "\n",
    "# # Create a color palette based on unique subjects\n",
    "# unique_subjects = list(papers[\"subject\"].unique())\n",
    "# palette = sns.color_palette(\"husl\", len(unique_subjects))  # Seaborn color palette\n",
    "# color_map = dict(zip(unique_subjects, palette))  # Map subjects to colors\n",
    "# node_colors = [color_map[subj] for subj in subjects]\n",
    "\n",
    "# # Calculate node degrees to scale node sizes (optional)\n",
    "# degrees = dict(nx.degree(cora_graph))\n",
    "# node_sizes = [degrees[node] * 5 for node in cora_graph.nodes()]  # Adjust size scale\n",
    "\n",
    "# # Plot the graph using a spring layout\n",
    "# pos = nx.spring_layout(cora_graph, k=0.1, iterations=50)  # k and iterations adjusted for larger graphs\n",
    "# nx.draw_networkx_edges(cora_graph, pos, alpha=0.1)  # Add transparency to edges\n",
    "# nx.draw_networkx_nodes(cora_graph, pos, node_size=node_sizes, node_color=node_colors, cmap=plt.cm.viridis)\n",
    "\n",
    "# # Add a legend for the subject categories\n",
    "# for subject, color in color_map.items():\n",
    "#     plt.scatter([], [], c=[color], label=subject)\n",
    "# plt.legend(scatterpoints=1, frameon=False, title=\"Subjects\", loc=\"best\", fontsize=12)\n",
    "\n",
    "# # Hide axis for a cleaner look\n",
    "# plt.axis('off')\n",
    "\n",
    "# plt.show()"
   ]
  },
  {
   "cell_type": "code",
   "execution_count": 15,
   "id": "2aade39e",
   "metadata": {
    "execution": {
     "iopub.execute_input": "2024-11-26T05:24:07.754683Z",
     "iopub.status.busy": "2024-11-26T05:24:07.754259Z",
     "iopub.status.idle": "2024-11-26T05:24:07.758996Z",
     "shell.execute_reply": "2024-11-26T05:24:07.757895Z"
    },
    "id": "FyOrWdoW7sNY",
    "papermill": {
     "duration": 0.02835,
     "end_time": "2024-11-26T05:24:07.761164",
     "exception": false,
     "start_time": "2024-11-26T05:24:07.732814",
     "status": "completed"
    },
    "tags": []
   },
   "outputs": [],
   "source": [
    "# degrees = [cora_graph.degree(n) for n in cora_graph.nodes]\n",
    "# plt.hist(degrees, bins=10)\n",
    "# plt.title(\"Degree Distribution\")\n",
    "# plt.xlabel(\"Degree\")\n",
    "# plt.ylabel(\"Frequency\")\n",
    "# plt.show()"
   ]
  },
  {
   "cell_type": "code",
   "execution_count": 16,
   "id": "4c092a86",
   "metadata": {
    "execution": {
     "iopub.execute_input": "2024-11-26T05:24:07.803917Z",
     "iopub.status.busy": "2024-11-26T05:24:07.803481Z",
     "iopub.status.idle": "2024-11-26T05:24:07.808435Z",
     "shell.execute_reply": "2024-11-26T05:24:07.807330Z"
    },
    "papermill": {
     "duration": 0.028423,
     "end_time": "2024-11-26T05:24:07.810690",
     "exception": false,
     "start_time": "2024-11-26T05:24:07.782267",
     "status": "completed"
    },
    "tags": []
   },
   "outputs": [],
   "source": [
    "# centrality = nx.degree_centrality(cora_graph)\n",
    "# centrality_values = list(centrality.values())\n",
    "\n",
    "# plt.hist(centrality_values, bins=50)\n",
    "# plt.title(\"Degree Centrality Distribution\")\n",
    "# plt.xlabel(\"Centrality\")\n",
    "# plt.ylabel(\"Frequency\")\n",
    "# plt.show()\n"
   ]
  },
  {
   "cell_type": "markdown",
   "id": "b285d788",
   "metadata": {
    "papermill": {
     "duration": 0.019954,
     "end_time": "2024-11-26T05:24:07.851875",
     "exception": false,
     "start_time": "2024-11-26T05:24:07.831921",
     "status": "completed"
    },
    "tags": []
   },
   "source": [
    "# **VIS2**"
   ]
  },
  {
   "cell_type": "code",
   "execution_count": 17,
   "id": "882dd9da",
   "metadata": {
    "execution": {
     "iopub.execute_input": "2024-11-26T05:24:07.893652Z",
     "iopub.status.busy": "2024-11-26T05:24:07.893186Z",
     "iopub.status.idle": "2024-11-26T05:24:07.898678Z",
     "shell.execute_reply": "2024-11-26T05:24:07.897469Z"
    },
    "papermill": {
     "duration": 0.029076,
     "end_time": "2024-11-26T05:24:07.901070",
     "exception": false,
     "start_time": "2024-11-26T05:24:07.871994",
     "status": "completed"
    },
    "tags": []
   },
   "outputs": [],
   "source": [
    "# plt.figure(figsize=(8, 6))\n",
    "# papers['subject'].value_counts().plot(kind='bar', color='skyblue')\n",
    "# plt.title(\"Class Distribution of Papers\")\n",
    "# plt.xlabel(\"Subject\")\n",
    "# plt.ylabel(\"Count\")\n",
    "# plt.show()"
   ]
  },
  {
   "cell_type": "code",
   "execution_count": 18,
   "id": "35e1293b",
   "metadata": {
    "execution": {
     "iopub.execute_input": "2024-11-26T05:24:07.944190Z",
     "iopub.status.busy": "2024-11-26T05:24:07.943789Z",
     "iopub.status.idle": "2024-11-26T05:24:07.948850Z",
     "shell.execute_reply": "2024-11-26T05:24:07.947741Z"
    },
    "papermill": {
     "duration": 0.028655,
     "end_time": "2024-11-26T05:24:07.951040",
     "exception": false,
     "start_time": "2024-11-26T05:24:07.922385",
     "status": "completed"
    },
    "tags": []
   },
   "outputs": [],
   "source": [
    "# ## Visualize the local clustering coefficient, which measures how close a node’s \n",
    "# ## neighbors are to forming a complete graph (i.e., how interconnected they are).\n",
    "\n",
    "# clustering_coeffs = nx.clustering(cora_graph)\n",
    "# plt.hist(clustering_coeffs.values(), bins=10)\n",
    "# plt.title(\"Clustering Coefficient Distribution\")\n",
    "# plt.xlabel(\"Clustering Coefficient\")\n",
    "# plt.ylabel(\"Frequency\")\n",
    "# plt.show()\n"
   ]
  },
  {
   "cell_type": "code",
   "execution_count": null,
   "id": "fbe219f9",
   "metadata": {
    "papermill": {
     "duration": 0.01979,
     "end_time": "2024-11-26T05:24:07.990902",
     "exception": false,
     "start_time": "2024-11-26T05:24:07.971112",
     "status": "completed"
    },
    "tags": []
   },
   "outputs": [],
   "source": []
  },
  {
   "cell_type": "markdown",
   "id": "de7f2505",
   "metadata": {
    "papermill": {
     "duration": 0.019839,
     "end_time": "2024-11-26T05:24:08.030731",
     "exception": false,
     "start_time": "2024-11-26T05:24:08.010892",
     "status": "completed"
    },
    "tags": []
   },
   "source": [
    "# **VIS3**"
   ]
  },
  {
   "cell_type": "code",
   "execution_count": 19,
   "id": "88d35ec7",
   "metadata": {
    "execution": {
     "iopub.execute_input": "2024-11-26T05:24:08.072574Z",
     "iopub.status.busy": "2024-11-26T05:24:08.072156Z",
     "iopub.status.idle": "2024-11-26T05:24:08.077445Z",
     "shell.execute_reply": "2024-11-26T05:24:08.076317Z"
    },
    "papermill": {
     "duration": 0.028806,
     "end_time": "2024-11-26T05:24:08.079678",
     "exception": false,
     "start_time": "2024-11-26T05:24:08.050872",
     "status": "completed"
    },
    "tags": []
   },
   "outputs": [],
   "source": [
    "# ## Plot the distribution of the shortest path lengths between nodes, which can reveal how interconnected the graph is.\n",
    "# path_lengths = dict(nx.shortest_path_length(cora_graph))\n",
    "# all_lengths = [length for source in path_lengths for length in path_lengths[source].values()]\n",
    "\n",
    "# plt.hist(all_lengths, bins=100)\n",
    "# plt.title(\"Shortest Path Length Distribution\")\n",
    "# plt.xlabel(\"Path Length\")\n",
    "# plt.ylabel(\"Frequency\")\n",
    "# plt.show()"
   ]
  },
  {
   "cell_type": "code",
   "execution_count": 20,
   "id": "136e8018",
   "metadata": {
    "execution": {
     "iopub.execute_input": "2024-11-26T05:24:08.123381Z",
     "iopub.status.busy": "2024-11-26T05:24:08.122929Z",
     "iopub.status.idle": "2024-11-26T05:24:08.127715Z",
     "shell.execute_reply": "2024-11-26T05:24:08.126616Z"
    },
    "papermill": {
     "duration": 0.030086,
     "end_time": "2024-11-26T05:24:08.129926",
     "exception": false,
     "start_time": "2024-11-26T05:24:08.099840",
     "status": "completed"
    },
    "tags": []
   },
   "outputs": [],
   "source": [
    "# density = nx.density(cora_graph)\n",
    "# print(f\"Graph Density: {density:.4f}\")"
   ]
  },
  {
   "cell_type": "code",
   "execution_count": 21,
   "id": "3ffa0ade",
   "metadata": {
    "execution": {
     "iopub.execute_input": "2024-11-26T05:24:08.182894Z",
     "iopub.status.busy": "2024-11-26T05:24:08.182527Z",
     "iopub.status.idle": "2024-11-26T05:24:08.187357Z",
     "shell.execute_reply": "2024-11-26T05:24:08.186259Z"
    },
    "papermill": {
     "duration": 0.029391,
     "end_time": "2024-11-26T05:24:08.189586",
     "exception": false,
     "start_time": "2024-11-26T05:24:08.160195",
     "status": "completed"
    },
    "tags": []
   },
   "outputs": [],
   "source": [
    "\n",
    "# papers['subject'].map(subject_mapping)\n",
    "# papers['subject']\n",
    "# papers['subject_numeric']"
   ]
  },
  {
   "cell_type": "markdown",
   "id": "31ce7f7d",
   "metadata": {
    "papermill": {
     "duration": 0.020185,
     "end_time": "2024-11-26T05:24:08.230026",
     "exception": false,
     "start_time": "2024-11-26T05:24:08.209841",
     "status": "completed"
    },
    "tags": []
   },
   "source": [
    "# **VIS4**"
   ]
  },
  {
   "cell_type": "code",
   "execution_count": 22,
   "id": "379e4148",
   "metadata": {
    "execution": {
     "iopub.execute_input": "2024-11-26T05:24:08.272155Z",
     "iopub.status.busy": "2024-11-26T05:24:08.271772Z",
     "iopub.status.idle": "2024-11-26T05:24:08.277096Z",
     "shell.execute_reply": "2024-11-26T05:24:08.276012Z"
    },
    "papermill": {
     "duration": 0.028902,
     "end_time": "2024-11-26T05:24:08.279376",
     "exception": false,
     "start_time": "2024-11-26T05:24:08.250474",
     "status": "completed"
    },
    "tags": []
   },
   "outputs": [],
   "source": [
    "# from sklearn.manifold import TSNE\n",
    "\n",
    "# # Assuming 'features' is the node feature matrix from the earlier processing\n",
    "# tsne = TSNE(n_components=2, random_state=42)\n",
    "# node_embeddings_2d = tsne.fit_transform(papers.iloc[:, 1:-1].values)\n",
    "\n",
    "# subject_mapping = {subject: idx for idx, subject in enumerate(class_values)}\n",
    "# papers['subject_numeric'] = papers['subject'].map(subject_mapping)\n",
    "# papers['subject_numeric'] = papers['subject_numeric'].fillna(2.0)\n",
    "\n",
    "# plt.figure(figsize=(8, 6))\n",
    "# plt.scatter(node_embeddings_2d[:, 0], node_embeddings_2d[:, 1], c=papers['subject_numeric'], cmap='jet', s=10)\n",
    "# plt.title(\"t-SNE Node Embeddings\")\n",
    "# plt.colorbar(ticks=range(len(class_values)), label='Subject')\n",
    "# plt.clim(-0.5, len(class_values) - 0.5)  # Adjust color limits to match subject range\n",
    "# plt.xticks(fontsize=8)\n",
    "# plt.yticks(fontsize=8)\n",
    "# plt.show()"
   ]
  },
  {
   "cell_type": "code",
   "execution_count": 23,
   "id": "b829f3c1",
   "metadata": {
    "execution": {
     "iopub.execute_input": "2024-11-26T05:24:08.321433Z",
     "iopub.status.busy": "2024-11-26T05:24:08.320661Z",
     "iopub.status.idle": "2024-11-26T05:24:08.325422Z",
     "shell.execute_reply": "2024-11-26T05:24:08.324368Z"
    },
    "papermill": {
     "duration": 0.028281,
     "end_time": "2024-11-26T05:24:08.327629",
     "exception": false,
     "start_time": "2024-11-26T05:24:08.299348",
     "status": "completed"
    },
    "tags": []
   },
   "outputs": [],
   "source": [
    "# plt.figure(figsize=(10, 10))\n",
    "# plt.scatter(node_embeddings_2d[:, 0], node_embeddings_2d[:, 1], c=papers['subject_numeric'], cmap='jet', s=10)\n",
    "# plt.title(\"Node Embeddings Colored by Subject\")\n",
    "# plt.colorbar(ticks=range(len(class_values)), label='Subject')\n",
    "# plt.clim(-0.5, len(class_values) - 0.5)\n",
    "# plt.xticks(fontsize=8)\n",
    "# plt.yticks(fontsize=8)\n",
    "# plt.show()"
   ]
  },
  {
   "cell_type": "code",
   "execution_count": 24,
   "id": "88a99dcd",
   "metadata": {
    "execution": {
     "iopub.execute_input": "2024-11-26T05:24:08.369680Z",
     "iopub.status.busy": "2024-11-26T05:24:08.369256Z",
     "iopub.status.idle": "2024-11-26T05:24:08.374243Z",
     "shell.execute_reply": "2024-11-26T05:24:08.373213Z"
    },
    "papermill": {
     "duration": 0.028803,
     "end_time": "2024-11-26T05:24:08.376679",
     "exception": false,
     "start_time": "2024-11-26T05:24:08.347876",
     "status": "completed"
    },
    "tags": []
   },
   "outputs": [],
   "source": [
    "# subject_degrees = pd.DataFrame({\n",
    "#     'degree': [cora_graph.degree(node) for node in cora_graph.nodes()],\n",
    "#     'subject': [\n",
    "#         papers.loc[papers['paper_id'] == node, 'subject'].values[0] if not papers.loc[papers['paper_id'] == node, 'subject'].empty else None\n",
    "#         for node in cora_graph.nodes()\n",
    "#     ]\n",
    "# })\n",
    "\n",
    "# plt.figure(figsize=(12, 6))\n",
    "# sns.boxplot(x='subject', y='degree', data=subject_degrees)\n",
    "# plt.title(\"Node Degree Distribution by Subject\")\n",
    "# plt.xticks(rotation=45)\n",
    "# plt.show()"
   ]
  },
  {
   "cell_type": "markdown",
   "id": "6535d2f5",
   "metadata": {
    "papermill": {
     "duration": 0.019902,
     "end_time": "2024-11-26T05:24:08.416762",
     "exception": false,
     "start_time": "2024-11-26T05:24:08.396860",
     "status": "completed"
    },
    "tags": []
   },
   "source": [
    "# **VIS5**"
   ]
  },
  {
   "cell_type": "code",
   "execution_count": 25,
   "id": "a14813e1",
   "metadata": {
    "execution": {
     "iopub.execute_input": "2024-11-26T05:24:08.459803Z",
     "iopub.status.busy": "2024-11-26T05:24:08.459126Z",
     "iopub.status.idle": "2024-11-26T05:24:08.465598Z",
     "shell.execute_reply": "2024-11-26T05:24:08.464158Z"
    },
    "papermill": {
     "duration": 0.031751,
     "end_time": "2024-11-26T05:24:08.468502",
     "exception": false,
     "start_time": "2024-11-26T05:24:08.436751",
     "status": "completed"
    },
    "tags": []
   },
   "outputs": [],
   "source": [
    "# import seaborn as sns\n",
    "# import pandas as pd\n",
    "\n",
    "# # Create a DataFrame for the embeddings\n",
    "# embedding_df = pd.DataFrame(node_embeddings_2d, columns=['Dim1', 'Dim2'])\n",
    "# embedding_df['subject'] = papers['subject'].map(subject_mapping)\n",
    "# embedding_df['subject'] = embedding_df['subject'].fillna(2.0)\n",
    "\n",
    "# sns.pairplot(embedding_df, hue='subject', palette='viridis')\n",
    "# plt.suptitle(\"Pair Plot of Node Embeddings\", y=1.02)\n",
    "# plt.show()"
   ]
  },
  {
   "cell_type": "markdown",
   "id": "2a54ef1f",
   "metadata": {
    "papermill": {
     "duration": 0.019971,
     "end_time": "2024-11-26T05:24:08.511369",
     "exception": false,
     "start_time": "2024-11-26T05:24:08.491398",
     "status": "completed"
    },
    "tags": []
   },
   "source": [
    "### Split the dataset into stratified train and test sets"
   ]
  },
  {
   "cell_type": "code",
   "execution_count": 26,
   "id": "9b99f0bc",
   "metadata": {
    "execution": {
     "iopub.execute_input": "2024-11-26T05:24:08.553914Z",
     "iopub.status.busy": "2024-11-26T05:24:08.553453Z",
     "iopub.status.idle": "2024-11-26T05:24:08.760605Z",
     "shell.execute_reply": "2024-11-26T05:24:08.759419Z"
    },
    "id": "LPN8A2AI7sNZ",
    "papermill": {
     "duration": 0.231681,
     "end_time": "2024-11-26T05:24:08.762826",
     "exception": false,
     "start_time": "2024-11-26T05:24:08.531145",
     "status": "completed"
    },
    "tags": []
   },
   "outputs": [
    {
     "name": "stdout",
     "output_type": "stream",
     "text": [
      "Train data shape: (9810, 502)\n",
      "Test data shape: (9907, 502)\n"
     ]
    }
   ],
   "source": [
    "train_data, test_data = [], []\n",
    "\n",
    "for _, group_data in papers.groupby(\"subject\"):\n",
    "    # Select around 50% of the dataset for training.\n",
    "    random_selection = np.random.rand(len(group_data.index)) <= 0.5\n",
    "    train_data.append(group_data[random_selection])\n",
    "    test_data.append(group_data[~random_selection])\n",
    "\n",
    "train_data = pd.concat(train_data).sample(frac=1)\n",
    "test_data = pd.concat(test_data).sample(frac=1)\n",
    "\n",
    "print(\"Train data shape:\", train_data.shape)\n",
    "print(\"Test data shape:\", test_data.shape)"
   ]
  },
  {
   "cell_type": "markdown",
   "id": "f243b0b7",
   "metadata": {
    "id": "tNPZzBva7sNZ",
    "papermill": {
     "duration": 0.021561,
     "end_time": "2024-11-26T05:24:08.806602",
     "exception": false,
     "start_time": "2024-11-26T05:24:08.785041",
     "status": "completed"
    },
    "tags": []
   },
   "source": [
    "## Implement Train and Evaluate Experiment"
   ]
  },
  {
   "cell_type": "code",
   "execution_count": 27,
   "id": "bf2f0768",
   "metadata": {
    "execution": {
     "iopub.execute_input": "2024-11-26T05:24:08.849317Z",
     "iopub.status.busy": "2024-11-26T05:24:08.848903Z",
     "iopub.status.idle": "2024-11-26T05:24:08.853933Z",
     "shell.execute_reply": "2024-11-26T05:24:08.852984Z"
    },
    "id": "7sjdLKAm7sNZ",
    "papermill": {
     "duration": 0.028678,
     "end_time": "2024-11-26T05:24:08.856132",
     "exception": false,
     "start_time": "2024-11-26T05:24:08.827454",
     "status": "completed"
    },
    "tags": []
   },
   "outputs": [],
   "source": [
    "hidden_units = [32, 32]\n",
    "learning_rate = 0.01\n",
    "dropout_rate = 0.5\n",
    "num_epochs = 40\n",
    "batch_size = 256"
   ]
  },
  {
   "cell_type": "markdown",
   "id": "9d64fef5",
   "metadata": {
    "id": "DGMAGtfz7sNa",
    "papermill": {
     "duration": 0.021026,
     "end_time": "2024-11-26T05:24:08.897938",
     "exception": false,
     "start_time": "2024-11-26T05:24:08.876912",
     "status": "completed"
    },
    "tags": []
   },
   "source": [
    "This function compiles and trains an input model using the given training data."
   ]
  },
  {
   "cell_type": "code",
   "execution_count": 28,
   "id": "1e63ca09",
   "metadata": {
    "execution": {
     "iopub.execute_input": "2024-11-26T05:24:08.941467Z",
     "iopub.status.busy": "2024-11-26T05:24:08.941030Z",
     "iopub.status.idle": "2024-11-26T05:24:08.948187Z",
     "shell.execute_reply": "2024-11-26T05:24:08.946958Z"
    },
    "id": "nZJeph2E7sNa",
    "papermill": {
     "duration": 0.03134,
     "end_time": "2024-11-26T05:24:08.950344",
     "exception": false,
     "start_time": "2024-11-26T05:24:08.919004",
     "status": "completed"
    },
    "tags": []
   },
   "outputs": [],
   "source": [
    "\n",
    "def run_experiment(model, x_train, y_train):\n",
    "    #Compile the model.\n",
    "    model.compile(\n",
    "        optimizer=keras.optimizers.SGD(learning_rate),\n",
    "        loss=keras.losses.SparseCategoricalCrossentropy(from_logits=True),\n",
    "        metrics=[keras.metrics.SparseCategoricalAccuracy(name=\"acc\")],\n",
    "    )\n",
    "    #model.compile(optimizer='adam', loss='categorical_crossentropy', metrics=['accuracy'])\n",
    "    # Create an early stopping callback.\n",
    "    early_stopping = keras.callbacks.EarlyStopping(\n",
    "        monitor=\"val_acc\", patience=50, restore_best_weights=True\n",
    "    )\n",
    "    # Fit the model.\n",
    "    history = model.fit(\n",
    "        x=x_train,\n",
    "        y=y_train,\n",
    "        epochs=num_epochs,\n",
    "        batch_size=batch_size,\n",
    "        validation_split=0.15,\n",
    "        callbacks=[early_stopping],\n",
    "    )\n",
    "\n",
    "    return history\n"
   ]
  },
  {
   "cell_type": "markdown",
   "id": "eeda618d",
   "metadata": {
    "id": "JLSe8SUZ7sNa",
    "papermill": {
     "duration": 0.020328,
     "end_time": "2024-11-26T05:24:08.991042",
     "exception": false,
     "start_time": "2024-11-26T05:24:08.970714",
     "status": "completed"
    },
    "tags": []
   },
   "source": [
    "This function displays the loss and accuracy curves of the model during training."
   ]
  },
  {
   "cell_type": "code",
   "execution_count": 29,
   "id": "e12c2518",
   "metadata": {
    "execution": {
     "iopub.execute_input": "2024-11-26T05:24:09.033982Z",
     "iopub.status.busy": "2024-11-26T05:24:09.033580Z",
     "iopub.status.idle": "2024-11-26T05:24:09.040319Z",
     "shell.execute_reply": "2024-11-26T05:24:09.039400Z"
    },
    "id": "7v1wfoUy7sNa",
    "papermill": {
     "duration": 0.030338,
     "end_time": "2024-11-26T05:24:09.042338",
     "exception": false,
     "start_time": "2024-11-26T05:24:09.012000",
     "status": "completed"
    },
    "tags": []
   },
   "outputs": [],
   "source": [
    "\n",
    "def display_learning_curves(history):\n",
    "    fig, (ax1, ax2) = plt.subplots(1, 2, figsize=(15, 5))\n",
    "\n",
    "    ax1.plot(history.history[\"loss\"])\n",
    "    ax1.plot(history.history[\"val_loss\"])\n",
    "    ax1.legend([\"train\", \"test\"], loc=\"upper right\")\n",
    "    ax1.set_xlabel(\"Epochs\")\n",
    "    ax1.set_ylabel(\"Loss\")\n",
    "\n",
    "    ax2.plot(history.history[\"acc\"])\n",
    "    ax2.plot(history.history[\"val_acc\"])\n",
    "    ax2.legend([\"train\", \"test\"], loc=\"upper right\")\n",
    "    ax2.set_xlabel(\"Epochs\")\n",
    "    ax2.set_ylabel(\"Accuracy\")\n",
    "    plt.show()\n"
   ]
  },
  {
   "cell_type": "markdown",
   "id": "631a0fc7",
   "metadata": {
    "id": "gOydB3TT7sNb",
    "papermill": {
     "duration": 0.01944,
     "end_time": "2024-11-26T05:24:09.081651",
     "exception": false,
     "start_time": "2024-11-26T05:24:09.062211",
     "status": "completed"
    },
    "tags": []
   },
   "source": [
    "## Implement Feedforward Network (FFN) Module\n",
    "\n",
    "We will use this module in the baseline and the GNN models."
   ]
  },
  {
   "cell_type": "code",
   "execution_count": 30,
   "id": "b1e439c2",
   "metadata": {
    "execution": {
     "iopub.execute_input": "2024-11-26T05:24:09.122995Z",
     "iopub.status.busy": "2024-11-26T05:24:09.122550Z",
     "iopub.status.idle": "2024-11-26T05:24:09.128411Z",
     "shell.execute_reply": "2024-11-26T05:24:09.127321Z"
    },
    "id": "uB7QMVdu7sNb",
    "papermill": {
     "duration": 0.029046,
     "end_time": "2024-11-26T05:24:09.130615",
     "exception": false,
     "start_time": "2024-11-26T05:24:09.101569",
     "status": "completed"
    },
    "tags": []
   },
   "outputs": [],
   "source": [
    "\n",
    "def create_ffn(hidden_units, dropout_rate, name=None):\n",
    "    fnn_layers = []\n",
    "\n",
    "    for units in hidden_units:\n",
    "        fnn_layers.append(layers.BatchNormalization())\n",
    "        fnn_layers.append(layers.Dropout(dropout_rate))\n",
    "        fnn_layers.append(layers.Dense(units, activation=tf.nn.gelu))\n",
    "\n",
    "    return keras.Sequential(fnn_layers, name=name)\n"
   ]
  },
  {
   "cell_type": "markdown",
   "id": "f6bdf3ec",
   "metadata": {
    "id": "UKrHHBax7sNb",
    "papermill": {
     "duration": 0.020353,
     "end_time": "2024-11-26T05:24:09.170927",
     "exception": false,
     "start_time": "2024-11-26T05:24:09.150574",
     "status": "completed"
    },
    "tags": []
   },
   "source": [
    "## Build a Baseline Neural Network Model\n",
    "\n",
    "### Prepare the data for the baseline model"
   ]
  },
  {
   "cell_type": "code",
   "execution_count": 31,
   "id": "340b252c",
   "metadata": {
    "execution": {
     "iopub.execute_input": "2024-11-26T05:24:09.212054Z",
     "iopub.status.busy": "2024-11-26T05:24:09.211608Z",
     "iopub.status.idle": "2024-11-26T05:24:09.247438Z",
     "shell.execute_reply": "2024-11-26T05:24:09.246119Z"
    },
    "id": "a-XtWFZS7sNb",
    "papermill": {
     "duration": 0.059395,
     "end_time": "2024-11-26T05:24:09.250007",
     "exception": false,
     "start_time": "2024-11-26T05:24:09.190612",
     "status": "completed"
    },
    "tags": []
   },
   "outputs": [],
   "source": [
    "# Convert the set to a list for indexing\n",
    "feature_names = list(set(papers.columns) - {\"paper_id\", \"subject\"})\n",
    "num_features = len(feature_names)\n",
    "num_classes = len(class_idx)\n",
    "\n",
    "# Create train and test features as a numpy array.\n",
    "train_data[feature_names].to_numpy()\n",
    "x_test = test_data[feature_names].to_numpy()\n",
    "\n",
    "# Create train and test targets as a numpy array.\n",
    "y_train = train_data[\"subject\"].to_numpy()\n",
    "y_test = test_data[\"subject\"].to_numpy()"
   ]
  },
  {
   "cell_type": "code",
   "execution_count": 32,
   "id": "85cb684f",
   "metadata": {
    "execution": {
     "iopub.execute_input": "2024-11-26T05:24:09.292409Z",
     "iopub.status.busy": "2024-11-26T05:24:09.291989Z",
     "iopub.status.idle": "2024-11-26T05:24:09.331829Z",
     "shell.execute_reply": "2024-11-26T05:24:09.330674Z"
    },
    "papermill": {
     "duration": 0.063654,
     "end_time": "2024-11-26T05:24:09.334503",
     "exception": false,
     "start_time": "2024-11-26T05:24:09.270849",
     "status": "completed"
    },
    "tags": []
   },
   "outputs": [],
   "source": [
    "# Define feature names as a list instead of a set\n",
    "feature_names = list(set(papers.columns) - {\"paper_id\", \"subject\"})  # Convert set to list\n",
    "num_features = len(feature_names)\n",
    "num_classes = len(class_idx)\n",
    "\n",
    "# Create train and test features as a numpy array\n",
    "x_train = train_data[feature_names].to_numpy()\n",
    "x_test = test_data[feature_names].to_numpy()\n",
    "\n",
    "# Create train and test targets as a numpy array\n",
    "y_train = train_data[\"subject\"].to_numpy()  # Convert targets to numpy array\n",
    "y_test = test_data[\"subject\"].to_numpy()    # Convert targets to numpy array"
   ]
  },
  {
   "cell_type": "markdown",
   "id": "52e3454b",
   "metadata": {
    "id": "R-tY8rjV7sNc",
    "papermill": {
     "duration": 0.019687,
     "end_time": "2024-11-26T05:24:09.374314",
     "exception": false,
     "start_time": "2024-11-26T05:24:09.354627",
     "status": "completed"
    },
    "tags": []
   },
   "source": [
    "### Implement a baseline classifier\n",
    "\n",
    "We add five FFN blocks with skip connections, so that we generate a baseline model with\n",
    "roughly the same number of parameters as the GNN models to be built later."
   ]
  },
  {
   "cell_type": "code",
   "execution_count": 33,
   "id": "b25608b5",
   "metadata": {
    "execution": {
     "iopub.execute_input": "2024-11-26T05:24:09.417407Z",
     "iopub.status.busy": "2024-11-26T05:24:09.416952Z",
     "iopub.status.idle": "2024-11-26T05:24:09.726981Z",
     "shell.execute_reply": "2024-11-26T05:24:09.725948Z"
    },
    "id": "jvAOsznO7sNc",
    "papermill": {
     "duration": 0.334081,
     "end_time": "2024-11-26T05:24:09.729008",
     "exception": false,
     "start_time": "2024-11-26T05:24:09.394927",
     "status": "completed"
    },
    "tags": []
   },
   "outputs": [
    {
     "data": {
      "text/html": [
       "<pre style=\"white-space:pre;overflow-x:auto;line-height:normal;font-family:Menlo,'DejaVu Sans Mono',consolas,'Courier New',monospace\"><span style=\"font-weight: bold\">Model: \"baseline\"</span>\n",
       "</pre>\n"
      ],
      "text/plain": [
       "\u001b[1mModel: \"baseline\"\u001b[0m\n"
      ]
     },
     "metadata": {},
     "output_type": "display_data"
    },
    {
     "data": {
      "text/html": [
       "<pre style=\"white-space:pre;overflow-x:auto;line-height:normal;font-family:Menlo,'DejaVu Sans Mono',consolas,'Courier New',monospace\">┏━━━━━━━━━━━━━━━━━━━━━┳━━━━━━━━━━━━━━━━━━━┳━━━━━━━━━━━━┳━━━━━━━━━━━━━━━━━━━┓\n",
       "┃<span style=\"font-weight: bold\"> Layer (type)        </span>┃<span style=\"font-weight: bold\"> Output Shape      </span>┃<span style=\"font-weight: bold\">    Param # </span>┃<span style=\"font-weight: bold\"> Connected to      </span>┃\n",
       "┡━━━━━━━━━━━━━━━━━━━━━╇━━━━━━━━━━━━━━━━━━━╇━━━━━━━━━━━━╇━━━━━━━━━━━━━━━━━━━┩\n",
       "│ input_features      │ (<span style=\"color: #00d7ff; text-decoration-color: #00d7ff\">None</span>, <span style=\"color: #00af00; text-decoration-color: #00af00\">500</span>)       │          <span style=\"color: #00af00; text-decoration-color: #00af00\">0</span> │ -                 │\n",
       "│ (<span style=\"color: #0087ff; text-decoration-color: #0087ff\">InputLayer</span>)        │                   │            │                   │\n",
       "├─────────────────────┼───────────────────┼────────────┼───────────────────┤\n",
       "│ ffn_block1          │ (<span style=\"color: #00d7ff; text-decoration-color: #00d7ff\">None</span>, <span style=\"color: #00af00; text-decoration-color: #00af00\">32</span>)        │     <span style=\"color: #00af00; text-decoration-color: #00af00\">19,216</span> │ input_features[<span style=\"color: #00af00; text-decoration-color: #00af00\">0</span>… │\n",
       "│ (<span style=\"color: #0087ff; text-decoration-color: #0087ff\">Sequential</span>)        │                   │            │                   │\n",
       "├─────────────────────┼───────────────────┼────────────┼───────────────────┤\n",
       "│ ffn_block2          │ (<span style=\"color: #00d7ff; text-decoration-color: #00d7ff\">None</span>, <span style=\"color: #00af00; text-decoration-color: #00af00\">32</span>)        │      <span style=\"color: #00af00; text-decoration-color: #00af00\">2,368</span> │ ffn_block1[<span style=\"color: #00af00; text-decoration-color: #00af00\">0</span>][<span style=\"color: #00af00; text-decoration-color: #00af00\">0</span>]  │\n",
       "│ (<span style=\"color: #0087ff; text-decoration-color: #0087ff\">Sequential</span>)        │                   │            │                   │\n",
       "├─────────────────────┼───────────────────┼────────────┼───────────────────┤\n",
       "│ skip_connection2    │ (<span style=\"color: #00d7ff; text-decoration-color: #00d7ff\">None</span>, <span style=\"color: #00af00; text-decoration-color: #00af00\">32</span>)        │          <span style=\"color: #00af00; text-decoration-color: #00af00\">0</span> │ ffn_block1[<span style=\"color: #00af00; text-decoration-color: #00af00\">0</span>][<span style=\"color: #00af00; text-decoration-color: #00af00\">0</span>], │\n",
       "│ (<span style=\"color: #0087ff; text-decoration-color: #0087ff\">Add</span>)               │                   │            │ ffn_block2[<span style=\"color: #00af00; text-decoration-color: #00af00\">0</span>][<span style=\"color: #00af00; text-decoration-color: #00af00\">0</span>]  │\n",
       "├─────────────────────┼───────────────────┼────────────┼───────────────────┤\n",
       "│ ffn_block3          │ (<span style=\"color: #00d7ff; text-decoration-color: #00d7ff\">None</span>, <span style=\"color: #00af00; text-decoration-color: #00af00\">32</span>)        │      <span style=\"color: #00af00; text-decoration-color: #00af00\">2,368</span> │ skip_connection2… │\n",
       "│ (<span style=\"color: #0087ff; text-decoration-color: #0087ff\">Sequential</span>)        │                   │            │                   │\n",
       "├─────────────────────┼───────────────────┼────────────┼───────────────────┤\n",
       "│ skip_connection3    │ (<span style=\"color: #00d7ff; text-decoration-color: #00d7ff\">None</span>, <span style=\"color: #00af00; text-decoration-color: #00af00\">32</span>)        │          <span style=\"color: #00af00; text-decoration-color: #00af00\">0</span> │ skip_connection2… │\n",
       "│ (<span style=\"color: #0087ff; text-decoration-color: #0087ff\">Add</span>)               │                   │            │ ffn_block3[<span style=\"color: #00af00; text-decoration-color: #00af00\">0</span>][<span style=\"color: #00af00; text-decoration-color: #00af00\">0</span>]  │\n",
       "├─────────────────────┼───────────────────┼────────────┼───────────────────┤\n",
       "│ ffn_block4          │ (<span style=\"color: #00d7ff; text-decoration-color: #00d7ff\">None</span>, <span style=\"color: #00af00; text-decoration-color: #00af00\">32</span>)        │      <span style=\"color: #00af00; text-decoration-color: #00af00\">2,368</span> │ skip_connection3… │\n",
       "│ (<span style=\"color: #0087ff; text-decoration-color: #0087ff\">Sequential</span>)        │                   │            │                   │\n",
       "├─────────────────────┼───────────────────┼────────────┼───────────────────┤\n",
       "│ skip_connection4    │ (<span style=\"color: #00d7ff; text-decoration-color: #00d7ff\">None</span>, <span style=\"color: #00af00; text-decoration-color: #00af00\">32</span>)        │          <span style=\"color: #00af00; text-decoration-color: #00af00\">0</span> │ skip_connection3… │\n",
       "│ (<span style=\"color: #0087ff; text-decoration-color: #0087ff\">Add</span>)               │                   │            │ ffn_block4[<span style=\"color: #00af00; text-decoration-color: #00af00\">0</span>][<span style=\"color: #00af00; text-decoration-color: #00af00\">0</span>]  │\n",
       "├─────────────────────┼───────────────────┼────────────┼───────────────────┤\n",
       "│ ffn_block5          │ (<span style=\"color: #00d7ff; text-decoration-color: #00d7ff\">None</span>, <span style=\"color: #00af00; text-decoration-color: #00af00\">32</span>)        │      <span style=\"color: #00af00; text-decoration-color: #00af00\">2,368</span> │ skip_connection4… │\n",
       "│ (<span style=\"color: #0087ff; text-decoration-color: #0087ff\">Sequential</span>)        │                   │            │                   │\n",
       "├─────────────────────┼───────────────────┼────────────┼───────────────────┤\n",
       "│ skip_connection5    │ (<span style=\"color: #00d7ff; text-decoration-color: #00d7ff\">None</span>, <span style=\"color: #00af00; text-decoration-color: #00af00\">32</span>)        │          <span style=\"color: #00af00; text-decoration-color: #00af00\">0</span> │ skip_connection4… │\n",
       "│ (<span style=\"color: #0087ff; text-decoration-color: #0087ff\">Add</span>)               │                   │            │ ffn_block5[<span style=\"color: #00af00; text-decoration-color: #00af00\">0</span>][<span style=\"color: #00af00; text-decoration-color: #00af00\">0</span>]  │\n",
       "├─────────────────────┼───────────────────┼────────────┼───────────────────┤\n",
       "│ logits (<span style=\"color: #0087ff; text-decoration-color: #0087ff\">Dense</span>)      │ (<span style=\"color: #00d7ff; text-decoration-color: #00d7ff\">None</span>, <span style=\"color: #00af00; text-decoration-color: #00af00\">3</span>)         │         <span style=\"color: #00af00; text-decoration-color: #00af00\">99</span> │ skip_connection5… │\n",
       "└─────────────────────┴───────────────────┴────────────┴───────────────────┘\n",
       "</pre>\n"
      ],
      "text/plain": [
       "┏━━━━━━━━━━━━━━━━━━━━━┳━━━━━━━━━━━━━━━━━━━┳━━━━━━━━━━━━┳━━━━━━━━━━━━━━━━━━━┓\n",
       "┃\u001b[1m \u001b[0m\u001b[1mLayer (type)       \u001b[0m\u001b[1m \u001b[0m┃\u001b[1m \u001b[0m\u001b[1mOutput Shape     \u001b[0m\u001b[1m \u001b[0m┃\u001b[1m \u001b[0m\u001b[1m   Param #\u001b[0m\u001b[1m \u001b[0m┃\u001b[1m \u001b[0m\u001b[1mConnected to     \u001b[0m\u001b[1m \u001b[0m┃\n",
       "┡━━━━━━━━━━━━━━━━━━━━━╇━━━━━━━━━━━━━━━━━━━╇━━━━━━━━━━━━╇━━━━━━━━━━━━━━━━━━━┩\n",
       "│ input_features      │ (\u001b[38;5;45mNone\u001b[0m, \u001b[38;5;34m500\u001b[0m)       │          \u001b[38;5;34m0\u001b[0m │ -                 │\n",
       "│ (\u001b[38;5;33mInputLayer\u001b[0m)        │                   │            │                   │\n",
       "├─────────────────────┼───────────────────┼────────────┼───────────────────┤\n",
       "│ ffn_block1          │ (\u001b[38;5;45mNone\u001b[0m, \u001b[38;5;34m32\u001b[0m)        │     \u001b[38;5;34m19,216\u001b[0m │ input_features[\u001b[38;5;34m0\u001b[0m… │\n",
       "│ (\u001b[38;5;33mSequential\u001b[0m)        │                   │            │                   │\n",
       "├─────────────────────┼───────────────────┼────────────┼───────────────────┤\n",
       "│ ffn_block2          │ (\u001b[38;5;45mNone\u001b[0m, \u001b[38;5;34m32\u001b[0m)        │      \u001b[38;5;34m2,368\u001b[0m │ ffn_block1[\u001b[38;5;34m0\u001b[0m][\u001b[38;5;34m0\u001b[0m]  │\n",
       "│ (\u001b[38;5;33mSequential\u001b[0m)        │                   │            │                   │\n",
       "├─────────────────────┼───────────────────┼────────────┼───────────────────┤\n",
       "│ skip_connection2    │ (\u001b[38;5;45mNone\u001b[0m, \u001b[38;5;34m32\u001b[0m)        │          \u001b[38;5;34m0\u001b[0m │ ffn_block1[\u001b[38;5;34m0\u001b[0m][\u001b[38;5;34m0\u001b[0m], │\n",
       "│ (\u001b[38;5;33mAdd\u001b[0m)               │                   │            │ ffn_block2[\u001b[38;5;34m0\u001b[0m][\u001b[38;5;34m0\u001b[0m]  │\n",
       "├─────────────────────┼───────────────────┼────────────┼───────────────────┤\n",
       "│ ffn_block3          │ (\u001b[38;5;45mNone\u001b[0m, \u001b[38;5;34m32\u001b[0m)        │      \u001b[38;5;34m2,368\u001b[0m │ skip_connection2… │\n",
       "│ (\u001b[38;5;33mSequential\u001b[0m)        │                   │            │                   │\n",
       "├─────────────────────┼───────────────────┼────────────┼───────────────────┤\n",
       "│ skip_connection3    │ (\u001b[38;5;45mNone\u001b[0m, \u001b[38;5;34m32\u001b[0m)        │          \u001b[38;5;34m0\u001b[0m │ skip_connection2… │\n",
       "│ (\u001b[38;5;33mAdd\u001b[0m)               │                   │            │ ffn_block3[\u001b[38;5;34m0\u001b[0m][\u001b[38;5;34m0\u001b[0m]  │\n",
       "├─────────────────────┼───────────────────┼────────────┼───────────────────┤\n",
       "│ ffn_block4          │ (\u001b[38;5;45mNone\u001b[0m, \u001b[38;5;34m32\u001b[0m)        │      \u001b[38;5;34m2,368\u001b[0m │ skip_connection3… │\n",
       "│ (\u001b[38;5;33mSequential\u001b[0m)        │                   │            │                   │\n",
       "├─────────────────────┼───────────────────┼────────────┼───────────────────┤\n",
       "│ skip_connection4    │ (\u001b[38;5;45mNone\u001b[0m, \u001b[38;5;34m32\u001b[0m)        │          \u001b[38;5;34m0\u001b[0m │ skip_connection3… │\n",
       "│ (\u001b[38;5;33mAdd\u001b[0m)               │                   │            │ ffn_block4[\u001b[38;5;34m0\u001b[0m][\u001b[38;5;34m0\u001b[0m]  │\n",
       "├─────────────────────┼───────────────────┼────────────┼───────────────────┤\n",
       "│ ffn_block5          │ (\u001b[38;5;45mNone\u001b[0m, \u001b[38;5;34m32\u001b[0m)        │      \u001b[38;5;34m2,368\u001b[0m │ skip_connection4… │\n",
       "│ (\u001b[38;5;33mSequential\u001b[0m)        │                   │            │                   │\n",
       "├─────────────────────┼───────────────────┼────────────┼───────────────────┤\n",
       "│ skip_connection5    │ (\u001b[38;5;45mNone\u001b[0m, \u001b[38;5;34m32\u001b[0m)        │          \u001b[38;5;34m0\u001b[0m │ skip_connection4… │\n",
       "│ (\u001b[38;5;33mAdd\u001b[0m)               │                   │            │ ffn_block5[\u001b[38;5;34m0\u001b[0m][\u001b[38;5;34m0\u001b[0m]  │\n",
       "├─────────────────────┼───────────────────┼────────────┼───────────────────┤\n",
       "│ logits (\u001b[38;5;33mDense\u001b[0m)      │ (\u001b[38;5;45mNone\u001b[0m, \u001b[38;5;34m3\u001b[0m)         │         \u001b[38;5;34m99\u001b[0m │ skip_connection5… │\n",
       "└─────────────────────┴───────────────────┴────────────┴───────────────────┘\n"
      ]
     },
     "metadata": {},
     "output_type": "display_data"
    },
    {
     "data": {
      "text/html": [
       "<pre style=\"white-space:pre;overflow-x:auto;line-height:normal;font-family:Menlo,'DejaVu Sans Mono',consolas,'Courier New',monospace\"><span style=\"font-weight: bold\"> Total params: </span><span style=\"color: #00af00; text-decoration-color: #00af00\">28,787</span> (112.45 KB)\n",
       "</pre>\n"
      ],
      "text/plain": [
       "\u001b[1m Total params: \u001b[0m\u001b[38;5;34m28,787\u001b[0m (112.45 KB)\n"
      ]
     },
     "metadata": {},
     "output_type": "display_data"
    },
    {
     "data": {
      "text/html": [
       "<pre style=\"white-space:pre;overflow-x:auto;line-height:normal;font-family:Menlo,'DejaVu Sans Mono',consolas,'Courier New',monospace\"><span style=\"font-weight: bold\"> Trainable params: </span><span style=\"color: #00af00; text-decoration-color: #00af00\">27,211</span> (106.29 KB)\n",
       "</pre>\n"
      ],
      "text/plain": [
       "\u001b[1m Trainable params: \u001b[0m\u001b[38;5;34m27,211\u001b[0m (106.29 KB)\n"
      ]
     },
     "metadata": {},
     "output_type": "display_data"
    },
    {
     "data": {
      "text/html": [
       "<pre style=\"white-space:pre;overflow-x:auto;line-height:normal;font-family:Menlo,'DejaVu Sans Mono',consolas,'Courier New',monospace\"><span style=\"font-weight: bold\"> Non-trainable params: </span><span style=\"color: #00af00; text-decoration-color: #00af00\">1,576</span> (6.16 KB)\n",
       "</pre>\n"
      ],
      "text/plain": [
       "\u001b[1m Non-trainable params: \u001b[0m\u001b[38;5;34m1,576\u001b[0m (6.16 KB)\n"
      ]
     },
     "metadata": {},
     "output_type": "display_data"
    }
   ],
   "source": [
    "\n",
    "def create_baseline_model(hidden_units, num_classes, dropout_rate=0.5):\n",
    "    inputs = layers.Input(shape=(num_features,), name=\"input_features\")\n",
    "    x = create_ffn(hidden_units, dropout_rate, name=f\"ffn_block1\")(inputs)\n",
    "    for block_idx in range(4):\n",
    "        # Create an FFN block.\n",
    "        x1 = create_ffn(hidden_units, dropout_rate, name=f\"ffn_block{block_idx + 2}\")(x)\n",
    "        # Add skip connection.\n",
    "        x = layers.Add(name=f\"skip_connection{block_idx + 2}\")([x, x1])\n",
    "    # Compute logits.\n",
    "    logits = layers.Dense(num_classes, name=\"logits\")(x)\n",
    "    # Create the model.\n",
    "    return keras.Model(inputs=inputs, outputs=logits, name=\"baseline\")\n",
    "\n",
    "\n",
    "baseline_model = create_baseline_model(hidden_units, num_classes, dropout_rate)\n",
    "baseline_model.summary()"
   ]
  },
  {
   "cell_type": "markdown",
   "id": "b497bce3",
   "metadata": {
    "id": "IAtzystp7sNc",
    "papermill": {
     "duration": 0.020463,
     "end_time": "2024-11-26T05:24:09.770861",
     "exception": false,
     "start_time": "2024-11-26T05:24:09.750398",
     "status": "completed"
    },
    "tags": []
   },
   "source": [
    "### Train the baseline classifier"
   ]
  },
  {
   "cell_type": "code",
   "execution_count": 34,
   "id": "6d80ccfe",
   "metadata": {
    "execution": {
     "iopub.execute_input": "2024-11-26T05:24:09.814391Z",
     "iopub.status.busy": "2024-11-26T05:24:09.813954Z",
     "iopub.status.idle": "2024-11-26T05:24:30.758250Z",
     "shell.execute_reply": "2024-11-26T05:24:30.757281Z"
    },
    "id": "KwTG62JI7sNc",
    "papermill": {
     "duration": 20.968897,
     "end_time": "2024-11-26T05:24:30.760613",
     "exception": false,
     "start_time": "2024-11-26T05:24:09.791716",
     "status": "completed"
    },
    "tags": []
   },
   "outputs": [
    {
     "name": "stdout",
     "output_type": "stream",
     "text": [
      "Epoch 1/40\n",
      "\u001b[1m33/33\u001b[0m \u001b[32m━━━━━━━━━━━━━━━━━━━━\u001b[0m\u001b[37m\u001b[0m \u001b[1m3s\u001b[0m 29ms/step - acc: 0.2984 - loss: 2.9115 - val_acc: 0.3940 - val_loss: 1.0889\n",
      "Epoch 2/40\n",
      "\u001b[1m33/33\u001b[0m \u001b[32m━━━━━━━━━━━━━━━━━━━━\u001b[0m\u001b[37m\u001b[0m \u001b[1m0s\u001b[0m 14ms/step - acc: 0.3678 - loss: 1.5695 - val_acc: 0.4144 - val_loss: 1.0801\n",
      "Epoch 3/40\n",
      "\u001b[1m33/33\u001b[0m \u001b[32m━━━━━━━━━━━━━━━━━━━━\u001b[0m\u001b[37m\u001b[0m \u001b[1m0s\u001b[0m 12ms/step - acc: 0.3862 - loss: 1.3783 - val_acc: 0.4124 - val_loss: 1.0752\n",
      "Epoch 4/40\n",
      "\u001b[1m33/33\u001b[0m \u001b[32m━━━━━━━━━━━━━━━━━━━━\u001b[0m\u001b[37m\u001b[0m \u001b[1m0s\u001b[0m 13ms/step - acc: 0.3999 - loss: 1.2550 - val_acc: 0.4178 - val_loss: 1.0659\n",
      "Epoch 5/40\n",
      "\u001b[1m33/33\u001b[0m \u001b[32m━━━━━━━━━━━━━━━━━━━━\u001b[0m\u001b[37m\u001b[0m \u001b[1m0s\u001b[0m 13ms/step - acc: 0.4252 - loss: 1.1788 - val_acc: 0.4185 - val_loss: 1.0576\n",
      "Epoch 6/40\n",
      "\u001b[1m33/33\u001b[0m \u001b[32m━━━━━━━━━━━━━━━━━━━━\u001b[0m\u001b[37m\u001b[0m \u001b[1m0s\u001b[0m 12ms/step - acc: 0.4173 - loss: 1.1553 - val_acc: 0.4239 - val_loss: 1.0498\n",
      "Epoch 7/40\n",
      "\u001b[1m33/33\u001b[0m \u001b[32m━━━━━━━━━━━━━━━━━━━━\u001b[0m\u001b[37m\u001b[0m \u001b[1m0s\u001b[0m 12ms/step - acc: 0.4157 - loss: 1.1159 - val_acc: 0.4633 - val_loss: 1.0438\n",
      "Epoch 8/40\n",
      "\u001b[1m33/33\u001b[0m \u001b[32m━━━━━━━━━━━━━━━━━━━━\u001b[0m\u001b[37m\u001b[0m \u001b[1m0s\u001b[0m 12ms/step - acc: 0.4242 - loss: 1.0959 - val_acc: 0.4620 - val_loss: 1.0360\n",
      "Epoch 9/40\n",
      "\u001b[1m33/33\u001b[0m \u001b[32m━━━━━━━━━━━━━━━━━━━━\u001b[0m\u001b[37m\u001b[0m \u001b[1m0s\u001b[0m 12ms/step - acc: 0.4416 - loss: 1.0698 - val_acc: 0.4830 - val_loss: 1.0335\n",
      "Epoch 10/40\n",
      "\u001b[1m33/33\u001b[0m \u001b[32m━━━━━━━━━━━━━━━━━━━━\u001b[0m\u001b[37m\u001b[0m \u001b[1m0s\u001b[0m 13ms/step - acc: 0.4492 - loss: 1.0529 - val_acc: 0.4973 - val_loss: 1.0242\n",
      "Epoch 11/40\n",
      "\u001b[1m33/33\u001b[0m \u001b[32m━━━━━━━━━━━━━━━━━━━━\u001b[0m\u001b[37m\u001b[0m \u001b[1m0s\u001b[0m 12ms/step - acc: 0.4535 - loss: 1.0403 - val_acc: 0.5048 - val_loss: 1.0179\n",
      "Epoch 12/40\n",
      "\u001b[1m33/33\u001b[0m \u001b[32m━━━━━━━━━━━━━━━━━━━━\u001b[0m\u001b[37m\u001b[0m \u001b[1m0s\u001b[0m 12ms/step - acc: 0.4544 - loss: 1.0207 - val_acc: 0.5183 - val_loss: 1.0194\n",
      "Epoch 13/40\n",
      "\u001b[1m33/33\u001b[0m \u001b[32m━━━━━━━━━━━━━━━━━━━━\u001b[0m\u001b[37m\u001b[0m \u001b[1m0s\u001b[0m 13ms/step - acc: 0.4635 - loss: 1.0170 - val_acc: 0.5523 - val_loss: 1.0086\n",
      "Epoch 14/40\n",
      "\u001b[1m33/33\u001b[0m \u001b[32m━━━━━━━━━━━━━━━━━━━━\u001b[0m\u001b[37m\u001b[0m \u001b[1m0s\u001b[0m 12ms/step - acc: 0.4613 - loss: 1.0161 - val_acc: 0.5442 - val_loss: 0.9995\n",
      "Epoch 15/40\n",
      "\u001b[1m33/33\u001b[0m \u001b[32m━━━━━━━━━━━━━━━━━━━━\u001b[0m\u001b[37m\u001b[0m \u001b[1m0s\u001b[0m 13ms/step - acc: 0.4741 - loss: 1.0020 - val_acc: 0.5802 - val_loss: 0.9907\n",
      "Epoch 16/40\n",
      "\u001b[1m33/33\u001b[0m \u001b[32m━━━━━━━━━━━━━━━━━━━━\u001b[0m\u001b[37m\u001b[0m \u001b[1m0s\u001b[0m 12ms/step - acc: 0.4729 - loss: 0.9986 - val_acc: 0.5618 - val_loss: 0.9916\n",
      "Epoch 17/40\n",
      "\u001b[1m33/33\u001b[0m \u001b[32m━━━━━━━━━━━━━━━━━━━━\u001b[0m\u001b[37m\u001b[0m \u001b[1m0s\u001b[0m 13ms/step - acc: 0.4775 - loss: 0.9971 - val_acc: 0.5822 - val_loss: 0.9812\n",
      "Epoch 18/40\n",
      "\u001b[1m33/33\u001b[0m \u001b[32m━━━━━━━━━━━━━━━━━━━━\u001b[0m\u001b[37m\u001b[0m \u001b[1m0s\u001b[0m 12ms/step - acc: 0.4820 - loss: 0.9887 - val_acc: 0.5673 - val_loss: 0.9732\n",
      "Epoch 19/40\n",
      "\u001b[1m33/33\u001b[0m \u001b[32m━━━━━━━━━━━━━━━━━━━━\u001b[0m\u001b[37m\u001b[0m \u001b[1m0s\u001b[0m 12ms/step - acc: 0.4964 - loss: 0.9814 - val_acc: 0.5822 - val_loss: 0.9645\n",
      "Epoch 20/40\n",
      "\u001b[1m33/33\u001b[0m \u001b[32m━━━━━━━━━━━━━━━━━━━━\u001b[0m\u001b[37m\u001b[0m \u001b[1m0s\u001b[0m 13ms/step - acc: 0.4976 - loss: 0.9794 - val_acc: 0.6128 - val_loss: 0.9580\n",
      "Epoch 21/40\n",
      "\u001b[1m33/33\u001b[0m \u001b[32m━━━━━━━━━━━━━━━━━━━━\u001b[0m\u001b[37m\u001b[0m \u001b[1m0s\u001b[0m 13ms/step - acc: 0.5089 - loss: 0.9594 - val_acc: 0.6148 - val_loss: 0.9536\n",
      "Epoch 22/40\n",
      "\u001b[1m33/33\u001b[0m \u001b[32m━━━━━━━━━━━━━━━━━━━━\u001b[0m\u001b[37m\u001b[0m \u001b[1m0s\u001b[0m 13ms/step - acc: 0.5109 - loss: 0.9529 - val_acc: 0.6216 - val_loss: 0.9434\n",
      "Epoch 23/40\n",
      "\u001b[1m33/33\u001b[0m \u001b[32m━━━━━━━━━━━━━━━━━━━━\u001b[0m\u001b[37m\u001b[0m \u001b[1m0s\u001b[0m 13ms/step - acc: 0.5282 - loss: 0.9414 - val_acc: 0.6039 - val_loss: 0.9328\n",
      "Epoch 24/40\n",
      "\u001b[1m33/33\u001b[0m \u001b[32m━━━━━━━━━━━━━━━━━━━━\u001b[0m\u001b[37m\u001b[0m \u001b[1m0s\u001b[0m 13ms/step - acc: 0.5106 - loss: 0.9475 - val_acc: 0.6352 - val_loss: 0.9207\n",
      "Epoch 25/40\n",
      "\u001b[1m33/33\u001b[0m \u001b[32m━━━━━━━━━━━━━━━━━━━━\u001b[0m\u001b[37m\u001b[0m \u001b[1m0s\u001b[0m 13ms/step - acc: 0.5233 - loss: 0.9424 - val_acc: 0.6359 - val_loss: 0.9060\n",
      "Epoch 26/40\n",
      "\u001b[1m33/33\u001b[0m \u001b[32m━━━━━━━━━━━━━━━━━━━━\u001b[0m\u001b[37m\u001b[0m \u001b[1m0s\u001b[0m 13ms/step - acc: 0.5226 - loss: 0.9460 - val_acc: 0.6311 - val_loss: 0.9019\n",
      "Epoch 27/40\n",
      "\u001b[1m33/33\u001b[0m \u001b[32m━━━━━━━━━━━━━━━━━━━━\u001b[0m\u001b[37m\u001b[0m \u001b[1m0s\u001b[0m 13ms/step - acc: 0.5317 - loss: 0.9295 - val_acc: 0.6440 - val_loss: 0.8873\n",
      "Epoch 28/40\n",
      "\u001b[1m33/33\u001b[0m \u001b[32m━━━━━━━━━━━━━━━━━━━━\u001b[0m\u001b[37m\u001b[0m \u001b[1m0s\u001b[0m 13ms/step - acc: 0.5352 - loss: 0.9204 - val_acc: 0.6495 - val_loss: 0.8766\n",
      "Epoch 29/40\n",
      "\u001b[1m33/33\u001b[0m \u001b[32m━━━━━━━━━━━━━━━━━━━━\u001b[0m\u001b[37m\u001b[0m \u001b[1m0s\u001b[0m 12ms/step - acc: 0.5423 - loss: 0.9147 - val_acc: 0.6467 - val_loss: 0.8688\n",
      "Epoch 30/40\n",
      "\u001b[1m33/33\u001b[0m \u001b[32m━━━━━━━━━━━━━━━━━━━━\u001b[0m\u001b[37m\u001b[0m \u001b[1m0s\u001b[0m 13ms/step - acc: 0.5490 - loss: 0.9014 - val_acc: 0.6732 - val_loss: 0.8484\n",
      "Epoch 31/40\n",
      "\u001b[1m33/33\u001b[0m \u001b[32m━━━━━━━━━━━━━━━━━━━━\u001b[0m\u001b[37m\u001b[0m \u001b[1m0s\u001b[0m 13ms/step - acc: 0.5673 - loss: 0.8918 - val_acc: 0.6651 - val_loss: 0.8348\n",
      "Epoch 32/40\n",
      "\u001b[1m33/33\u001b[0m \u001b[32m━━━━━━━━━━━━━━━━━━━━\u001b[0m\u001b[37m\u001b[0m \u001b[1m0s\u001b[0m 13ms/step - acc: 0.5619 - loss: 0.8945 - val_acc: 0.6726 - val_loss: 0.8254\n",
      "Epoch 33/40\n",
      "\u001b[1m33/33\u001b[0m \u001b[32m━━━━━━━━━━━━━━━━━━━━\u001b[0m\u001b[37m\u001b[0m \u001b[1m0s\u001b[0m 13ms/step - acc: 0.5725 - loss: 0.8777 - val_acc: 0.6882 - val_loss: 0.8065\n",
      "Epoch 34/40\n",
      "\u001b[1m33/33\u001b[0m \u001b[32m━━━━━━━━━━━━━━━━━━━━\u001b[0m\u001b[37m\u001b[0m \u001b[1m0s\u001b[0m 13ms/step - acc: 0.5692 - loss: 0.8879 - val_acc: 0.6923 - val_loss: 0.8016\n",
      "Epoch 35/40\n",
      "\u001b[1m33/33\u001b[0m \u001b[32m━━━━━━━━━━━━━━━━━━━━\u001b[0m\u001b[37m\u001b[0m \u001b[1m0s\u001b[0m 13ms/step - acc: 0.5793 - loss: 0.8635 - val_acc: 0.6861 - val_loss: 0.7927\n",
      "Epoch 36/40\n",
      "\u001b[1m33/33\u001b[0m \u001b[32m━━━━━━━━━━━━━━━━━━━━\u001b[0m\u001b[37m\u001b[0m \u001b[1m0s\u001b[0m 14ms/step - acc: 0.5874 - loss: 0.8556 - val_acc: 0.6970 - val_loss: 0.7765\n",
      "Epoch 37/40\n",
      "\u001b[1m33/33\u001b[0m \u001b[32m━━━━━━━━━━━━━━━━━━━━\u001b[0m\u001b[37m\u001b[0m \u001b[1m0s\u001b[0m 13ms/step - acc: 0.5878 - loss: 0.8469 - val_acc: 0.7038 - val_loss: 0.7657\n",
      "Epoch 38/40\n",
      "\u001b[1m33/33\u001b[0m \u001b[32m━━━━━━━━━━━━━━━━━━━━\u001b[0m\u001b[37m\u001b[0m \u001b[1m0s\u001b[0m 13ms/step - acc: 0.5921 - loss: 0.8497 - val_acc: 0.7120 - val_loss: 0.7549\n",
      "Epoch 39/40\n",
      "\u001b[1m33/33\u001b[0m \u001b[32m━━━━━━━━━━━━━━━━━━━━\u001b[0m\u001b[37m\u001b[0m \u001b[1m0s\u001b[0m 13ms/step - acc: 0.6083 - loss: 0.8250 - val_acc: 0.7113 - val_loss: 0.7379\n",
      "Epoch 40/40\n",
      "\u001b[1m33/33\u001b[0m \u001b[32m━━━━━━━━━━━━━━━━━━━━\u001b[0m\u001b[37m\u001b[0m \u001b[1m0s\u001b[0m 13ms/step - acc: 0.6256 - loss: 0.8089 - val_acc: 0.7133 - val_loss: 0.7330\n"
     ]
    }
   ],
   "source": [
    "history = run_experiment(baseline_model, x_train, y_train)"
   ]
  },
  {
   "cell_type": "markdown",
   "id": "d7261d31",
   "metadata": {
    "id": "ekuSzkUh7sNd",
    "papermill": {
     "duration": 0.040164,
     "end_time": "2024-11-26T05:24:30.842932",
     "exception": false,
     "start_time": "2024-11-26T05:24:30.802768",
     "status": "completed"
    },
    "tags": []
   },
   "source": [
    "Let's plot the learning curves."
   ]
  },
  {
   "cell_type": "code",
   "execution_count": 35,
   "id": "f347f703",
   "metadata": {
    "execution": {
     "iopub.execute_input": "2024-11-26T05:24:30.925169Z",
     "iopub.status.busy": "2024-11-26T05:24:30.924790Z",
     "iopub.status.idle": "2024-11-26T05:24:33.382051Z",
     "shell.execute_reply": "2024-11-26T05:24:33.380725Z"
    },
    "papermill": {
     "duration": 2.501388,
     "end_time": "2024-11-26T05:24:33.384542",
     "exception": false,
     "start_time": "2024-11-26T05:24:30.883154",
     "status": "completed"
    },
    "tags": []
   },
   "outputs": [
    {
     "name": "stdout",
     "output_type": "stream",
     "text": [
      "\u001b[1m310/310\u001b[0m \u001b[32m━━━━━━━━━━━━━━━━━━━━\u001b[0m\u001b[37m\u001b[0m \u001b[1m1s\u001b[0m 3ms/step\n",
      "Accuracy: 0.7051\n",
      "Precision: 0.7367\n",
      "Recall: 0.7051\n",
      "F1 Score: 0.6981\n"
     ]
    }
   ],
   "source": [
    "from sklearn.metrics import accuracy_score, precision_score, recall_score, f1_score\n",
    "y_pred_proba = baseline_model.predict(x_test)\n",
    "y_pred_classes = np.argmax(y_pred_proba, axis=1)\n",
    "\n",
    "# Calculate metrics (assuming y_test contains true class indices)\n",
    "accuracy = accuracy_score(y_test, y_pred_classes)\n",
    "precision = precision_score(y_test, y_pred_classes, average='weighted')\n",
    "recall = recall_score(y_test, y_pred_classes, average='weighted')\n",
    "f1 = f1_score(y_test, y_pred_classes, average='weighted')\n",
    "\n",
    "print(f'Accuracy: {accuracy:.4f}')\n",
    "print(f'Precision: {precision:.4f}')\n",
    "print(f'Recall: {recall:.4f}')\n",
    "print(f'F1 Score: {f1:.4f}')"
   ]
  },
  {
   "cell_type": "code",
   "execution_count": 36,
   "id": "99d1a47f",
   "metadata": {
    "execution": {
     "iopub.execute_input": "2024-11-26T05:24:33.470636Z",
     "iopub.status.busy": "2024-11-26T05:24:33.469913Z",
     "iopub.status.idle": "2024-11-26T05:24:33.941449Z",
     "shell.execute_reply": "2024-11-26T05:24:33.940347Z"
    },
    "id": "_qR0Rhap7sNd",
    "papermill": {
     "duration": 0.517262,
     "end_time": "2024-11-26T05:24:33.944178",
     "exception": false,
     "start_time": "2024-11-26T05:24:33.426916",
     "status": "completed"
    },
    "tags": []
   },
   "outputs": [
    {
     "data": {
      "image/png": "[encoded data removed]",
      "text/plain": [
       "<Figure size 1500x500 with 2 Axes>"
      ]
     },
     "metadata": {},
     "output_type": "display_data"
    }
   ],
   "source": [
    "display_learning_curves(history)"
   ]
  },
  {
   "cell_type": "code",
   "execution_count": 37,
   "id": "2790ad21",
   "metadata": {
    "execution": {
     "iopub.execute_input": "2024-11-26T05:24:34.032387Z",
     "iopub.status.busy": "2024-11-26T05:24:34.031925Z",
     "iopub.status.idle": "2024-11-26T05:24:34.811886Z",
     "shell.execute_reply": "2024-11-26T05:24:34.810618Z"
    },
    "papermill": {
     "duration": 0.826203,
     "end_time": "2024-11-26T05:24:34.814383",
     "exception": false,
     "start_time": "2024-11-26T05:24:33.988180",
     "status": "completed"
    },
    "tags": []
   },
   "outputs": [
    {
     "name": "stdout",
     "output_type": "stream",
     "text": [
      "\u001b[1m310/310\u001b[0m \u001b[32m━━━━━━━━━━━━━━━━━━━━\u001b[0m\u001b[37m\u001b[0m \u001b[1m1s\u001b[0m 2ms/step\n"
     ]
    }
   ],
   "source": [
    "# Predict probabilities for each class\n",
    "y_pred_proba_baseline = baseline_model.predict(x_test)\n",
    "# Predict classes\n",
    "y_pred_baseline = np.argmax(y_pred_proba_baseline, axis=1)\n",
    "\n",
    "# # Compute ROC curve and ROC area for each class\n",
    "# fpr_baseline = dict()\n",
    "# tpr_baseline = dict()\n",
    "# roc_auc_baseline = dict()\n",
    "# for i in range(num_classes):\n",
    "#     fpr_baseline[i], tpr_baseline[i], _ = roc_curve(y_test == i, y_pred_proba_baseline[:, i])\n",
    "#     roc_auc_baseline[i] = auc(fpr_baseline[i], tpr_baseline[i])\n",
    "\n",
    "# # Plot ROC curve\n",
    "# plt.figure(figsize=(10, 8))\n",
    "# for i in range(num_classes):\n",
    "#     plt.plot(fpr_baseline[i], tpr_baseline[i], label=f'ROC curve (area = {roc_auc_baseline[i]:0.2f}) for {class_values[i]}')\n",
    "# plt.plot([0, 1], [0, 1], 'k--')\n",
    "# plt.xlim([0.0, 1.0])\n",
    "# plt.ylim([0.0, 1.05])\n",
    "# plt.xlabel('False Positive Rate')\n",
    "# plt.ylabel('True Positive Rate')\n",
    "# plt.title('Receiver Operating Characteristic (ROC) for Baseline Model')\n",
    "# plt.legend(loc=\"lower right\")\n",
    "# plt.show()"
   ]
  },
  {
   "cell_type": "code",
   "execution_count": 38,
   "id": "1080f9e8",
   "metadata": {
    "execution": {
     "iopub.execute_input": "2024-11-26T05:24:34.902630Z",
     "iopub.status.busy": "2024-11-26T05:24:34.902173Z",
     "iopub.status.idle": "2024-11-26T05:24:36.024071Z",
     "shell.execute_reply": "2024-11-26T05:24:36.022933Z"
    },
    "papermill": {
     "duration": 1.169213,
     "end_time": "2024-11-26T05:24:36.027046",
     "exception": false,
     "start_time": "2024-11-26T05:24:34.857833",
     "status": "completed"
    },
    "tags": []
   },
   "outputs": [
    {
     "name": "stdout",
     "output_type": "stream",
     "text": [
      "\u001b[1m310/310\u001b[0m \u001b[32m━━━━━━━━━━━━━━━━━━━━\u001b[0m\u001b[37m\u001b[0m \u001b[1m1s\u001b[0m 2ms/step\n"
     ]
    },
    {
     "data": {
      "image/png": "[encoded data removed]",
      "text/plain": [
       "<Figure size 1000x800 with 1 Axes>"
      ]
     },
     "metadata": {},
     "output_type": "display_data"
    }
   ],
   "source": [
    "import numpy as np\n",
    "from sklearn.metrics import roc_curve, auc\n",
    "from sklearn.preprocessing import label_binarize\n",
    "import matplotlib.pyplot as plt\n",
    "\n",
    "# Predict probabilities for each class\n",
    "y_pred_proba_baseline = baseline_model.predict(x_test)\n",
    "# Predict classes\n",
    "y_pred_baseline = np.argmax(y_pred_proba_baseline, axis=1)\n",
    "\n",
    "# Number of classes\n",
    "num_classes = 3\n",
    "\n",
    "# Binarize the output\n",
    "y_test_bin = label_binarize(y_test, classes=[0, 1, 2])\n",
    "\n",
    "# Compute ROC curve and ROC area for each class\n",
    "fpr_baseline = dict()\n",
    "tpr_baseline = dict()\n",
    "roc_auc_baseline = dict()\n",
    "class_names = ['Diabetes Mellitus Type 1', 'Diabetes Mellitus Type 2', 'Diabetes Mellitus, Experimental']\n",
    "\n",
    "for i in range(num_classes):\n",
    "    fpr_baseline[i], tpr_baseline[i], _ = roc_curve(y_test_bin[:, i], y_pred_proba_baseline[:, i])\n",
    "    roc_auc_baseline[i] = auc(fpr_baseline[i], tpr_baseline[i])\n",
    "\n",
    "# Compute micro-average ROC curve and ROC area\n",
    "fpr_baseline[\"micro\"], tpr_baseline[\"micro\"], _ = roc_curve(y_test_bin.ravel(), y_pred_proba_baseline.ravel())\n",
    "roc_auc_baseline[\"micro\"] = auc(fpr_baseline[\"micro\"], tpr_baseline[\"micro\"])\n",
    "\n",
    "# Compute macro-average ROC curve and ROC area\n",
    "all_fpr = np.unique(np.concatenate([fpr_baseline[i] for i in range(num_classes)]))\n",
    "mean_tpr = np.zeros_like(all_fpr)\n",
    "for i in range(num_classes):\n",
    "    mean_tpr += np.interp(all_fpr, fpr_baseline[i], tpr_baseline[i])\n",
    "mean_tpr /= num_classes\n",
    "\n",
    "fpr_baseline[\"macro\"] = all_fpr\n",
    "tpr_baseline[\"macro\"] = mean_tpr\n",
    "roc_auc_baseline[\"macro\"] = auc(fpr_baseline[\"macro\"], tpr_baseline[\"macro\"])\n",
    "\n",
    "# Plot ROC curve\n",
    "plt.figure(figsize=(10, 8))\n",
    "for i in range(num_classes):\n",
    "    plt.plot(fpr_baseline[i], tpr_baseline[i], label=f'ROC curve (area = {roc_auc_baseline[i]:0.2f}) for {class_names[i]}')\n",
    "\n",
    "plt.plot(fpr_baseline[\"micro\"], tpr_baseline[\"micro\"], linestyle='--', color='deeppink', lw=2,\n",
    "         label=f\"Micro-average (AUC = {roc_auc_baseline['micro']:.2f})\")\n",
    "\n",
    "plt.plot(fpr_baseline[\"macro\"], tpr_baseline[\"macro\"], linestyle='--', color='navy', lw=2,\n",
    "         label=f\"Macro-average (AUC = {roc_auc_baseline['macro']:.2f})\")\n",
    "\n",
    "plt.plot([0, 1], [0, 1], 'k--')\n",
    "plt.xlim([0.0, 1.0])\n",
    "plt.ylim([0.0, 1.05])\n",
    "plt.xlabel('False Positive Rate')\n",
    "plt.ylabel('True Positive Rate')\n",
    "plt.title('Receiver Operating Characteristic (ROC) for Baseline Model')\n",
    "plt.legend(loc=\"lower right\")\n",
    "plt.show()\n"
   ]
  },
  {
   "cell_type": "code",
   "execution_count": 39,
   "id": "e351fb53",
   "metadata": {
    "execution": {
     "iopub.execute_input": "2024-11-26T05:24:36.121154Z",
     "iopub.status.busy": "2024-11-26T05:24:36.120093Z",
     "iopub.status.idle": "2024-11-26T05:24:36.774086Z",
     "shell.execute_reply": "2024-11-26T05:24:36.772973Z"
    },
    "papermill": {
     "duration": 0.703358,
     "end_time": "2024-11-26T05:24:36.776412",
     "exception": false,
     "start_time": "2024-11-26T05:24:36.073054",
     "status": "completed"
    },
    "tags": []
   },
   "outputs": [
    {
     "data": {
      "image/png": "[encoded data removed]",
      "text/plain": [
       "<Figure size 1000x600 with 1 Axes>"
      ]
     },
     "metadata": {},
     "output_type": "display_data"
    }
   ],
   "source": [
    "from sklearn.metrics import classification_report\n",
    "import seaborn as sns\n",
    "import pandas as pd\n",
    "import matplotlib.pyplot as plt\n",
    "\n",
    "# Assuming y_test and y_pred_baseline are your true and predicted labels\n",
    "# Generate classification report as a dictionary\n",
    "report_dict = classification_report(y_test, y_pred_baseline, target_names=[\n",
    "    'Diabetes Mellitus Type 1', 'Diabetes Mellitus Type 2', 'Diabetes Mellitus, Experimental'], output_dict=True)\n",
    "\n",
    "# Convert the dictionary into a Pandas DataFrame for visualization\n",
    "report_df = pd.DataFrame(report_dict).transpose()\n",
    "\n",
    "# Drop accuracy row if not needed for heatmap\n",
    "if \"accuracy\" in report_df.index:\n",
    "    report_df = report_df.drop(\"accuracy\", axis=0)\n",
    "\n",
    "# Plot the classification report as a heatmap\n",
    "plt.figure(figsize=(10, 6))\n",
    "sns.heatmap(report_df.iloc[:-1, :-1], annot=True, cmap=\"Reds\", fmt=\".2f\", cbar=False, linewidths=0.5)\n",
    "\n",
    "# Add labels and title\n",
    "plt.title(\"Classification Report Heatmap\")\n",
    "plt.xlabel(\"Metrics\")\n",
    "plt.ylabel(\"Classes\")\n",
    "plt.show()\n"
   ]
  },
  {
   "cell_type": "code",
   "execution_count": 40,
   "id": "00d1f956",
   "metadata": {
    "execution": {
     "iopub.execute_input": "2024-11-26T05:24:36.871523Z",
     "iopub.status.busy": "2024-11-26T05:24:36.870724Z",
     "iopub.status.idle": "2024-11-26T05:24:36.876615Z",
     "shell.execute_reply": "2024-11-26T05:24:36.875548Z"
    },
    "papermill": {
     "duration": 0.05544,
     "end_time": "2024-11-26T05:24:36.878604",
     "exception": false,
     "start_time": "2024-11-26T05:24:36.823164",
     "status": "completed"
    },
    "tags": []
   },
   "outputs": [],
   "source": [
    "# from sklearn.metrics import classification_report\n",
    "# import seaborn as sns\n",
    "# import pandas as pd\n",
    "# import matplotlib.pyplot as plt\n",
    "\n",
    "# # Assuming y_true_classes and y_pred_classes are your true and predicted labels\n",
    "# # Generate classification report as a dictionary\n",
    "# report_dict = classification_report(y_true_classes, y_pred_classes, output_dict=True)\n",
    "\n",
    "# # Convert the dictionary into a Pandas DataFrame for visualization\n",
    "# report_df = pd.DataFrame(report_dict).transpose()\n",
    "\n",
    "# # Map numeric indices to descriptive class names\n",
    "# class_names = ['Diabetes Mellitus Type 1', 'Diabetes Mellitus Type 2', 'Diabetes Mellitus, Experimental']\n",
    "# report_df.index = [class_names[int(i)] if i.isdigit() else i for i in report_df.index]\n",
    "\n",
    "# # Extract only relevant columns for better readability\n",
    "# if \"accuracy\" in report_df.index:  # accuracy row is not relevant for heatmap\n",
    "#     report_df = report_df.drop(\"accuracy\", axis=0)\n",
    "\n",
    "# # Plot the classification report as a heatmap\n",
    "# plt.figure(figsize=(10, 6))\n",
    "# sns.heatmap(report_df.iloc[:-1, :-1], annot=True, cmap=\"Reds\", fmt=\".2f\", cbar=False, linewidths=0.5)\n",
    "\n",
    "# # Add labels and title\n",
    "# plt.title(\"Classification Report Heatmap\")\n",
    "# plt.xlabel(\"Metrics\")\n",
    "# plt.ylabel(\"Classes\")\n",
    "# plt.show()"
   ]
  },
  {
   "cell_type": "code",
   "execution_count": null,
   "id": "114c564f",
   "metadata": {
    "papermill": {
     "duration": 0.046317,
     "end_time": "2024-11-26T05:24:36.971914",
     "exception": false,
     "start_time": "2024-11-26T05:24:36.925597",
     "status": "completed"
    },
    "tags": []
   },
   "outputs": [],
   "source": []
  },
  {
   "cell_type": "code",
   "execution_count": null,
   "id": "9025f708",
   "metadata": {
    "papermill": {
     "duration": 0.047048,
     "end_time": "2024-11-26T05:24:37.065580",
     "exception": false,
     "start_time": "2024-11-26T05:24:37.018532",
     "status": "completed"
    },
    "tags": []
   },
   "outputs": [],
   "source": []
  },
  {
   "cell_type": "code",
   "execution_count": 41,
   "id": "7b485082",
   "metadata": {
    "execution": {
     "iopub.execute_input": "2024-11-26T05:24:37.162056Z",
     "iopub.status.busy": "2024-11-26T05:24:37.161641Z",
     "iopub.status.idle": "2024-11-26T05:24:37.431596Z",
     "shell.execute_reply": "2024-11-26T05:24:37.430297Z"
    },
    "papermill": {
     "duration": 0.321182,
     "end_time": "2024-11-26T05:24:37.434116",
     "exception": false,
     "start_time": "2024-11-26T05:24:37.112934",
     "status": "completed"
    },
    "tags": []
   },
   "outputs": [
    {
     "data": {
      "image/png": "[encoded data removed]",
      "text/plain": [
       "<Figure size 800x600 with 2 Axes>"
      ]
     },
     "metadata": {},
     "output_type": "display_data"
    }
   ],
   "source": [
    "from sklearn.metrics import confusion_matrix\n",
    "import seaborn as sns\n",
    "import matplotlib.pyplot as plt\n",
    "\n",
    "# Assuming y_test and y_pred_baseline are your true and predicted labels\n",
    "# Compute the confusion matrix\n",
    "conf_matrix = confusion_matrix(y_test, y_pred_baseline)\n",
    "\n",
    "# Define class names\n",
    "class_names = ['Diabetes Mellitus Type 1', 'Diabetes Mellitus Type 2', 'Diabetes Mellitus, Experimental']\n",
    "\n",
    "# Plot the confusion matrix as a heatmap\n",
    "plt.figure(figsize=(8, 6))\n",
    "sns.heatmap(conf_matrix, annot=True, fmt='d', cmap='Blues',\n",
    "            xticklabels=class_names, yticklabels=class_names)\n",
    "\n",
    "# Add labels and title\n",
    "plt.title(\"Confusion Matrix\")\n",
    "plt.xlabel(\"Predicted Labels\")\n",
    "plt.ylabel(\"True Labels\")\n",
    "plt.show()\n"
   ]
  },
  {
   "cell_type": "code",
   "execution_count": 42,
   "id": "ca0e6ffa",
   "metadata": {
    "execution": {
     "iopub.execute_input": "2024-11-26T05:24:37.532047Z",
     "iopub.status.busy": "2024-11-26T05:24:37.531669Z",
     "iopub.status.idle": "2024-11-26T05:24:37.537197Z",
     "shell.execute_reply": "2024-11-26T05:24:37.536050Z"
    },
    "papermill": {
     "duration": 0.0568,
     "end_time": "2024-11-26T05:24:37.539302",
     "exception": false,
     "start_time": "2024-11-26T05:24:37.482502",
     "status": "completed"
    },
    "tags": []
   },
   "outputs": [],
   "source": [
    "# from sklearn.metrics import confusion_matrix, classification_report\n",
    "# import seaborn as sns\n",
    "# import matplotlib.pyplot as plt\n",
    "# import pandas as pd\n",
    "\n",
    "# # Define descriptive class names\n",
    "# class_names = [\"Diabetes Mellitus Type 1\", \"Diabetes Mellitus Type 2\", \"Diabetes Mellitus, Experimental\"]\n",
    "\n",
    "# # Compute confusion matrix\n",
    "# conf_matrix = confusion_matrix(y_true_classes, y_pred_classes)\n",
    "\n",
    "# # Plot confusion matrix with descriptive labels\n",
    "# plt.figure(figsize=(8, 6))\n",
    "# sns.heatmap(conf_matrix, annot=True, fmt='d', cmap='Blues',\n",
    "#             xticklabels=class_names, yticklabels=class_names)\n",
    "# plt.title('Confusion Matrix')\n",
    "# plt.xlabel('Predicted Labels')\n",
    "# plt.ylabel('True Labels')\n",
    "# plt.show()\n",
    "\n",
    "# # Print classification report with descriptive labels\n",
    "# print(\"\\nClassification Report:\")\n",
    "# print(classification_report(y_true_classes, y_pred_classes, target_names=class_names))"
   ]
  },
  {
   "cell_type": "markdown",
   "id": "1e504f5e",
   "metadata": {
    "id": "17RDfXX87sNd",
    "papermill": {
     "duration": 0.048968,
     "end_time": "2024-11-26T05:24:37.635777",
     "exception": false,
     "start_time": "2024-11-26T05:24:37.586809",
     "status": "completed"
    },
    "tags": []
   },
   "source": [
    "Now we evaluate the baseline model on the test data split."
   ]
  },
  {
   "cell_type": "code",
   "execution_count": 43,
   "id": "9bcc1977",
   "metadata": {
    "execution": {
     "iopub.execute_input": "2024-11-26T05:24:37.737481Z",
     "iopub.status.busy": "2024-11-26T05:24:37.736187Z",
     "iopub.status.idle": "2024-11-26T05:24:39.021938Z",
     "shell.execute_reply": "2024-11-26T05:24:39.020716Z"
    },
    "id": "h-jAO2OX7sNe",
    "papermill": {
     "duration": 1.337264,
     "end_time": "2024-11-26T05:24:39.024067",
     "exception": false,
     "start_time": "2024-11-26T05:24:37.686803",
     "status": "completed"
    },
    "tags": []
   },
   "outputs": [
    {
     "name": "stdout",
     "output_type": "stream",
     "text": [
      "Test accuracy: 70.51%\n",
      "Train accuracy: 71.6%\n"
     ]
    }
   ],
   "source": [
    "_, test_accuracy = baseline_model.evaluate(x=x_test, y=y_test, verbose=0)\n",
    "_, train_accuracy = baseline_model.evaluate(x=x_train, y=y_train, verbose=0)\n",
    "\n",
    "print(f\"Test accuracy: {round(test_accuracy * 100, 2)}%\")\n",
    "print(f\"Train accuracy: {round(train_accuracy * 100, 2)}%\")"
   ]
  },
  {
   "cell_type": "markdown",
   "id": "8418c513",
   "metadata": {
    "id": "3-dyySqO7sNe",
    "papermill": {
     "duration": 0.046653,
     "end_time": "2024-11-26T05:24:39.118868",
     "exception": false,
     "start_time": "2024-11-26T05:24:39.072215",
     "status": "completed"
    },
    "tags": []
   },
   "source": [
    "### Examine the baseline model predictions\n",
    "\n",
    "Let's create new data instances by randomly generating binary word vectors with respect to\n",
    "the word presence probabilities."
   ]
  },
  {
   "cell_type": "code",
   "execution_count": 44,
   "id": "efe10872",
   "metadata": {
    "execution": {
     "iopub.execute_input": "2024-11-26T05:24:39.214666Z",
     "iopub.status.busy": "2024-11-26T05:24:39.214266Z",
     "iopub.status.idle": "2024-11-26T05:24:39.221271Z",
     "shell.execute_reply": "2024-11-26T05:24:39.220168Z"
    },
    "id": "RNq51QIL7sNe",
    "papermill": {
     "duration": 0.05734,
     "end_time": "2024-11-26T05:24:39.223364",
     "exception": false,
     "start_time": "2024-11-26T05:24:39.166024",
     "status": "completed"
    },
    "tags": []
   },
   "outputs": [],
   "source": [
    "\n",
    "def generate_random_instances(num_instances):\n",
    "    token_probability = x_train.mean(axis=0)\n",
    "    instances = []\n",
    "    for _ in range(num_instances):\n",
    "        probabilities = np.random.uniform(size=len(token_probability))\n",
    "        instance = (probabilities <= token_probability).astype(int)\n",
    "        instances.append(instance)\n",
    "\n",
    "    return np.array(instances)\n",
    "\n",
    "\n",
    "def display_class_probabilities(probabilities):\n",
    "    for instance_idx, probs in enumerate(probabilities):\n",
    "        print(f\"Instance {instance_idx + 1}:\")\n",
    "        for class_idx, prob in enumerate(probs):\n",
    "            print(f\"- {class_values[class_idx]}: {round(prob * 100, 2)}%\")\n"
   ]
  },
  {
   "cell_type": "markdown",
   "id": "92e8f2ca",
   "metadata": {
    "id": "aZss3vSi7sNe",
    "papermill": {
     "duration": 0.04668,
     "end_time": "2024-11-26T05:24:39.317869",
     "exception": false,
     "start_time": "2024-11-26T05:24:39.271189",
     "status": "completed"
    },
    "tags": []
   },
   "source": [
    "Now we show the baseline model predictions given these randomly generated instances."
   ]
  },
  {
   "cell_type": "markdown",
   "id": "8c87f6ef",
   "metadata": {
    "id": "3m8N2AlV7sNf",
    "papermill": {
     "duration": 0.047981,
     "end_time": "2024-11-26T05:24:39.413253",
     "exception": false,
     "start_time": "2024-11-26T05:24:39.365272",
     "status": "completed"
    },
    "tags": []
   },
   "source": [
    "## Build a Graph Neural Network Model\n",
    "\n",
    "### Prepare the data for the graph model\n",
    "\n",
    "Preparing and loading the graphs data into the model for training is the most challenging\n",
    "part in GNN models, which is addressed in different ways by the specialised libraries.\n",
    "In this example, we show a simple approach for preparing and using graph data that is suitable\n",
    "if your dataset consists of a single graph that fits entirely in memory.\n",
    "\n",
    "The graph data is represented by the `graph_info` tuple, which consists of the following\n",
    "three elements:\n",
    "\n",
    "1. `node_features`: This is a `[num_nodes, num_features]` NumPy array that includes the\n",
    "node features. In this dataset, the nodes are the papers, and the `node_features` are the\n",
    "word-presence binary vectors of each paper.\n",
    "2. `edges`:  This is `[num_edges, num_edges]` NumPy array representing a sparse\n",
    "[adjacency matrix](https://en.wikipedia.org/wiki/Adjacency_matrix#:~:text=In%20graph%20theory%20and%20computer,with%20zeros%20on%20its%20diagonal.)\n",
    "of the links between the nodes. In this example, the links are the citations between the papers.\n",
    "3. `edge_weights` (optional): This is a `[num_edges]` NumPy array that includes the edge weights, which *quantify*\n",
    "the relationships between nodes in the graph. In this example, there are no weights for the paper citations."
   ]
  },
  {
   "cell_type": "code",
   "execution_count": 45,
   "id": "10d6bd61",
   "metadata": {
    "execution": {
     "iopub.execute_input": "2024-11-26T05:24:39.510951Z",
     "iopub.status.busy": "2024-11-26T05:24:39.510545Z",
     "iopub.status.idle": "2024-11-26T05:24:39.771064Z",
     "shell.execute_reply": "2024-11-26T05:24:39.770007Z"
    },
    "id": "YmbvqZxP7sNf",
    "papermill": {
     "duration": 0.313036,
     "end_time": "2024-11-26T05:24:39.773431",
     "exception": false,
     "start_time": "2024-11-26T05:24:39.460395",
     "status": "completed"
    },
    "tags": []
   },
   "outputs": [
    {
     "name": "stdout",
     "output_type": "stream",
     "text": [
      "Edges shape: (2, 44338)\n",
      "Nodes shape: (19717, 500)\n"
     ]
    }
   ],
   "source": [
    "# Create an edges array (sparse adjacency matrix) of shape [2, num_edges].\n",
    "edges = citations[[\"source\", \"target\"]].to_numpy().T\n",
    "# Create an edge weights array of ones.\n",
    "edge_weights = tf.ones(shape=edges.shape[1])\n",
    "# Create a node features array of shape [num_nodes, num_features].\n",
    "node_features = tf.cast(\n",
    "    papers.sort_values(\"paper_id\")[feature_names].to_numpy(), dtype=tf.dtypes.float32\n",
    ")\n",
    "# Create graph info tuple with node_features, edges, and edge_weights.\n",
    "graph_info = (node_features, edges, edge_weights)\n",
    "\n",
    "print(\"Edges shape:\", edges.shape)\n",
    "print(\"Nodes shape:\", node_features.shape)"
   ]
  },
  {
   "cell_type": "markdown",
   "id": "6ae3dbd2",
   "metadata": {
    "id": "6h2peTSB7sNf",
    "papermill": {
     "duration": 0.049199,
     "end_time": "2024-11-26T05:24:39.870571",
     "exception": false,
     "start_time": "2024-11-26T05:24:39.821372",
     "status": "completed"
    },
    "tags": []
   },
   "source": [
    "### Implement a graph convolution layer\n",
    "\n",
    "We implement a graph convolution module as a [Keras Layer](https://www.tensorflow.org/api_docs/python/tf/keras/layers/Layer?version=nightly).\n",
    "Our `GraphConvLayer` performs the following steps:\n",
    "\n",
    "1. **Prepare**: The input node representations are processed using a FFN to produce a *message*. You can simplify\n",
    "the processing by only applying linear transformation to the representations.\n",
    "2. **Aggregate**: The messages of the neighbours of each node are aggregated with\n",
    "respect to the `edge_weights` using a *permutation invariant* pooling operation, such as *sum*, *mean*, and *max*,\n",
    "to prepare a single aggregated message for each node. See, for example, [tf.math.unsorted_segment_sum](https://www.tensorflow.org/api_docs/python/tf/math/unsorted_segment_sum)\n",
    "APIs used to aggregate neighbour messages.\n",
    "3. **Update**: The `node_repesentations` and `aggregated_messages`—both of shape `[num_nodes, representation_dim]`—\n",
    "are combined and processed to produce the new state of the node representations (node embeddings).\n",
    "If `combination_type` is `gru`, the `node_repesentations` and `aggregated_messages` are stacked to create a sequence,\n",
    "then processed by a GRU layer. Otherwise, the `node_repesentations` and `aggregated_messages` are added\n",
    "or concatenated, then processed using a FFN.\n",
    "\n",
    "\n",
    "The technique implemented use ideas from [Graph Convolutional Networks](https://arxiv.org/abs/1609.02907),\n",
    "[GraphSage](https://arxiv.org/abs/1706.02216), [Graph Isomorphism Network](https://arxiv.org/abs/1810.00826),\n",
    "[Simple Graph Networks](https://arxiv.org/abs/1902.07153), and\n",
    "[Gated Graph Sequence Neural Networks](https://arxiv.org/abs/1511.05493).\n",
    "Two other key techniques that are not covered are [Graph Attention Networks](https://arxiv.org/abs/1710.10903)\n",
    "and [Message Passing Neural Networks](https://arxiv.org/abs/1704.01212)."
   ]
  },
  {
   "cell_type": "markdown",
   "id": "976ca6fe",
   "metadata": {
    "id": "_eKHlDFg7sNg",
    "papermill": {
     "duration": 0.046974,
     "end_time": "2024-11-26T05:24:39.967041",
     "exception": false,
     "start_time": "2024-11-26T05:24:39.920067",
     "status": "completed"
    },
    "tags": []
   },
   "source": [
    "### Implement a graph neural network node classifier\n",
    "\n",
    "The GNN classification model follows the [Design Space for Graph Neural Networks](https://arxiv.org/abs/2011.08843) approach,\n",
    "as follows:\n",
    "\n",
    "1. Apply preprocessing using FFN to the node features to generate initial node representations.\n",
    "2. Apply one or more graph convolutional layer, with skip connections,  to the node representation\n",
    "to produce node embeddings.\n",
    "3. Apply post-processing using FFN to the node embeddings to generat the final node embeddings.\n",
    "4. Feed the node embeddings in a Softmax layer to predict the node class.\n",
    "\n",
    "Each graph convolutional layer added captures information from a further level of neighbours.\n",
    "However, adding many graph convolutional layer can cause oversmoothing, where the model\n",
    "produces similar embeddings for all the nodes.\n",
    "\n",
    "Note that the `graph_info` passed to the constructor of the Keras model, and used as a *property*\n",
    "of the Keras model object, rather than input data for training or prediction.\n",
    "The model will accept a **batch** of `node_indices`, which are used to lookup the\n",
    "node features and neighbours from the `graph_info`."
   ]
  },
  {
   "cell_type": "code",
   "execution_count": 46,
   "id": "32d16a48",
   "metadata": {
    "execution": {
     "iopub.execute_input": "2024-11-26T05:24:40.064364Z",
     "iopub.status.busy": "2024-11-26T05:24:40.063924Z",
     "iopub.status.idle": "2024-11-26T05:24:40.348816Z",
     "shell.execute_reply": "2024-11-26T05:24:40.347709Z"
    },
    "papermill": {
     "duration": 0.336099,
     "end_time": "2024-11-26T05:24:40.351131",
     "exception": false,
     "start_time": "2024-11-26T05:24:40.015032",
     "status": "completed"
    },
    "tags": []
   },
   "outputs": [],
   "source": [
    "import tensorflow as tf\n",
    "from tensorflow.keras import layers\n",
    "\n",
    "def create_ffn(hidden_units, dropout_rate, name=None):\n",
    "    \"\"\"Creates a feed-forward network (FFN) with specified hidden units and dropout.\"\"\"\n",
    "    return tf.keras.Sequential(\n",
    "        [\n",
    "            layers.Dense(hidden_units, activation='relu', name=f\"{name}_dense\"),\n",
    "            layers.Dropout(dropout_rate, name=f\"{name}_dropout\"),\n",
    "            layers.Dense(hidden_units, activation='relu', name=f\"{name}_dense2\"),\n",
    "        ],\n",
    "        name=name,\n",
    "    )\n",
    "\n",
    "class GraphConvLayer(layers.Layer):\n",
    "    def __init__(\n",
    "        self,\n",
    "        hidden_units,\n",
    "        dropout_rate=0.2,\n",
    "        aggregation_type=\"mean\",\n",
    "        combination_type=\"concat\",\n",
    "        normalize=False,\n",
    "        *args,\n",
    "        **kwargs,\n",
    "    ):\n",
    "        super().__init__(*args, **kwargs)\n",
    "        self.aggregation_type = aggregation_type\n",
    "        self.combination_type = combination_type\n",
    "        self.normalize = normalize\n",
    "        self.ffn_prepare = create_ffn(hidden_units, dropout_rate)\n",
    "\n",
    "        if self.combination_type == \"gated\":\n",
    "            self.update_fn = layers.GRU(\n",
    "                units=hidden_units,\n",
    "                activation=\"tanh\",\n",
    "                recurrent_activation=\"sigmoid\",\n",
    "                dropout=dropout_rate,\n",
    "                return_state=True,\n",
    "                recurrent_dropout=dropout_rate,\n",
    "            )\n",
    "        else:\n",
    "            self.update_fn = create_ffn(hidden_units, dropout_rate)\n",
    "\n",
    "    def prepare(self, node_repesentations, weights=None):\n",
    "        messages = self.ffn_prepare(node_repesentations)\n",
    "        if weights is not None:\n",
    "            messages *= tf.expand_dims(weights, -1)\n",
    "        return messages\n",
    "\n",
    "    def aggregate(self, node_indices, neighbour_messages, node_repesentations):\n",
    "        num_nodes = node_repesentations.shape[0]\n",
    "        if self.aggregation_type == \"sum\":\n",
    "            return tf.math.unsorted_segment_sum(neighbour_messages, node_indices, num_segments=num_nodes)\n",
    "        elif self.aggregation_type == \"mean\":\n",
    "            return tf.math.unsorted_segment_mean(neighbour_messages, node_indices, num_segments=num_nodes)\n",
    "        elif self.aggregation_type == \"max\":\n",
    "            return tf.math.unsorted_segment_max(neighbour_messages, node_indices, num_segments=num_nodes)\n",
    "        else:\n",
    "            raise ValueError(f\"Invalid aggregation type: {self.aggregation_type}.\")\n",
    "\n",
    "    def update(self, node_repesentations, aggregated_messages):\n",
    "        if self.combination_type == \"gru\":\n",
    "            h = tf.stack([node_repesentations, aggregated_messages], axis=1)\n",
    "            node_embeddings = self.update_fn(h)[-1]\n",
    "        elif self.combination_type == \"concat\":\n",
    "            h = tf.concat([node_repesentations, aggregated_messages], axis=1)\n",
    "            node_embeddings = self.update_fn(h)\n",
    "        elif self.combination_type == \"add\":\n",
    "            node_embeddings = node_repesentations + aggregated_messages\n",
    "        else:\n",
    "            raise ValueError(f\"Invalid combination type: {self.combination_type}.\")\n",
    "\n",
    "        if self.normalize:\n",
    "            node_embeddings = tf.nn.l2_normalize(node_embeddings, axis=-1)\n",
    "        return node_embeddings\n",
    "\n",
    "    def call(self, inputs):\n",
    "        node_repesentations, edges, edge_weights = inputs\n",
    "        node_indices, neighbour_indices = edges[0], edges[1]\n",
    "        neighbour_repesentations = tf.gather(node_repesentations, neighbour_indices)\n",
    "\n",
    "        neighbour_messages = self.prepare(neighbour_repesentations, edge_weights)\n",
    "        aggregated_messages = self.aggregate(node_indices, neighbour_messages, node_repesentations)\n",
    "        return self.update(node_repesentations, aggregated_messages)\n",
    "\n",
    "\n",
    "class GNNNodeClassifier(tf.keras.Model):\n",
    "    def __init__(\n",
    "        self,\n",
    "        graph_info,\n",
    "        num_classes,\n",
    "        hidden_units,\n",
    "        aggregation_type=\"sum\",\n",
    "        combination_type=\"concat\",\n",
    "        dropout_rate=0.2,\n",
    "        normalize=True,\n",
    "        *args,\n",
    "        **kwargs,\n",
    "    ):\n",
    "        super().__init__(*args, **kwargs)\n",
    "        node_features, edges, edge_weights = graph_info\n",
    "        self.node_features = node_features\n",
    "        self.edges = edges\n",
    "        self.edge_weights = edge_weights\n",
    "\n",
    "        if self.edge_weights is None:\n",
    "            self.edge_weights = tf.ones(shape=edges.shape[1])\n",
    "\n",
    "        self.edge_weights /= tf.math.reduce_sum(self.edge_weights)\n",
    "\n",
    "        self.preprocess = create_ffn(hidden_units, dropout_rate, name=\"preprocess\")\n",
    "        self.conv1 = GraphConvLayer(hidden_units, dropout_rate, aggregation_type, combination_type, normalize, name=\"graph_conv1\")\n",
    "        self.conv2 = GraphConvLayer(hidden_units, dropout_rate, aggregation_type, combination_type, normalize, name=\"graph_conv2\")\n",
    "        self.postprocess = create_ffn(hidden_units, dropout_rate, name=\"postprocess\")\n",
    "        self.compute_logits = layers.Dense(units=num_classes, name=\"logits\")\n",
    "\n",
    "    def call(self, input_node_indices):\n",
    "        x = self.preprocess(self.node_features)\n",
    "        x1 = self.conv1((x, self.edges, self.edge_weights))\n",
    "        x = x1 + x  # Skip connection\n",
    "        x2 = self.conv2((x, self.edges, self.edge_weights))\n",
    "        x = x2 + x  # Skip connection\n",
    "        x = self.postprocess(x)\n",
    "        node_embeddings = tf.gather(x, input_node_indices)\n",
    "        return self.compute_logits(node_embeddings)"
   ]
  },
  {
   "cell_type": "markdown",
   "id": "88444fbd",
   "metadata": {
    "id": "LIXf35bb7sNh",
    "papermill": {
     "duration": 0.048356,
     "end_time": "2024-11-26T05:24:40.447418",
     "exception": false,
     "start_time": "2024-11-26T05:24:40.399062",
     "status": "completed"
    },
    "tags": []
   },
   "source": [
    "Let's test instantiating and calling the GNN model.\n",
    "Notice that if you provide `N` node indices, the output will be a tensor of shape `[N, num_classes]`,\n",
    "regardless of the size of the graph."
   ]
  },
  {
   "cell_type": "code",
   "execution_count": 47,
   "id": "b6179cd5",
   "metadata": {
    "execution": {
     "iopub.execute_input": "2024-11-26T05:24:40.545167Z",
     "iopub.status.busy": "2024-11-26T05:24:40.544174Z",
     "iopub.status.idle": "2024-11-26T05:24:40.958243Z",
     "shell.execute_reply": "2024-11-26T05:24:40.957187Z"
    },
    "id": "tSPoZWac7sNk",
    "papermill": {
     "duration": 0.46588,
     "end_time": "2024-11-26T05:24:40.960445",
     "exception": false,
     "start_time": "2024-11-26T05:24:40.494565",
     "status": "completed"
    },
    "tags": []
   },
   "outputs": [
    {
     "name": "stdout",
     "output_type": "stream",
     "text": [
      "GNN output shape: tf.Tensor(\n",
      "[[-0.19454154 -0.44553834 -0.16900842]\n",
      " [-0.05614199 -0.39463934 -0.3039598 ]\n",
      " [-0.13146104 -0.23318946 -0.21831572]], shape=(3, 3), dtype=float32)\n"
     ]
    },
    {
     "data": {
      "text/html": [
       "<pre style=\"white-space:pre;overflow-x:auto;line-height:normal;font-family:Menlo,'DejaVu Sans Mono',consolas,'Courier New',monospace\"><span style=\"font-weight: bold\">Model: \"gnn_model\"</span>\n",
       "</pre>\n"
      ],
      "text/plain": [
       "\u001b[1mModel: \"gnn_model\"\u001b[0m\n"
      ]
     },
     "metadata": {},
     "output_type": "display_data"
    },
    {
     "data": {
      "text/html": [
       "<pre style=\"white-space:pre;overflow-x:auto;line-height:normal;font-family:Menlo,'DejaVu Sans Mono',consolas,'Courier New',monospace\">┏━━━━━━━━━━━━━━━━━━━━━━━━━━━━━━━━━┳━━━━━━━━━━━━━━━━━━━━━━━━┳━━━━━━━━━━━━━━━┓\n",
       "┃<span style=\"font-weight: bold\"> Layer (type)                    </span>┃<span style=\"font-weight: bold\"> Output Shape           </span>┃<span style=\"font-weight: bold\">       Param # </span>┃\n",
       "┡━━━━━━━━━━━━━━━━━━━━━━━━━━━━━━━━━╇━━━━━━━━━━━━━━━━━━━━━━━━╇━━━━━━━━━━━━━━━┩\n",
       "│ preprocess (<span style=\"color: #0087ff; text-decoration-color: #0087ff\">Sequential</span>)         │ ?                      │         <span style=\"color: #00af00; text-decoration-color: #00af00\">8,320</span> │\n",
       "├─────────────────────────────────┼────────────────────────┼───────────────┤\n",
       "│ graph_conv1 (<span style=\"color: #0087ff; text-decoration-color: #0087ff\">GraphConvLayer</span>)    │ ?                      │        <span style=\"color: #00af00; text-decoration-color: #00af00\">20,736</span> │\n",
       "├─────────────────────────────────┼────────────────────────┼───────────────┤\n",
       "│ graph_conv2 (<span style=\"color: #0087ff; text-decoration-color: #0087ff\">GraphConvLayer</span>)    │ ?                      │        <span style=\"color: #00af00; text-decoration-color: #00af00\">20,736</span> │\n",
       "├─────────────────────────────────┼────────────────────────┼───────────────┤\n",
       "│ postprocess (<span style=\"color: #0087ff; text-decoration-color: #0087ff\">Sequential</span>)        │ ?                      │         <span style=\"color: #00af00; text-decoration-color: #00af00\">8,320</span> │\n",
       "├─────────────────────────────────┼────────────────────────┼───────────────┤\n",
       "│ logits (<span style=\"color: #0087ff; text-decoration-color: #0087ff\">Dense</span>)                  │ ?                      │           <span style=\"color: #00af00; text-decoration-color: #00af00\">195</span> │\n",
       "└─────────────────────────────────┴────────────────────────┴───────────────┘\n",
       "</pre>\n"
      ],
      "text/plain": [
       "┏━━━━━━━━━━━━━━━━━━━━━━━━━━━━━━━━━┳━━━━━━━━━━━━━━━━━━━━━━━━┳━━━━━━━━━━━━━━━┓\n",
       "┃\u001b[1m \u001b[0m\u001b[1mLayer (type)                   \u001b[0m\u001b[1m \u001b[0m┃\u001b[1m \u001b[0m\u001b[1mOutput Shape          \u001b[0m\u001b[1m \u001b[0m┃\u001b[1m \u001b[0m\u001b[1m      Param #\u001b[0m\u001b[1m \u001b[0m┃\n",
       "┡━━━━━━━━━━━━━━━━━━━━━━━━━━━━━━━━━╇━━━━━━━━━━━━━━━━━━━━━━━━╇━━━━━━━━━━━━━━━┩\n",
       "│ preprocess (\u001b[38;5;33mSequential\u001b[0m)         │ ?                      │         \u001b[38;5;34m8,320\u001b[0m │\n",
       "├─────────────────────────────────┼────────────────────────┼───────────────┤\n",
       "│ graph_conv1 (\u001b[38;5;33mGraphConvLayer\u001b[0m)    │ ?                      │        \u001b[38;5;34m20,736\u001b[0m │\n",
       "├─────────────────────────────────┼────────────────────────┼───────────────┤\n",
       "│ graph_conv2 (\u001b[38;5;33mGraphConvLayer\u001b[0m)    │ ?                      │        \u001b[38;5;34m20,736\u001b[0m │\n",
       "├─────────────────────────────────┼────────────────────────┼───────────────┤\n",
       "│ postprocess (\u001b[38;5;33mSequential\u001b[0m)        │ ?                      │         \u001b[38;5;34m8,320\u001b[0m │\n",
       "├─────────────────────────────────┼────────────────────────┼───────────────┤\n",
       "│ logits (\u001b[38;5;33mDense\u001b[0m)                  │ ?                      │           \u001b[38;5;34m195\u001b[0m │\n",
       "└─────────────────────────────────┴────────────────────────┴───────────────┘\n"
      ]
     },
     "metadata": {},
     "output_type": "display_data"
    },
    {
     "data": {
      "text/html": [
       "<pre style=\"white-space:pre;overflow-x:auto;line-height:normal;font-family:Menlo,'DejaVu Sans Mono',consolas,'Courier New',monospace\"><span style=\"font-weight: bold\"> Total params: </span><span style=\"color: #00af00; text-decoration-color: #00af00\">58,307</span> (227.76 KB)\n",
       "</pre>\n"
      ],
      "text/plain": [
       "\u001b[1m Total params: \u001b[0m\u001b[38;5;34m58,307\u001b[0m (227.76 KB)\n"
      ]
     },
     "metadata": {},
     "output_type": "display_data"
    },
    {
     "data": {
      "text/html": [
       "<pre style=\"white-space:pre;overflow-x:auto;line-height:normal;font-family:Menlo,'DejaVu Sans Mono',consolas,'Courier New',monospace\"><span style=\"font-weight: bold\"> Trainable params: </span><span style=\"color: #00af00; text-decoration-color: #00af00\">58,307</span> (227.76 KB)\n",
       "</pre>\n"
      ],
      "text/plain": [
       "\u001b[1m Trainable params: \u001b[0m\u001b[38;5;34m58,307\u001b[0m (227.76 KB)\n"
      ]
     },
     "metadata": {},
     "output_type": "display_data"
    },
    {
     "data": {
      "text/html": [
       "<pre style=\"white-space:pre;overflow-x:auto;line-height:normal;font-family:Menlo,'DejaVu Sans Mono',consolas,'Courier New',monospace\"><span style=\"font-weight: bold\"> Non-trainable params: </span><span style=\"color: #00af00; text-decoration-color: #00af00\">0</span> (0.00 B)\n",
       "</pre>\n"
      ],
      "text/plain": [
       "\u001b[1m Non-trainable params: \u001b[0m\u001b[38;5;34m0\u001b[0m (0.00 B)\n"
      ]
     },
     "metadata": {},
     "output_type": "display_data"
    }
   ],
   "source": [
    "import numpy as np\n",
    "import tensorflow as tf\n",
    "\n",
    "# Define the hidden units as a single integer\n",
    "hidden_units = 64  # Example value for hidden units\n",
    "\n",
    "node_features_temp = node_features\n",
    "# Example node features (shape: [num_nodes, feature_size])\n",
    "node_features = tf.convert_to_tensor(np.random.rand(200, hidden_units), dtype=tf.float32)\n",
    "\n",
    "# Example edges (shape: [2, num_edges])\n",
    "edges = tf.convert_to_tensor(np.array([[0, 1, 2], [1, 2, 3]]), dtype=tf.int32)  # Example edges\n",
    "\n",
    "# Example edge weights (shape: [num_edges])\n",
    "edge_weights = tf.convert_to_tensor(np.array([1.0, 0.5, 0.8]), dtype=tf.float32)\n",
    "\n",
    "# Create the graph_info tuple\n",
    "graph_info = (node_features, edges, edge_weights)\n",
    "\n",
    "# Define other parameters\n",
    "num_classes = 3  # Example number of classes\n",
    "dropout_rate = 0.2  # Example dropout rate\n",
    "\n",
    "# Create the GNN model\n",
    "gnn_model = GNNNodeClassifier(\n",
    "    graph_info=graph_info,\n",
    "    num_classes=num_classes,\n",
    "    hidden_units=hidden_units,\n",
    "    dropout_rate=dropout_rate,\n",
    "    name=\"gnn_model\",\n",
    ")\n",
    "\n",
    "# Convert the list of input node indices to a TensorFlow tensor\n",
    "input_node_indices = tf.convert_to_tensor([1, 10, 100], dtype=tf.int32)\n",
    "\n",
    "# Call the GNN model with the tensor input\n",
    "print(\"GNN output shape:\", gnn_model(input_node_indices=input_node_indices))\n",
    "\n",
    "# Display the model summary\n",
    "gnn_model.summary()"
   ]
  },
  {
   "cell_type": "markdown",
   "id": "dba53905",
   "metadata": {
    "id": "9xucfa0i7sNk",
    "papermill": {
     "duration": 0.0481,
     "end_time": "2024-11-26T05:24:41.057166",
     "exception": false,
     "start_time": "2024-11-26T05:24:41.009066",
     "status": "completed"
    },
    "tags": []
   },
   "source": [
    "### Train the GNN model\n",
    "\n",
    "Note that we use the standard *supervised* cross-entropy loss to train the model.\n",
    "However, we can add another *self-supervised* loss term for the generated node embeddings\n",
    "that makes sure that neighbouring nodes in graph have similar representations, while faraway\n",
    "nodes have dissimilar representations."
   ]
  },
  {
   "cell_type": "code",
   "execution_count": 48,
   "id": "ac2f0485",
   "metadata": {
    "execution": {
     "iopub.execute_input": "2024-11-26T05:24:41.157442Z",
     "iopub.status.busy": "2024-11-26T05:24:41.157023Z",
     "iopub.status.idle": "2024-11-26T05:24:41.169238Z",
     "shell.execute_reply": "2024-11-26T05:24:41.168050Z"
    },
    "papermill": {
     "duration": 0.065038,
     "end_time": "2024-11-26T05:24:41.171392",
     "exception": false,
     "start_time": "2024-11-26T05:24:41.106354",
     "status": "completed"
    },
    "tags": []
   },
   "outputs": [
    {
     "name": "stdout",
     "output_type": "stream",
     "text": [
      "       paper_id  term_0  term_1  term_2  term_3  term_4  term_5  term_6  \\\n",
      "5801       7370       0       0       1       0       0       0       0   \n",
      "8116       3056       0       0       1       0       0       0       0   \n",
      "13113      7381       0       1       0       0       0       0       0   \n",
      "7189      11067       0       0       0       0       0       0       0   \n",
      "10063      4963       0       0       0       0       0       0       0   \n",
      "\n",
      "       term_7  term_8  ...  term_491  term_492  term_493  term_494  term_495  \\\n",
      "5801        0       0  ...         0         0         0         0         0   \n",
      "8116        0       0  ...         0         0         0         1         0   \n",
      "13113       1       0  ...         0         0         0         0         0   \n",
      "7189        1       1  ...         0         0         0         0         0   \n",
      "10063       0       0  ...         0         0         0         0         0   \n",
      "\n",
      "       term_496  term_497  term_498  term_499  subject  \n",
      "5801          0         0         0         0        2  \n",
      "8116          0         0         0         0        1  \n",
      "13113         0         0         0         0        1  \n",
      "7189          0         0         0         0        2  \n",
      "10063         0         0         0         0        1  \n",
      "\n",
      "[5 rows x 502 columns]\n"
     ]
    }
   ],
   "source": [
    "print(train_data.head())"
   ]
  },
  {
   "cell_type": "code",
   "execution_count": 49,
   "id": "affeb031",
   "metadata": {
    "execution": {
     "iopub.execute_input": "2024-11-26T05:24:41.271323Z",
     "iopub.status.busy": "2024-11-26T05:24:41.270140Z",
     "iopub.status.idle": "2024-11-26T05:24:41.280767Z",
     "shell.execute_reply": "2024-11-26T05:24:41.279435Z"
    },
    "papermill": {
     "duration": 0.06281,
     "end_time": "2024-11-26T05:24:41.283193",
     "exception": false,
     "start_time": "2024-11-26T05:24:41.220383",
     "status": "completed"
    },
    "tags": []
   },
   "outputs": [
    {
     "name": "stdout",
     "output_type": "stream",
     "text": [
      "Original y_train shape: (9810,)\n",
      "y_train shape after encoding: (9810, 3)\n"
     ]
    }
   ],
   "source": [
    "from tensorflow.keras.utils import to_categorical\n",
    "\n",
    "# Assuming `y_train` is an array of integer labels like [0, 1, 2]\n",
    "print(f\"Original y_train shape: {y_train.shape}\")  # Should be (9810,) or (num_samples,)\n",
    "\n",
    "# Convert `y_train` to one-hot encoding\n",
    "y_train = to_categorical(y_train, num_classes=3)\n",
    "y_test = to_categorical(y_test, num_classes=3)\n",
    "\n",
    "# Check the new shape\n",
    "print(f\"y_train shape after encoding: {y_train.shape}\")  # Should be (9810, 3)\n"
   ]
  },
  {
   "cell_type": "code",
   "execution_count": 50,
   "id": "80fe2eff",
   "metadata": {
    "execution": {
     "iopub.execute_input": "2024-11-26T05:24:41.382061Z",
     "iopub.status.busy": "2024-11-26T05:24:41.381623Z",
     "iopub.status.idle": "2024-11-26T05:24:41.387294Z",
     "shell.execute_reply": "2024-11-26T05:24:41.386171Z"
    },
    "papermill": {
     "duration": 0.057213,
     "end_time": "2024-11-26T05:24:41.389328",
     "exception": false,
     "start_time": "2024-11-26T05:24:41.332115",
     "status": "completed"
    },
    "tags": []
   },
   "outputs": [
    {
     "name": "stdout",
     "output_type": "stream",
     "text": [
      "(9810, 500)\n"
     ]
    }
   ],
   "source": [
    "print(x_train.shape)"
   ]
  },
  {
   "cell_type": "code",
   "execution_count": 51,
   "id": "73355b11",
   "metadata": {
    "execution": {
     "iopub.execute_input": "2024-11-26T05:24:41.488924Z",
     "iopub.status.busy": "2024-11-26T05:24:41.488522Z",
     "iopub.status.idle": "2024-11-26T05:24:41.493834Z",
     "shell.execute_reply": "2024-11-26T05:24:41.492910Z"
    },
    "papermill": {
     "duration": 0.057507,
     "end_time": "2024-11-26T05:24:41.495849",
     "exception": false,
     "start_time": "2024-11-26T05:24:41.438342",
     "status": "completed"
    },
    "tags": []
   },
   "outputs": [],
   "source": [
    "feature_names = list(set(papers.columns) - {\"paper_id\", \"subject\"})"
   ]
  },
  {
   "cell_type": "code",
   "execution_count": 52,
   "id": "c1d06d71",
   "metadata": {
    "execution": {
     "iopub.execute_input": "2024-11-26T05:24:41.597147Z",
     "iopub.status.busy": "2024-11-26T05:24:41.596087Z",
     "iopub.status.idle": "2024-11-26T05:24:41.615598Z",
     "shell.execute_reply": "2024-11-26T05:24:41.614532Z"
    },
    "papermill": {
     "duration": 0.071741,
     "end_time": "2024-11-26T05:24:41.617954",
     "exception": false,
     "start_time": "2024-11-26T05:24:41.546213",
     "status": "completed"
    },
    "tags": []
   },
   "outputs": [],
   "source": [
    "x_train = train_data[feature_names].to_numpy()"
   ]
  },
  {
   "cell_type": "code",
   "execution_count": 53,
   "id": "e3443291",
   "metadata": {
    "execution": {
     "iopub.execute_input": "2024-11-26T05:24:41.720459Z",
     "iopub.status.busy": "2024-11-26T05:24:41.720041Z",
     "iopub.status.idle": "2024-11-26T05:24:41.725710Z",
     "shell.execute_reply": "2024-11-26T05:24:41.724570Z"
    },
    "papermill": {
     "duration": 0.058008,
     "end_time": "2024-11-26T05:24:41.727930",
     "exception": false,
     "start_time": "2024-11-26T05:24:41.669922",
     "status": "completed"
    },
    "tags": []
   },
   "outputs": [
    {
     "name": "stdout",
     "output_type": "stream",
     "text": [
      "Current x_train shape: (9810, 500)\n"
     ]
    }
   ],
   "source": [
    "print(f\"Current x_train shape: {x_train.shape}\")"
   ]
  },
  {
   "cell_type": "code",
   "execution_count": 54,
   "id": "a196190e",
   "metadata": {
    "execution": {
     "iopub.execute_input": "2024-11-26T05:24:41.827968Z",
     "iopub.status.busy": "2024-11-26T05:24:41.827533Z",
     "iopub.status.idle": "2024-11-26T05:24:41.833439Z",
     "shell.execute_reply": "2024-11-26T05:24:41.832310Z"
    },
    "papermill": {
     "duration": 0.058892,
     "end_time": "2024-11-26T05:24:41.835626",
     "exception": false,
     "start_time": "2024-11-26T05:24:41.776734",
     "status": "completed"
    },
    "tags": []
   },
   "outputs": [],
   "source": [
    "num_features = 500  \n",
    "if x_train.size % num_features == 0:\n",
    "    x_train = x_train.reshape(-1, num_features)\n",
    "else:\n",
    "    print(f\"Cannot reshape array of size {x_train.size} into shape (-1, {num_features})\")"
   ]
  },
  {
   "cell_type": "code",
   "execution_count": 55,
   "id": "85c7e08a",
   "metadata": {
    "execution": {
     "iopub.execute_input": "2024-11-26T05:24:41.936181Z",
     "iopub.status.busy": "2024-11-26T05:24:41.935190Z",
     "iopub.status.idle": "2024-11-26T05:24:41.941154Z",
     "shell.execute_reply": "2024-11-26T05:24:41.940074Z"
    },
    "papermill": {
     "duration": 0.059321,
     "end_time": "2024-11-26T05:24:41.943378",
     "exception": false,
     "start_time": "2024-11-26T05:24:41.884057",
     "status": "completed"
    },
    "tags": []
   },
   "outputs": [
    {
     "name": "stdout",
     "output_type": "stream",
     "text": [
      "Max features possible: 9841\n"
     ]
    }
   ],
   "source": [
    "# Let's assume you want to get as many features as possible\n",
    "max_features = 9841 // 1  # Start with 1 feature per sample\n",
    "print(f\"Max features possible: {max_features}\")"
   ]
  },
  {
   "cell_type": "code",
   "execution_count": 56,
   "id": "be340f0c",
   "metadata": {
    "execution": {
     "iopub.execute_input": "2024-11-26T05:24:42.044351Z",
     "iopub.status.busy": "2024-11-26T05:24:42.043914Z",
     "iopub.status.idle": "2024-11-26T05:24:42.048804Z",
     "shell.execute_reply": "2024-11-26T05:24:42.047696Z"
    },
    "papermill": {
     "duration": 0.058219,
     "end_time": "2024-11-26T05:24:42.051373",
     "exception": false,
     "start_time": "2024-11-26T05:24:41.993154",
     "status": "completed"
    },
    "tags": []
   },
   "outputs": [],
   "source": [
    "# x_train = x_train.reshape(-1, 1)  # This will change the shape to (9841, 1)\n",
    "# print(f\"New x_train shape: {x_train.shape}\")"
   ]
  },
  {
   "cell_type": "code",
   "execution_count": 57,
   "id": "b76c3e8b",
   "metadata": {
    "execution": {
     "iopub.execute_input": "2024-11-26T05:24:42.153033Z",
     "iopub.status.busy": "2024-11-26T05:24:42.152265Z",
     "iopub.status.idle": "2024-11-26T05:24:42.157639Z",
     "shell.execute_reply": "2024-11-26T05:24:42.156524Z"
    },
    "papermill": {
     "duration": 0.058398,
     "end_time": "2024-11-26T05:24:42.159747",
     "exception": false,
     "start_time": "2024-11-26T05:24:42.101349",
     "status": "completed"
    },
    "tags": []
   },
   "outputs": [],
   "source": [
    "class GNNNodeClassifier:\n",
    "    def __init__(self):\n",
    "        # Model architecture\n",
    "        ...\n",
    "        self.output_layer = Dense(3, activation='softmax')\n",
    "        ..."
   ]
  },
  {
   "cell_type": "code",
   "execution_count": 58,
   "id": "b1dee2e6",
   "metadata": {
    "execution": {
     "iopub.execute_input": "2024-11-26T05:24:42.258554Z",
     "iopub.status.busy": "2024-11-26T05:24:42.258132Z",
     "iopub.status.idle": "2024-11-26T05:24:42.265743Z",
     "shell.execute_reply": "2024-11-26T05:24:42.264692Z"
    },
    "papermill": {
     "duration": 0.059441,
     "end_time": "2024-11-26T05:24:42.267949",
     "exception": false,
     "start_time": "2024-11-26T05:24:42.208508",
     "status": "completed"
    },
    "tags": []
   },
   "outputs": [],
   "source": [
    "from keras.layers import Dense, Flatten\n",
    "\n",
    "class GNNNodeClassifier:\n",
    "    def __init__(self):\n",
    "        ...\n",
    "        self.flatten = Flatten()  # Add this if needed\n",
    "        self.output_layer = Dense(3, activation='softmax')  # Ensure this is defined correctly\n",
    "\n",
    "    def call(self, inputs):\n",
    "        x = self.flatten(inputs)  # Flatten if your model outputs need flattening\n",
    "        return self.output_layer(x)  # Ensure this gives the right shape\n",
    "\n",
    "y_train = y_train.reshape(-1, 1, 3)  # Adjusting shape to match model output"
   ]
  },
  {
   "cell_type": "code",
   "execution_count": 59,
   "id": "938843a8",
   "metadata": {
    "execution": {
     "iopub.execute_input": "2024-11-26T05:24:42.367001Z",
     "iopub.status.busy": "2024-11-26T05:24:42.366623Z",
     "iopub.status.idle": "2024-11-26T05:25:00.793775Z",
     "shell.execute_reply": "2024-11-26T05:25:00.792758Z"
    },
    "papermill": {
     "duration": 18.479243,
     "end_time": "2024-11-26T05:25:00.796113",
     "exception": false,
     "start_time": "2024-11-26T05:24:42.316870",
     "status": "completed"
    },
    "tags": []
   },
   "outputs": [
    {
     "name": "stdout",
     "output_type": "stream",
     "text": [
      "x_train shape: (9810, 500)\n",
      "y_train shape: (9810, 1, 3)\n",
      "Epoch 1/300\n"
     ]
    },
    {
     "name": "stderr",
     "output_type": "stream",
     "text": [
      "/opt/conda/lib/python3.10/site-packages/keras/src/layers/reshaping/flatten.py:37: UserWarning: Do not pass an `input_shape`/`input_dim` argument to a layer. When using Sequential models, prefer using an `Input(shape)` object as the first layer in the model instead.\n",
      "  super().__init__(**kwargs)\n"
     ]
    },
    {
     "name": "stdout",
     "output_type": "stream",
     "text": [
      "\u001b[1m292/292\u001b[0m \u001b[32m━━━━━━━━━━━━━━━━━━━━\u001b[0m\u001b[37m\u001b[0m \u001b[1m1s\u001b[0m 2ms/step - accuracy: 0.6094 - loss: 0.8356 - val_accuracy: 0.8330 - val_loss: 0.5097\n",
      "Epoch 2/300\n",
      "\u001b[1m292/292\u001b[0m \u001b[32m━━━━━━━━━━━━━━━━━━━━\u001b[0m\u001b[37m\u001b[0m \u001b[1m0s\u001b[0m 1ms/step - accuracy: 0.8374 - loss: 0.4750 - val_accuracy: 0.8493 - val_loss: 0.4133\n",
      "Epoch 3/300\n",
      "\u001b[1m292/292\u001b[0m \u001b[32m━━━━━━━━━━━━━━━━━━━━\u001b[0m\u001b[37m\u001b[0m \u001b[1m1s\u001b[0m 2ms/step - accuracy: 0.8595 - loss: 0.4006 - val_accuracy: 0.8554 - val_loss: 0.3749\n",
      "Epoch 4/300\n",
      "\u001b[1m292/292\u001b[0m \u001b[32m━━━━━━━━━━━━━━━━━━━━\u001b[0m\u001b[37m\u001b[0m \u001b[1m1s\u001b[0m 2ms/step - accuracy: 0.8736 - loss: 0.3631 - val_accuracy: 0.8635 - val_loss: 0.3565\n",
      "Epoch 5/300\n",
      "\u001b[1m292/292\u001b[0m \u001b[32m━━━━━━━━━━━━━━━━━━━━\u001b[0m\u001b[37m\u001b[0m \u001b[1m0s\u001b[0m 2ms/step - accuracy: 0.8813 - loss: 0.3284 - val_accuracy: 0.8656 - val_loss: 0.3384\n",
      "Epoch 6/300\n",
      "\u001b[1m292/292\u001b[0m \u001b[32m━━━━━━━━━━━━━━━━━━━━\u001b[0m\u001b[37m\u001b[0m \u001b[1m0s\u001b[0m 2ms/step - accuracy: 0.8866 - loss: 0.3204 - val_accuracy: 0.8676 - val_loss: 0.3303\n",
      "Epoch 7/300\n",
      "\u001b[1m292/292\u001b[0m \u001b[32m━━━━━━━━━━━━━━━━━━━━\u001b[0m\u001b[37m\u001b[0m \u001b[1m0s\u001b[0m 1ms/step - accuracy: 0.8960 - loss: 0.2947 - val_accuracy: 0.8717 - val_loss: 0.3278\n",
      "Epoch 8/300\n",
      "\u001b[1m292/292\u001b[0m \u001b[32m━━━━━━━━━━━━━━━━━━━━\u001b[0m\u001b[37m\u001b[0m \u001b[1m0s\u001b[0m 1ms/step - accuracy: 0.8927 - loss: 0.3014 - val_accuracy: 0.8717 - val_loss: 0.3218\n",
      "Epoch 9/300\n",
      "\u001b[1m292/292\u001b[0m \u001b[32m━━━━━━━━━━━━━━━━━━━━\u001b[0m\u001b[37m\u001b[0m \u001b[1m0s\u001b[0m 1ms/step - accuracy: 0.8969 - loss: 0.2834 - val_accuracy: 0.8758 - val_loss: 0.3182\n",
      "Epoch 10/300\n",
      "\u001b[1m292/292\u001b[0m \u001b[32m━━━━━━━━━━━━━━━━━━━━\u001b[0m\u001b[37m\u001b[0m \u001b[1m0s\u001b[0m 1ms/step - accuracy: 0.9023 - loss: 0.2758 - val_accuracy: 0.8758 - val_loss: 0.3170\n",
      "Epoch 11/300\n",
      "\u001b[1m292/292\u001b[0m \u001b[32m━━━━━━━━━━━━━━━━━━━━\u001b[0m\u001b[37m\u001b[0m \u001b[1m0s\u001b[0m 1ms/step - accuracy: 0.8977 - loss: 0.2809 - val_accuracy: 0.8798 - val_loss: 0.3122\n",
      "Epoch 12/300\n",
      "\u001b[1m292/292\u001b[0m \u001b[32m━━━━━━━━━━━━━━━━━━━━\u001b[0m\u001b[37m\u001b[0m \u001b[1m0s\u001b[0m 1ms/step - accuracy: 0.9113 - loss: 0.2643 - val_accuracy: 0.8778 - val_loss: 0.3117\n",
      "Epoch 13/300\n",
      "\u001b[1m292/292\u001b[0m \u001b[32m━━━━━━━━━━━━━━━━━━━━\u001b[0m\u001b[37m\u001b[0m \u001b[1m0s\u001b[0m 1ms/step - accuracy: 0.9027 - loss: 0.2642 - val_accuracy: 0.8778 - val_loss: 0.3094\n",
      "Epoch 14/300\n",
      "\u001b[1m292/292\u001b[0m \u001b[32m━━━━━━━━━━━━━━━━━━━━\u001b[0m\u001b[37m\u001b[0m \u001b[1m0s\u001b[0m 1ms/step - accuracy: 0.9027 - loss: 0.2718 - val_accuracy: 0.8758 - val_loss: 0.3124\n",
      "Epoch 15/300\n",
      "\u001b[1m292/292\u001b[0m \u001b[32m━━━━━━━━━━━━━━━━━━━━\u001b[0m\u001b[37m\u001b[0m \u001b[1m0s\u001b[0m 1ms/step - accuracy: 0.9016 - loss: 0.2687 - val_accuracy: 0.8798 - val_loss: 0.3115\n",
      "Epoch 16/300\n",
      "\u001b[1m292/292\u001b[0m \u001b[32m━━━━━━━━━━━━━━━━━━━━\u001b[0m\u001b[37m\u001b[0m \u001b[1m0s\u001b[0m 1ms/step - accuracy: 0.9125 - loss: 0.2560 - val_accuracy: 0.8737 - val_loss: 0.3086\n",
      "Epoch 17/300\n",
      "\u001b[1m292/292\u001b[0m \u001b[32m━━━━━━━━━━━━━━━━━━━━\u001b[0m\u001b[37m\u001b[0m \u001b[1m0s\u001b[0m 2ms/step - accuracy: 0.9051 - loss: 0.2646 - val_accuracy: 0.8717 - val_loss: 0.3122\n",
      "Epoch 18/300\n",
      "\u001b[1m292/292\u001b[0m \u001b[32m━━━━━━━━━━━━━━━━━━━━\u001b[0m\u001b[37m\u001b[0m \u001b[1m0s\u001b[0m 1ms/step - accuracy: 0.9070 - loss: 0.2544 - val_accuracy: 0.8737 - val_loss: 0.3108\n",
      "Epoch 19/300\n",
      "\u001b[1m292/292\u001b[0m \u001b[32m━━━━━━━━━━━━━━━━━━━━\u001b[0m\u001b[37m\u001b[0m \u001b[1m0s\u001b[0m 1ms/step - accuracy: 0.9039 - loss: 0.2600 - val_accuracy: 0.8676 - val_loss: 0.3082\n",
      "Epoch 20/300\n",
      "\u001b[1m292/292\u001b[0m \u001b[32m━━━━━━━━━━━━━━━━━━━━\u001b[0m\u001b[37m\u001b[0m \u001b[1m0s\u001b[0m 1ms/step - accuracy: 0.9076 - loss: 0.2549 - val_accuracy: 0.8758 - val_loss: 0.3163\n",
      "Epoch 21/300\n",
      "\u001b[1m292/292\u001b[0m \u001b[32m━━━━━━━━━━━━━━━━━━━━\u001b[0m\u001b[37m\u001b[0m \u001b[1m0s\u001b[0m 1ms/step - accuracy: 0.9099 - loss: 0.2496 - val_accuracy: 0.8798 - val_loss: 0.3153\n",
      "Epoch 22/300\n",
      "\u001b[1m292/292\u001b[0m \u001b[32m━━━━━━━━━━━━━━━━━━━━\u001b[0m\u001b[37m\u001b[0m \u001b[1m0s\u001b[0m 1ms/step - accuracy: 0.9061 - loss: 0.2566 - val_accuracy: 0.8697 - val_loss: 0.3101\n",
      "Epoch 23/300\n",
      "\u001b[1m292/292\u001b[0m \u001b[32m━━━━━━━━━━━━━━━━━━━━\u001b[0m\u001b[37m\u001b[0m \u001b[1m0s\u001b[0m 1ms/step - accuracy: 0.9113 - loss: 0.2534 - val_accuracy: 0.8778 - val_loss: 0.3109\n",
      "Epoch 24/300\n",
      "\u001b[1m292/292\u001b[0m \u001b[32m━━━━━━━━━━━━━━━━━━━━\u001b[0m\u001b[37m\u001b[0m \u001b[1m0s\u001b[0m 1ms/step - accuracy: 0.9082 - loss: 0.2581 - val_accuracy: 0.8778 - val_loss: 0.3159\n",
      "Epoch 25/300\n",
      "\u001b[1m292/292\u001b[0m \u001b[32m━━━━━━━━━━━━━━━━━━━━\u001b[0m\u001b[37m\u001b[0m \u001b[1m0s\u001b[0m 1ms/step - accuracy: 0.9075 - loss: 0.2558 - val_accuracy: 0.8778 - val_loss: 0.3140\n",
      "Epoch 26/300\n",
      "\u001b[1m292/292\u001b[0m \u001b[32m━━━━━━━━━━━━━━━━━━━━\u001b[0m\u001b[37m\u001b[0m \u001b[1m0s\u001b[0m 1ms/step - accuracy: 0.9082 - loss: 0.2525 - val_accuracy: 0.8737 - val_loss: 0.3112\n",
      "Epoch 27/300\n",
      "\u001b[1m292/292\u001b[0m \u001b[32m━━━━━━━━━━━━━━━━━━━━\u001b[0m\u001b[37m\u001b[0m \u001b[1m0s\u001b[0m 1ms/step - accuracy: 0.9113 - loss: 0.2444 - val_accuracy: 0.8737 - val_loss: 0.3144\n",
      "Epoch 28/300\n",
      "\u001b[1m292/292\u001b[0m \u001b[32m━━━━━━━━━━━━━━━━━━━━\u001b[0m\u001b[37m\u001b[0m \u001b[1m0s\u001b[0m 1ms/step - accuracy: 0.9104 - loss: 0.2517 - val_accuracy: 0.8758 - val_loss: 0.3123\n",
      "Epoch 29/300\n",
      "\u001b[1m292/292\u001b[0m \u001b[32m━━━━━━━━━━━━━━━━━━━━\u001b[0m\u001b[37m\u001b[0m \u001b[1m0s\u001b[0m 1ms/step - accuracy: 0.9084 - loss: 0.2491 - val_accuracy: 0.8758 - val_loss: 0.3168\n",
      "Epoch 30/300\n",
      "\u001b[1m292/292\u001b[0m \u001b[32m━━━━━━━━━━━━━━━━━━━━\u001b[0m\u001b[37m\u001b[0m \u001b[1m0s\u001b[0m 1ms/step - accuracy: 0.9035 - loss: 0.2647 - val_accuracy: 0.8778 - val_loss: 0.3149\n",
      "Epoch 31/300\n",
      "\u001b[1m292/292\u001b[0m \u001b[32m━━━━━━━━━━━━━━━━━━━━\u001b[0m\u001b[37m\u001b[0m \u001b[1m0s\u001b[0m 1ms/step - accuracy: 0.9056 - loss: 0.2546 - val_accuracy: 0.8758 - val_loss: 0.3170\n",
      "Epoch 32/300\n",
      "\u001b[1m292/292\u001b[0m \u001b[32m━━━━━━━━━━━━━━━━━━━━\u001b[0m\u001b[37m\u001b[0m \u001b[1m0s\u001b[0m 1ms/step - accuracy: 0.9028 - loss: 0.2480 - val_accuracy: 0.8737 - val_loss: 0.3183\n",
      "Epoch 33/300\n",
      "\u001b[1m292/292\u001b[0m \u001b[32m━━━━━━━━━━━━━━━━━━━━\u001b[0m\u001b[37m\u001b[0m \u001b[1m0s\u001b[0m 1ms/step - accuracy: 0.9105 - loss: 0.2484 - val_accuracy: 0.8717 - val_loss: 0.3178\n",
      "Epoch 34/300\n",
      "\u001b[1m292/292\u001b[0m \u001b[32m━━━━━━━━━━━━━━━━━━━━\u001b[0m\u001b[37m\u001b[0m \u001b[1m0s\u001b[0m 1ms/step - accuracy: 0.9102 - loss: 0.2582 - val_accuracy: 0.8737 - val_loss: 0.3174\n",
      "Epoch 35/300\n",
      "\u001b[1m292/292\u001b[0m \u001b[32m━━━━━━━━━━━━━━━━━━━━\u001b[0m\u001b[37m\u001b[0m \u001b[1m0s\u001b[0m 1ms/step - accuracy: 0.9218 - loss: 0.2250 - val_accuracy: 0.8737 - val_loss: 0.3195\n",
      "Epoch 36/300\n",
      "\u001b[1m292/292\u001b[0m \u001b[32m━━━━━━━━━━━━━━━━━━━━\u001b[0m\u001b[37m\u001b[0m \u001b[1m0s\u001b[0m 1ms/step - accuracy: 0.9088 - loss: 0.2503 - val_accuracy: 0.8758 - val_loss: 0.3199\n",
      "Epoch 37/300\n",
      "\u001b[1m292/292\u001b[0m \u001b[32m━━━━━━━━━━━━━━━━━━━━\u001b[0m\u001b[37m\u001b[0m \u001b[1m0s\u001b[0m 1ms/step - accuracy: 0.9086 - loss: 0.2462 - val_accuracy: 0.8717 - val_loss: 0.3199\n",
      "Epoch 38/300\n",
      "\u001b[1m292/292\u001b[0m \u001b[32m━━━━━━━━━━━━━━━━━━━━\u001b[0m\u001b[37m\u001b[0m \u001b[1m0s\u001b[0m 1ms/step - accuracy: 0.9139 - loss: 0.2373 - val_accuracy: 0.8778 - val_loss: 0.3206\n",
      "Epoch 39/300\n",
      "\u001b[1m292/292\u001b[0m \u001b[32m━━━━━━━━━━━━━━━━━━━━\u001b[0m\u001b[37m\u001b[0m \u001b[1m0s\u001b[0m 1ms/step - accuracy: 0.9116 - loss: 0.2408 - val_accuracy: 0.8676 - val_loss: 0.3201\n",
      "Epoch 39: early stopping\n",
      "Restoring model weights from the end of the best epoch: 19.\n"
     ]
    }
   ],
   "source": [
    "from keras.models import Sequential\n",
    "from keras.layers import Dense, Flatten\n",
    "from keras.callbacks import EarlyStopping\n",
    "\n",
    "# Print shapes for debugging\n",
    "print(f\"x_train shape: {x_train.shape}\")\n",
    "print(f\"y_train shape: {y_train.shape}\")\n",
    "\n",
    "# Define the model\n",
    "gnn_model = Sequential()\n",
    "gnn_model.add(Flatten(input_shape=(500,)))  # Flatten the input if necessary\n",
    "gnn_model.add(Dense(3, activation='softmax'))\n",
    "\n",
    "# Ensure y_train is in the correct shape\n",
    "y_train = y_train.reshape(-1, 3) \n",
    "\n",
    "# Truncate x_train to match y_train size if needed\n",
    "if x_train.shape[0] > y_train.shape[0]:\n",
    "    x_train = x_train[:y_train.shape[0]]  # Adjust x_train to match y_train size\n",
    "\n",
    "# Define early stopping criteria\n",
    "early_stopping = EarlyStopping(\n",
    "    monitor='val_loss',  # Metric to monitor\n",
    "    patience=20,         # Number of epochs with no improvement after which training will be stopped\n",
    "    restore_best_weights=True,  # Restores model weights from the epoch with the best value of the monitored quantity\n",
    "    verbose=1            # Verbosity mode\n",
    ")\n",
    "\n",
    "# Compile the model\n",
    "gnn_model.compile(optimizer='adam', loss='categorical_crossentropy', metrics=['accuracy'])\n",
    "\n",
    "# Train the model with early stopping\n",
    "history = gnn_model.fit(\n",
    "    x_train, \n",
    "    y_train, \n",
    "    epochs=300, \n",
    "    batch_size=32, \n",
    "    validation_split=0.05,\n",
    "    callbacks=[early_stopping]  # Add the early stopping callback\n",
    ")\n"
   ]
  },
  {
   "cell_type": "code",
   "execution_count": 60,
   "id": "84b3e58b",
   "metadata": {
    "execution": {
     "iopub.execute_input": "2024-11-26T05:25:00.994118Z",
     "iopub.status.busy": "2024-11-26T05:25:00.993741Z",
     "iopub.status.idle": "2024-11-26T05:25:00.999015Z",
     "shell.execute_reply": "2024-11-26T05:25:00.997978Z"
    },
    "papermill": {
     "duration": 0.132353,
     "end_time": "2024-11-26T05:25:01.001071",
     "exception": false,
     "start_time": "2024-11-26T05:25:00.868718",
     "status": "completed"
    },
    "tags": []
   },
   "outputs": [],
   "source": [
    "# from keras.models import Sequential\n",
    "\n",
    "# # Assuming this is part of your model definition\n",
    "# print(f\"x_train shape: {x_train.shape}\")\n",
    "# print(f\"y_train shape: {y_train.shape}\")\n",
    "# gnn_model = Sequential()\n",
    "# gnn_model.add(Flatten(input_shape=(500,)))  # Flatten the input if necessary\n",
    "# gnn_model.add(Dense(3, activation='softmax')) \n",
    "\n",
    "# y_train = y_train.reshape(-1, 3) \n",
    "# # Truncate x_train to match y_train size if needed\n",
    "# if x_train.shape[0] > y_train.shape[0]:\n",
    "#     x_train = x_train[:y_train.shape[0]]  # Adjust x_train to match y_train size\n",
    "\n",
    "# gnn_model.compile(optimizer='adam', loss='categorical_crossentropy', metrics=['accuracy'])\n",
    "# history = gnn_model.fit(x_train, y_train, epochs=300, batch_size=32, validation_split=0.05)\n",
    "\n"
   ]
  },
  {
   "cell_type": "code",
   "execution_count": 61,
   "id": "12a0d5a1",
   "metadata": {
    "execution": {
     "iopub.execute_input": "2024-11-26T05:25:01.143060Z",
     "iopub.status.busy": "2024-11-26T05:25:01.142101Z",
     "iopub.status.idle": "2024-11-26T05:25:01.757994Z",
     "shell.execute_reply": "2024-11-26T05:25:01.756860Z"
    },
    "papermill": {
     "duration": 0.689623,
     "end_time": "2024-11-26T05:25:01.760933",
     "exception": false,
     "start_time": "2024-11-26T05:25:01.071310",
     "status": "completed"
    },
    "tags": []
   },
   "outputs": [
    {
     "data": {
      "image/png": "[encoded data removed]",
      "text/plain": [
       "<Figure size 1400x500 with 2 Axes>"
      ]
     },
     "metadata": {},
     "output_type": "display_data"
    }
   ],
   "source": [
    "import matplotlib.pyplot as plt\n",
    "\n",
    "# Assuming 'history' is the output from your model's fit method\n",
    "# Plot training & validation accuracy values\n",
    "plt.figure(figsize=(14, 5))\n",
    "\n",
    "# Plot accuracy\n",
    "plt.subplot(1, 2, 1)  # (rows, columns, panel number)\n",
    "plt.plot(history.history['accuracy'], label='Train Accuracy')\n",
    "plt.plot(history.history['val_accuracy'], label='Validation Accuracy')\n",
    "plt.title('Model Accuracy')\n",
    "plt.xlabel('Epoch')\n",
    "plt.ylabel('Accuracy')\n",
    "plt.legend(loc='best')\n",
    "\n",
    "# Plot loss\n",
    "plt.subplot(1, 2, 2)\n",
    "plt.plot(history.history['loss'], label='Train Loss')\n",
    "plt.plot(history.history['val_loss'], label='Validation Loss')\n",
    "plt.title('Model Loss')\n",
    "plt.xlabel('Epoch')\n",
    "plt.ylabel('Loss')\n",
    "plt.legend(loc='best')\n",
    "\n",
    "# Show the plots\n",
    "plt.tight_layout()\n",
    "plt.show()\n"
   ]
  },
  {
   "cell_type": "code",
   "execution_count": 62,
   "id": "bf9eaf8d",
   "metadata": {
    "execution": {
     "iopub.execute_input": "2024-11-26T05:25:01.907123Z",
     "iopub.status.busy": "2024-11-26T05:25:01.906737Z",
     "iopub.status.idle": "2024-11-26T05:25:02.796663Z",
     "shell.execute_reply": "2024-11-26T05:25:02.795633Z"
    },
    "papermill": {
     "duration": 0.964557,
     "end_time": "2024-11-26T05:25:02.798768",
     "exception": false,
     "start_time": "2024-11-26T05:25:01.834211",
     "status": "completed"
    },
    "tags": []
   },
   "outputs": [
    {
     "name": "stdout",
     "output_type": "stream",
     "text": [
      "Training Loss: 0.2585, Training Accuracy: 0.9073\n",
      "Validation Loss: 0.3303, Validation Accuracy: 0.8692\n"
     ]
    }
   ],
   "source": [
    "# Evaluate on training data\n",
    "train_loss, train_accuracy = gnn_model.evaluate(x_train, y_train, verbose=0)\n",
    "print(f\"Training Loss: {train_loss:.4f}, Training Accuracy: {train_accuracy:.4f}\")\n",
    "\n",
    "# Evaluate on validation data (if you have separate validation data)\n",
    "val_loss, val_accuracy = gnn_model.evaluate(x_test, y_test, verbose=0)\n",
    "print(f\"Validation Loss: {val_loss:.4f}, Validation Accuracy: {val_accuracy:.4f}\")\n"
   ]
  },
  {
   "cell_type": "code",
   "execution_count": 63,
   "id": "dc4ca649",
   "metadata": {
    "execution": {
     "iopub.execute_input": "2024-11-26T05:25:02.944541Z",
     "iopub.status.busy": "2024-11-26T05:25:02.944122Z",
     "iopub.status.idle": "2024-11-26T05:25:02.949854Z",
     "shell.execute_reply": "2024-11-26T05:25:02.948791Z"
    },
    "papermill": {
     "duration": 0.081948,
     "end_time": "2024-11-26T05:25:02.952362",
     "exception": false,
     "start_time": "2024-11-26T05:25:02.870414",
     "status": "completed"
    },
    "tags": []
   },
   "outputs": [
    {
     "name": "stdout",
     "output_type": "stream",
     "text": [
      "x_train shape: (9907, 500)\n",
      "y_train shape: (9907, 3)\n",
      "x_train shape: (9810, 500)\n",
      "y_train shape: (9810, 3)\n"
     ]
    }
   ],
   "source": [
    "print(f\"x_train shape: {x_test.shape}\")\n",
    "print(f\"y_train shape: {y_test.shape}\")\n",
    "\n",
    "print(f\"x_train shape: {x_train.shape}\")\n",
    "print(f\"y_train shape: {y_train.shape}\")\n"
   ]
  },
  {
   "cell_type": "code",
   "execution_count": 64,
   "id": "0b42de04",
   "metadata": {
    "execution": {
     "iopub.execute_input": "2024-11-26T05:25:03.097934Z",
     "iopub.status.busy": "2024-11-26T05:25:03.097061Z",
     "iopub.status.idle": "2024-11-26T05:25:03.102961Z",
     "shell.execute_reply": "2024-11-26T05:25:03.101890Z"
    },
    "papermill": {
     "duration": 0.080958,
     "end_time": "2024-11-26T05:25:03.105044",
     "exception": false,
     "start_time": "2024-11-26T05:25:03.024086",
     "status": "completed"
    },
    "tags": []
   },
   "outputs": [
    {
     "name": "stdout",
     "output_type": "stream",
     "text": [
      "Final Validation Accuracy: 0.8676\n"
     ]
    }
   ],
   "source": [
    "# Print final training and validation accuracy\n",
    "final_val_accuracy = history.history['val_accuracy'][-1]  # Last validation accuracy\n",
    "\n",
    "print(f'Final Validation Accuracy: {final_val_accuracy:.4f}')"
   ]
  },
  {
   "cell_type": "code",
   "execution_count": 65,
   "id": "c85fafa2",
   "metadata": {
    "execution": {
     "iopub.execute_input": "2024-11-26T05:25:03.250305Z",
     "iopub.status.busy": "2024-11-26T05:25:03.249857Z",
     "iopub.status.idle": "2024-11-26T05:25:03.255642Z",
     "shell.execute_reply": "2024-11-26T05:25:03.254508Z"
    },
    "papermill": {
     "duration": 0.08086,
     "end_time": "2024-11-26T05:25:03.258156",
     "exception": false,
     "start_time": "2024-11-26T05:25:03.177296",
     "status": "completed"
    },
    "tags": []
   },
   "outputs": [
    {
     "name": "stdout",
     "output_type": "stream",
     "text": [
      "Final Training Accuracy: 0.9096\n",
      "Final Validation Accuracy: 0.8676\n"
     ]
    }
   ],
   "source": [
    "# Print final training and validation accuracy\n",
    "final_accuracy = history.history['accuracy'][-1]\n",
    "final_val_accuracy = history.history['val_accuracy'][-1]  # Last validation accuracy\n",
    "\n",
    "print(f'Final Training Accuracy: {final_accuracy:.4f}')\n",
    "print(f'Final Validation Accuracy: {final_val_accuracy:.4f}')"
   ]
  },
  {
   "cell_type": "markdown",
   "id": "b16f67f9",
   "metadata": {
    "id": "-tY1OVxS7sNl",
    "papermill": {
     "duration": 0.070269,
     "end_time": "2024-11-26T05:25:03.399695",
     "exception": false,
     "start_time": "2024-11-26T05:25:03.329426",
     "status": "completed"
    },
    "tags": []
   },
   "source": [
    "Let's plot the learning curves"
   ]
  },
  {
   "cell_type": "markdown",
   "id": "f34ad9a7",
   "metadata": {
    "id": "CULi010r7sNl",
    "papermill": {
     "duration": 0.070504,
     "end_time": "2024-11-26T05:25:03.541582",
     "exception": false,
     "start_time": "2024-11-26T05:25:03.471078",
     "status": "completed"
    },
    "tags": []
   },
   "source": [
    "Now we evaluate the GNN model on the test data split.\n",
    "The results may vary depending on the training sample, however the GNN model always outperforms\n",
    "the baseline model in terms of the test accuracy."
   ]
  },
  {
   "cell_type": "markdown",
   "id": "42e2e927",
   "metadata": {
    "id": "Dw2Ubd9z7sNm",
    "papermill": {
     "duration": 0.071058,
     "end_time": "2024-11-26T05:25:03.683506",
     "exception": false,
     "start_time": "2024-11-26T05:25:03.612448",
     "status": "completed"
    },
    "tags": []
   },
   "source": [
    "### Examine the GNN model predictions\n",
    "\n",
    "Let's add the new instances as nodes to the `node_features`, and generate links\n",
    "(citations) to existing nodes."
   ]
  },
  {
   "cell_type": "markdown",
   "id": "e7d44d8e",
   "metadata": {
    "id": "B5qE_olC7sNm",
    "papermill": {
     "duration": 0.071123,
     "end_time": "2024-11-26T05:25:03.828125",
     "exception": false,
     "start_time": "2024-11-26T05:25:03.757002",
     "status": "completed"
    },
    "tags": []
   },
   "source": [
    "Now let's update the `node_features` and the `edges` in the GNN model."
   ]
  },
  {
   "cell_type": "markdown",
   "id": "5f61d946",
   "metadata": {
    "id": "918bDj2x7sNm",
    "papermill": {
     "duration": 0.0727,
     "end_time": "2024-11-26T05:25:03.971760",
     "exception": false,
     "start_time": "2024-11-26T05:25:03.899060",
     "status": "completed"
    },
    "tags": []
   },
   "source": [
    "Notice that the probabilities of the expected subjects\n",
    "(to which several citations are added) are higher compared to the baseline model."
   ]
  },
  {
   "cell_type": "code",
   "execution_count": 66,
   "id": "9443c6b5",
   "metadata": {
    "execution": {
     "iopub.execute_input": "2024-11-26T05:25:04.118610Z",
     "iopub.status.busy": "2024-11-26T05:25:04.118148Z",
     "iopub.status.idle": "2024-11-26T05:25:04.124481Z",
     "shell.execute_reply": "2024-11-26T05:25:04.123390Z"
    },
    "papermill": {
     "duration": 0.082269,
     "end_time": "2024-11-26T05:25:04.126450",
     "exception": false,
     "start_time": "2024-11-26T05:25:04.044181",
     "status": "completed"
    },
    "tags": []
   },
   "outputs": [],
   "source": [
    "# from sklearn.metrics import precision_score, recall_score, f1_score, accuracy_score, mean_squared_error, mean_absolute_error, roc_auc_score\n",
    "# import numpy as np\n",
    "\n",
    "# class GNNEvaluationMetrics:\n",
    "#     def __init__(self, history):\n",
    "#         self.history = history\n",
    "#         self.y_true = None\n",
    "#         self.y_pred = None\n",
    "\n",
    "#     def set_true_pred(self, y_true, y_pred):\n",
    "#         self.y_true = y_true\n",
    "#         self.y_pred = y_pred\n",
    "\n",
    "#     def accuracy(self):\n",
    "#         return accuracy_score(self.y_true, self.y_pred) if self.y_true is not None and self.y_pred is not None else None\n",
    "    \n",
    "#     def precision(self):\n",
    "#         return precision_score(self.y_true, self.y_pred, average='weighted') if self.y_true is not None and self.y_pred is not None else None\n",
    "    \n",
    "#     def recall(self):\n",
    "#         return recall_score(self.y_true, self.y_pred, average='weighted') if self.y_true is not None and self.y_pred is not None else None\n",
    "    \n",
    "#     def f1(self):\n",
    "#         return f1_score(self.y_true, self.y_pred, average='weighted') if self.y_true is not None and self.y_pred is not None else None\n",
    "    \n",
    "#     def rmse(self):\n",
    "#         return np.sqrt(mean_squared_error(self.y_true, self.y_pred)) if self.y_true is not None and self.y_pred is not None else None\n",
    "    \n",
    "#     def mae(self):\n",
    "#         return mean_absolute_error(self.y_true, self.y_pred) if self.y_true is not None and self.y_pred is not None else None\n",
    "\n",
    "#     def auc(self):\n",
    "#         return roc_auc_score(self.y_true, self.y_pred) if len(set(self.y_true)) == 2 and self.y_true is not None and self.y_pred is not None else None\n",
    "\n",
    "#     def ndcg(self, k=10):\n",
    "#         def dcg_at_k(r, k):\n",
    "#             r = np.asfarray(r)[:k]\n",
    "#             return np.sum(r / np.log2(np.arange(2, r.size + 2)))\n",
    "\n",
    "#         def ndcg_at_k(r, k):\n",
    "#             dcg_max = dcg_at_k(sorted(r, reverse=True), k)\n",
    "#             if not dcg_max:\n",
    "#                 return 0.\n",
    "#             return dcg_at_k(r, k) / dcg_max\n",
    "\n",
    "#         if self.y_true is None or self.y_pred is None:\n",
    "#             return None\n",
    "\n",
    "#         scores = np.array(self.y_pred)\n",
    "#         labels = np.array(self.y_true)\n",
    "        \n",
    "#         ranking = np.argsort(scores)[::-1]\n",
    "#         ranked_labels = labels[ranking]\n",
    "        \n",
    "#         return ndcg_at_k(ranked_labels, k)\n",
    "\n",
    "#     def training_metrics(self):\n",
    "#         return self.history.history  # Return history of training metrics (loss, accuracy, etc.)"
   ]
  },
  {
   "cell_type": "code",
   "execution_count": 67,
   "id": "b197a7f2",
   "metadata": {
    "execution": {
     "iopub.execute_input": "2024-11-26T05:25:04.273403Z",
     "iopub.status.busy": "2024-11-26T05:25:04.272967Z",
     "iopub.status.idle": "2024-11-26T05:25:04.864320Z",
     "shell.execute_reply": "2024-11-26T05:25:04.863435Z"
    },
    "papermill": {
     "duration": 0.666659,
     "end_time": "2024-11-26T05:25:04.866570",
     "exception": false,
     "start_time": "2024-11-26T05:25:04.199911",
     "status": "completed"
    },
    "tags": []
   },
   "outputs": [
    {
     "name": "stdout",
     "output_type": "stream",
     "text": [
      "\u001b[1m310/310\u001b[0m \u001b[32m━━━━━━━━━━━━━━━━━━━━\u001b[0m\u001b[37m\u001b[0m \u001b[1m0s\u001b[0m 1ms/step\n"
     ]
    }
   ],
   "source": [
    "y_pred = gnn_model.predict(x_test)\n"
   ]
  },
  {
   "cell_type": "code",
   "execution_count": 68,
   "id": "dfa8383b",
   "metadata": {
    "execution": {
     "iopub.execute_input": "2024-11-26T05:25:05.013329Z",
     "iopub.status.busy": "2024-11-26T05:25:05.012918Z",
     "iopub.status.idle": "2024-11-26T05:25:05.018966Z",
     "shell.execute_reply": "2024-11-26T05:25:05.018072Z"
    },
    "papermill": {
     "duration": 0.081122,
     "end_time": "2024-11-26T05:25:05.021002",
     "exception": false,
     "start_time": "2024-11-26T05:25:04.939880",
     "status": "completed"
    },
    "tags": []
   },
   "outputs": [],
   "source": [
    "\n",
    "def convert_continuous_to_discrete(y_pred):\n",
    "    # Create a binary array with the same shape as y_pred\n",
    "    y_pred_classes = np.zeros(y_pred.shape, dtype=int)\n",
    "    # Get the index of the maximum value for each row\n",
    "    max_indices = np.argmax(y_pred, axis=1)\n",
    "    # Set the corresponding class index to 1\n",
    "    y_pred_classes[np.arange(y_pred.shape[0]), max_indices] = 1\n",
    "    return y_pred_classes\n",
    "\n",
    "# Apply the function to your y_pred\n",
    "y_pred_classes = convert_continuous_to_discrete(y_pred)"
   ]
  },
  {
   "cell_type": "code",
   "execution_count": 69,
   "id": "d2ea0ab6",
   "metadata": {
    "execution": {
     "iopub.execute_input": "2024-11-26T05:25:05.168363Z",
     "iopub.status.busy": "2024-11-26T05:25:05.167505Z",
     "iopub.status.idle": "2024-11-26T05:25:05.173138Z",
     "shell.execute_reply": "2024-11-26T05:25:05.172076Z"
    },
    "papermill": {
     "duration": 0.081246,
     "end_time": "2024-11-26T05:25:05.175191",
     "exception": false,
     "start_time": "2024-11-26T05:25:05.093945",
     "status": "completed"
    },
    "tags": []
   },
   "outputs": [],
   "source": [
    "import numpy as np\n",
    "\n",
    "# Assuming y_pred contains probabilities for each class\n",
    "# Convert continuous predictions to discrete class labels\n",
    "y_pred_classes = np.argmax(y_pred, axis=1)\n",
    "\n",
    "# If y_true is one-hot encoded, convert it to class indices\n",
    "y_true_classes = np.argmax(y_test, axis=1)"
   ]
  },
  {
   "cell_type": "code",
   "execution_count": 70,
   "id": "2d236008",
   "metadata": {
    "execution": {
     "iopub.execute_input": "2024-11-26T05:25:05.321198Z",
     "iopub.status.busy": "2024-11-26T05:25:05.320840Z",
     "iopub.status.idle": "2024-11-26T05:25:05.344353Z",
     "shell.execute_reply": "2024-11-26T05:25:05.343037Z"
    },
    "papermill": {
     "duration": 0.098935,
     "end_time": "2024-11-26T05:25:05.346367",
     "exception": false,
     "start_time": "2024-11-26T05:25:05.247432",
     "status": "completed"
    },
    "tags": []
   },
   "outputs": [
    {
     "name": "stdout",
     "output_type": "stream",
     "text": [
      "Accuracy: 0.8691834056727566\n",
      "Precision: 0.8698412633640924\n",
      "Recall: 0.8691834056727566\n",
      "F1 Score: 0.8689492340817505\n"
     ]
    }
   ],
   "source": [
    "from sklearn.metrics import accuracy_score, precision_score, recall_score, f1_score\n",
    "\n",
    "# Calculate accuracy\n",
    "accuracy = accuracy_score(y_true_classes, y_pred_classes)\n",
    "precision = precision_score(y_true_classes, y_pred_classes, average='weighted')\n",
    "recall = recall_score(y_true_classes, y_pred_classes, average='weighted')\n",
    "f1 = f1_score(y_true_classes, y_pred_classes, average='weighted')\n",
    "\n",
    "print(f'Accuracy: {accuracy}')\n",
    "print(f'Precision: {precision}')\n",
    "print(f'Recall: {recall}')\n",
    "print(f'F1 Score: {f1}')"
   ]
  },
  {
   "cell_type": "code",
   "execution_count": 71,
   "id": "47b958a3",
   "metadata": {
    "execution": {
     "iopub.execute_input": "2024-11-26T05:25:05.494473Z",
     "iopub.status.busy": "2024-11-26T05:25:05.493645Z",
     "iopub.status.idle": "2024-11-26T05:25:05.576834Z",
     "shell.execute_reply": "2024-11-26T05:25:05.575641Z"
    },
    "papermill": {
     "duration": 0.159169,
     "end_time": "2024-11-26T05:25:05.579112",
     "exception": false,
     "start_time": "2024-11-26T05:25:05.419943",
     "status": "completed"
    },
    "tags": []
   },
   "outputs": [
    {
     "name": "stdout",
     "output_type": "stream",
     "text": [
      "\u001b[1m1/1\u001b[0m \u001b[32m━━━━━━━━━━━━━━━━━━━━\u001b[0m\u001b[37m\u001b[0m \u001b[1m0s\u001b[0m 20ms/step\n",
      "Instance 1:\n",
      "- 1: 23.49%\n",
      "- 2: 45.63%\n",
      "- 3: 30.88%\n",
      "Instance 2:\n",
      "- 1: 34.08%\n",
      "- 2: 41.16%\n",
      "- 3: 24.76%\n",
      "Instance 3:\n",
      "- 1: 9.42%\n",
      "- 2: 54.99%\n",
      "- 3: 35.58%\n"
     ]
    }
   ],
   "source": [
    "new_instances = generate_random_instances(num_classes)\n",
    "logits = baseline_model.predict(new_instances)\n",
    "probabilities = keras.activations.softmax(tf.convert_to_tensor(logits)).numpy()\n",
    "display_class_probabilities(probabilities)"
   ]
  },
  {
   "cell_type": "code",
   "execution_count": 72,
   "id": "cc23ef09",
   "metadata": {
    "execution": {
     "iopub.execute_input": "2024-11-26T05:25:05.725357Z",
     "iopub.status.busy": "2024-11-26T05:25:05.724653Z",
     "iopub.status.idle": "2024-11-26T05:25:05.802642Z",
     "shell.execute_reply": "2024-11-26T05:25:05.801517Z"
    },
    "papermill": {
     "duration": 0.153385,
     "end_time": "2024-11-26T05:25:05.805085",
     "exception": false,
     "start_time": "2024-11-26T05:25:05.651700",
     "status": "completed"
    },
    "tags": []
   },
   "outputs": [],
   "source": [
    "# First we add the N new_instances as nodes to the graph\n",
    "# by appending the new_instance to node_features.\n",
    "num_nodes = node_features_temp.shape[0]\n",
    "new_node_features = np.concatenate([node_features_temp, new_instances])\n",
    "# Second we add the M edges (citations) from each new node to a set\n",
    "# of existing nodes in a particular subject\n",
    "new_node_indices = [i + num_nodes for i in range(num_classes)]\n",
    "new_citations = []\n",
    "for subject_idx, group in papers.groupby(\"subject\"):\n",
    "    subject_papers = list(group.paper_id)\n",
    "    # Select random x papers specific subject.\n",
    "    selected_paper_indices1 = np.random.choice(subject_papers, 5)\n",
    "    # Select random y papers from any subject (where y < x).\n",
    "    selected_paper_indices2 = np.random.choice(list(papers.paper_id), 2)\n",
    "    # Merge the selected paper indices.\n",
    "    selected_paper_indices = np.concatenate(\n",
    "        [selected_paper_indices1, selected_paper_indices2], axis=0\n",
    "    )\n",
    "    # Create edges between a citing paper idx and the selected cited papers.\n",
    "    citing_paper_indx = new_node_indices[subject_idx]\n",
    "    for cited_paper_idx in selected_paper_indices:\n",
    "        new_citations.append([citing_paper_indx, cited_paper_idx])\n",
    "\n",
    "new_citations = np.array(new_citations).T\n",
    "new_edges = np.concatenate([edges, new_citations], axis=1)"
   ]
  },
  {
   "cell_type": "code",
   "execution_count": 73,
   "id": "f102bf33",
   "metadata": {
    "execution": {
     "iopub.execute_input": "2024-11-26T05:25:05.960538Z",
     "iopub.status.busy": "2024-11-26T05:25:05.959716Z",
     "iopub.status.idle": "2024-11-26T05:25:06.225306Z",
     "shell.execute_reply": "2024-11-26T05:25:06.224110Z"
    },
    "papermill": {
     "duration": 0.350046,
     "end_time": "2024-11-26T05:25:06.227339",
     "exception": false,
     "start_time": "2024-11-26T05:25:05.877293",
     "status": "completed"
    },
    "tags": []
   },
   "outputs": [
    {
     "name": "stdout",
     "output_type": "stream",
     "text": [
      "Edges shape: (2, 44338)\n",
      "Nodes shape: (19717, 500)\n"
     ]
    }
   ],
   "source": [
    "# Create an edges array (sparse adjacency matrix) of shape [2, num_edges].\n",
    "edges = citations[[\"source\", \"target\"]].to_numpy().T\n",
    "# Create an edge weights array of ones.\n",
    "edge_weights = tf.ones(shape=edges.shape[1])\n",
    "# Create a node features array of shape [num_nodes, num_features].\n",
    "node_features = tf.cast(\n",
    "    papers.sort_values(\"paper_id\")[feature_names].to_numpy(), dtype=tf.dtypes.float32\n",
    ")\n",
    "# Create graph info tuple with node_features, edges, and edge_weights.\n",
    "graph_info = (node_features, edges, edge_weights)\n",
    "\n",
    "print(\"Edges shape:\", edges.shape)\n",
    "print(\"Nodes shape:\", node_features.shape)"
   ]
  },
  {
   "cell_type": "code",
   "execution_count": 74,
   "id": "e448344b",
   "metadata": {
    "execution": {
     "iopub.execute_input": "2024-11-26T05:25:06.373687Z",
     "iopub.status.busy": "2024-11-26T05:25:06.373264Z",
     "iopub.status.idle": "2024-11-26T05:25:06.379919Z",
     "shell.execute_reply": "2024-11-26T05:25:06.378914Z"
    },
    "papermill": {
     "duration": 0.081942,
     "end_time": "2024-11-26T05:25:06.381918",
     "exception": false,
     "start_time": "2024-11-26T05:25:06.299976",
     "status": "completed"
    },
    "tags": []
   },
   "outputs": [
    {
     "data": {
      "text/plain": [
       "<keras.src.callbacks.history.History at 0x7e1cba39b640>"
      ]
     },
     "execution_count": 74,
     "metadata": {},
     "output_type": "execute_result"
    }
   ],
   "source": [
    "history"
   ]
  },
  {
   "cell_type": "code",
   "execution_count": 75,
   "id": "940abf06",
   "metadata": {
    "execution": {
     "iopub.execute_input": "2024-11-26T05:25:06.530092Z",
     "iopub.status.busy": "2024-11-26T05:25:06.529080Z",
     "iopub.status.idle": "2024-11-26T05:25:06.534810Z",
     "shell.execute_reply": "2024-11-26T05:25:06.533719Z"
    },
    "papermill": {
     "duration": 0.082088,
     "end_time": "2024-11-26T05:25:06.536860",
     "exception": false,
     "start_time": "2024-11-26T05:25:06.454772",
     "status": "completed"
    },
    "tags": []
   },
   "outputs": [],
   "source": [
    "# Assuming 'history' is your History object\n",
    "history_dict = history.history\n",
    "\n",
    "# Extracting metrics\n",
    "train_loss = history_dict['loss']\n",
    "train_accuracy = history_dict.get('accuracy') or history_dict.get('acc')  # Depending on Keras version\n",
    "val_loss = history_dict.get('val_loss')\n",
    "val_accuracy = history_dict.get('val_accuracy') or history_dict.get('val_acc')"
   ]
  },
  {
   "cell_type": "code",
   "execution_count": 76,
   "id": "d13310a0",
   "metadata": {
    "execution": {
     "iopub.execute_input": "2024-11-26T05:25:06.685656Z",
     "iopub.status.busy": "2024-11-26T05:25:06.685206Z",
     "iopub.status.idle": "2024-11-26T05:25:06.691654Z",
     "shell.execute_reply": "2024-11-26T05:25:06.690576Z"
    },
    "papermill": {
     "duration": 0.083201,
     "end_time": "2024-11-26T05:25:06.693898",
     "exception": false,
     "start_time": "2024-11-26T05:25:06.610697",
     "status": "completed"
    },
    "tags": []
   },
   "outputs": [],
   "source": [
    "# import matplotlib.pyplot as plt\n",
    "# import numpy as np\n",
    "# from sklearn.metrics import confusion_matrix, classification_report\n",
    "# import seaborn as sns\n",
    "\n",
    "# # Assuming 'history' is your History object\n",
    "# history_dict = history.history\n",
    "\n",
    "# # Extract training history\n",
    "# train_loss = history_dict['loss']\n",
    "# train_accuracy = history_dict.get('accuracy', history_dict.get('acc'))\n",
    "# val_loss = history_dict.get('val_loss', [])\n",
    "# val_accuracy = history_dict.get('val_accuracy', history_dict.get('val_acc', []))\n",
    "\n",
    "# # Plot training & validation accuracy values\n",
    "# plt.figure(figsize=(12, 5))\n",
    "# plt.subplot(1, 2, 1)\n",
    "# plt.plot(train_accuracy, label='Train')\n",
    "# if val_accuracy:\n",
    "#     plt.plot(val_accuracy, label='Validation')\n",
    "# plt.title('Model Accuracy')\n",
    "# plt.xlabel('Epoch')\n",
    "# plt.ylabel('Accuracy')\n",
    "# plt.legend()\n",
    "\n",
    "# # Plot training & validation loss values\n",
    "# plt.subplot(1, 2, 2)\n",
    "# plt.plot(train_loss, label='Train')\n",
    "# if val_loss:\n",
    "#     plt.plot(val_loss, label='Validation')\n",
    "# plt.title('Model Loss')\n",
    "# plt.xlabel('Epoch')\n",
    "# plt.ylabel('Loss')\n",
    "# plt.legend()\n",
    "\n",
    "# plt.tight_layout()\n",
    "# plt.show()\n",
    "\n",
    "# # Print final training (and validation) metrics\n",
    "# print(f\"Final training accuracy: {train_accuracy[-1]:.4f}\")\n",
    "# print(f\"Final training loss: {train_loss[-1]:.4f}\")\n",
    "# if val_accuracy:\n",
    "#     print(f\"Final validation accuracy: {val_accuracy[-1]:.4f}\")\n",
    "# if val_loss:\n",
    "#     print(f\"Final validation loss: {val_loss[-1]:.4f}\")\n",
    "\n",
    "# # Generate predictions on test set (assuming you have x_test and y_test)\n",
    "# y_pred = gnn_model.predict(x_test)\n",
    "# y_pred_classes = np.argmax(y_pred, axis=1)\n",
    "# y_true_classes = np.argmax(y_test, axis=1)\n",
    "\n",
    "# # Compute confusion matrix\n",
    "# conf_matrix = confusion_matrix(y_true_classes, y_pred_classes)\n",
    "\n",
    "# # Class 0: Diabetes Type 1\n",
    "# # Class 1: Diabetes Type 2\n",
    "# # Class 2: Experimental research on diabetes (other diabetes-related studies)\n",
    "# # Plot confusion matrix\n",
    "# plt.figure(figsize=(8, 6))\n",
    "# sns.heatmap(conf_matrix, annot=True, fmt='d', cmap='Blues',\n",
    "#             xticklabels=['Diabetes Mellitus Type 1', 'Diabetes Mellitus Type 2', 'Diabetes Mellitus, Experimental'],\n",
    "#             yticklabels=['Diabetes Mellitus Type 1', 'Diabetes Mellitus Type 2', 'Diabetes Mellitus, Experimental'])\n",
    "# plt.title('Confusion Matrix')\n",
    "# plt.xlabel('Predicted Labels')\n",
    "# plt.ylabel('True Labels')\n",
    "# plt.show()\n",
    "\n",
    "# # Print classification report\n",
    "# print(\"\\nClassification Report:\")\n",
    "# print(classification_report(y_true_classes, y_pred_classes))"
   ]
  },
  {
   "cell_type": "code",
   "execution_count": 77,
   "id": "ad60a9f7",
   "metadata": {
    "execution": {
     "iopub.execute_input": "2024-11-26T05:25:06.845679Z",
     "iopub.status.busy": "2024-11-26T05:25:06.845263Z",
     "iopub.status.idle": "2024-11-26T05:25:07.210518Z",
     "shell.execute_reply": "2024-11-26T05:25:07.209285Z"
    },
    "papermill": {
     "duration": 0.442533,
     "end_time": "2024-11-26T05:25:07.212500",
     "exception": false,
     "start_time": "2024-11-26T05:25:06.769967",
     "status": "completed"
    },
    "tags": []
   },
   "outputs": [
    {
     "data": {
      "image/png": "[encoded data removed]",
      "text/plain": [
       "<Figure size 800x600 with 2 Axes>"
      ]
     },
     "metadata": {},
     "output_type": "display_data"
    },
    {
     "name": "stdout",
     "output_type": "stream",
     "text": [
      "\n",
      "Classification Report:\n",
      "                                 precision    recall  f1-score   support\n",
      "\n",
      "       Diabetes Mellitus Type 1       0.87      0.87      0.87      2108\n",
      "       Diabetes Mellitus Type 2       0.88      0.83      0.86      3923\n",
      "Diabetes Mellitus, Experimental       0.85      0.90      0.88      3876\n",
      "\n",
      "                       accuracy                           0.87      9907\n",
      "                      macro avg       0.87      0.87      0.87      9907\n",
      "                   weighted avg       0.87      0.87      0.87      9907\n",
      "\n"
     ]
    }
   ],
   "source": [
    "from sklearn.metrics import confusion_matrix, classification_report\n",
    "import seaborn as sns\n",
    "import matplotlib.pyplot as plt\n",
    "import pandas as pd\n",
    "\n",
    "# Define descriptive class names\n",
    "class_names = [\"Diabetes Mellitus Type 1\", \"Diabetes Mellitus Type 2\", \"Diabetes Mellitus, Experimental\"]\n",
    "\n",
    "# Compute confusion matrix\n",
    "conf_matrix = confusion_matrix(y_true_classes, y_pred_classes)\n",
    "\n",
    "# Plot confusion matrix with descriptive labels\n",
    "plt.figure(figsize=(8, 6))\n",
    "sns.heatmap(conf_matrix, annot=True, fmt='d', cmap='Blues',\n",
    "            xticklabels=class_names, yticklabels=class_names)\n",
    "plt.title('Confusion Matrix')\n",
    "plt.xlabel('Predicted Labels')\n",
    "plt.ylabel('True Labels')\n",
    "plt.show()\n",
    "\n",
    "# Print classification report with descriptive labels\n",
    "print(\"\\nClassification Report:\")\n",
    "print(classification_report(y_true_classes, y_pred_classes, target_names=class_names))\n"
   ]
  },
  {
   "cell_type": "code",
   "execution_count": 78,
   "id": "53084e42",
   "metadata": {
    "execution": {
     "iopub.execute_input": "2024-11-26T05:25:07.362511Z",
     "iopub.status.busy": "2024-11-26T05:25:07.361891Z",
     "iopub.status.idle": "2024-11-26T05:25:07.976701Z",
     "shell.execute_reply": "2024-11-26T05:25:07.975546Z"
    },
    "papermill": {
     "duration": 0.691655,
     "end_time": "2024-11-26T05:25:07.978934",
     "exception": false,
     "start_time": "2024-11-26T05:25:07.287279",
     "status": "completed"
    },
    "tags": []
   },
   "outputs": [
    {
     "data": {
      "image/png": "[encoded data removed]",
      "text/plain": [
       "<Figure size 1200x500 with 2 Axes>"
      ]
     },
     "metadata": {},
     "output_type": "display_data"
    }
   ],
   "source": [
    "import matplotlib.pyplot as plt\n",
    "\n",
    "# Plotting training & validation loss\n",
    "plt.figure(figsize=(12, 5))\n",
    "\n",
    "plt.subplot(1, 2, 1)\n",
    "plt.plot(train_loss, label='Training Loss')\n",
    "if val_loss is not None:\n",
    "    plt.plot(val_loss, label='Validation Loss')\n",
    "plt.title('Loss over Epochs')\n",
    "plt.xlabel('Epochs')\n",
    "plt.ylabel('Loss')\n",
    "plt.legend()\n",
    "\n",
    "# Plotting training & validation accuracy\n",
    "plt.subplot(1, 2, 2)\n",
    "plt.plot(train_accuracy, label='Training Accuracy')\n",
    "if val_accuracy is not None:\n",
    "    plt.plot(val_accuracy, label='Validation Accuracy')\n",
    "plt.title('Accuracy over Epochs')\n",
    "plt.xlabel('Epochs')\n",
    "plt.ylabel('Accuracy')\n",
    "plt.legend()\n",
    "\n",
    "plt.tight_layout()\n",
    "plt.show()"
   ]
  },
  {
   "cell_type": "code",
   "execution_count": 79,
   "id": "890cc1f6",
   "metadata": {
    "execution": {
     "iopub.execute_input": "2024-11-26T05:25:08.187302Z",
     "iopub.status.busy": "2024-11-26T05:25:08.186854Z",
     "iopub.status.idle": "2024-11-26T05:25:08.482718Z",
     "shell.execute_reply": "2024-11-26T05:25:08.481557Z"
    },
    "papermill": {
     "duration": 0.374356,
     "end_time": "2024-11-26T05:25:08.484993",
     "exception": false,
     "start_time": "2024-11-26T05:25:08.110637",
     "status": "completed"
    },
    "tags": []
   },
   "outputs": [
    {
     "data": {
      "image/png": "[encoded data removed]",
      "text/plain": [
       "<Figure size 1000x800 with 1 Axes>"
      ]
     },
     "metadata": {},
     "output_type": "display_data"
    }
   ],
   "source": [
    "import numpy as np\n",
    "from sklearn.metrics import roc_curve, auc\n",
    "from itertools import cycle\n",
    "import matplotlib.pyplot as plt\n",
    "\n",
    "# Assuming y_test is one-hot encoded and y_pred contains predicted probabilities\n",
    "num_classes = y_test.shape[1]  # Number of classes\n",
    "\n",
    "# Compute ROC curve and ROC area for each class\n",
    "fpr = {}\n",
    "tpr = {}\n",
    "roc_auc = {}\n",
    "\n",
    "for i in range(num_classes):\n",
    "    fpr[i], tpr[i], _ = roc_curve(y_test[:, i], y_pred[:, i])\n",
    "    roc_auc[i] = auc(fpr[i], tpr[i])\n",
    "\n",
    "# Compute micro-average ROC curve and ROC area\n",
    "fpr[\"micro\"], tpr[\"micro\"], _ = roc_curve(y_test.ravel(), y_pred.ravel())\n",
    "roc_auc[\"micro\"] = auc(fpr[\"micro\"], tpr[\"micro\"])\n",
    "\n",
    "# Compute macro-average ROC curve and ROC area\n",
    "all_fpr = np.unique(np.concatenate([fpr[i] for i in range(num_classes)]))\n",
    "mean_tpr = np.zeros_like(all_fpr)\n",
    "\n",
    "for i in range(num_classes):\n",
    "    mean_tpr += np.interp(all_fpr, fpr[i], tpr[i])\n",
    "\n",
    "mean_tpr /= num_classes\n",
    "\n",
    "fpr[\"macro\"] = all_fpr\n",
    "tpr[\"macro\"] = mean_tpr\n",
    "roc_auc[\"macro\"] = auc(fpr[\"macro\"], tpr[\"macro\"])\n",
    "\n",
    "# Define descriptive class names\n",
    "class_names = ['Diabetes Mellitus Type 1', 'Diabetes Mellitus Type 2', 'Diabetes Mellitus, Experimental']\n",
    "\n",
    "# Plot all ROC curves\n",
    "plt.figure(figsize=(10, 8))\n",
    "colors = cycle(['aqua', 'darkorange', 'cornflowerblue'])\n",
    "\n",
    "for i, color in zip(range(num_classes), colors):\n",
    "    plt.plot(fpr[i], tpr[i], color=color, lw=2,\n",
    "             label=f\"{class_names[i]} (AUC = {roc_auc[i]:.2f})\")\n",
    "\n",
    "plt.plot(fpr[\"micro\"], tpr[\"micro\"], linestyle='--', color='deeppink', lw=2,\n",
    "         label=f\"Micro-average (AUC = {roc_auc['micro']:.2f})\")\n",
    "\n",
    "plt.plot(fpr[\"macro\"], tpr[\"macro\"], linestyle='--', color='navy', lw=2,\n",
    "         label=f\"Macro-average (AUC = {roc_auc['macro']:.2f})\")\n",
    "\n",
    "plt.plot([0, 1], [0, 1], color=\"gray\", linestyle=\"--\", lw=1)\n",
    "plt.xlim([0.0, 1.0])\n",
    "plt.ylim([0.0, 1.05])\n",
    "plt.xlabel(\"False Positive Rate\")\n",
    "plt.ylabel(\"True Positive Rate\")\n",
    "plt.title(\"ROC Curve for Multi-Class Classification\")\n",
    "plt.legend(loc=\"lower right\")\n",
    "plt.show()\n"
   ]
  },
  {
   "cell_type": "code",
   "execution_count": 80,
   "id": "13846a92",
   "metadata": {
    "execution": {
     "iopub.execute_input": "2024-11-26T05:25:08.652874Z",
     "iopub.status.busy": "2024-11-26T05:25:08.651936Z",
     "iopub.status.idle": "2024-11-26T05:25:08.872112Z",
     "shell.execute_reply": "2024-11-26T05:25:08.871016Z"
    },
    "papermill": {
     "duration": 0.310094,
     "end_time": "2024-11-26T05:25:08.874293",
     "exception": false,
     "start_time": "2024-11-26T05:25:08.564199",
     "status": "completed"
    },
    "tags": []
   },
   "outputs": [
    {
     "data": {
      "image/png": "[encoded data removed]",
      "text/plain": [
       "<Figure size 1000x600 with 1 Axes>"
      ]
     },
     "metadata": {},
     "output_type": "display_data"
    }
   ],
   "source": [
    "from sklearn.metrics import classification_report\n",
    "import seaborn as sns\n",
    "import pandas as pd\n",
    "import matplotlib.pyplot as plt\n",
    "\n",
    "# Assuming y_true_classes and y_pred_classes are your true and predicted labels\n",
    "# Generate classification report as a dictionary\n",
    "report_dict = classification_report(y_true_classes, y_pred_classes, output_dict=True)\n",
    "\n",
    "# Convert the dictionary into a Pandas DataFrame for visualization\n",
    "report_df = pd.DataFrame(report_dict).transpose()\n",
    "\n",
    "# Map numeric indices to descriptive class names\n",
    "class_names = ['Diabetes Mellitus Type 1', 'Diabetes Mellitus Type 2', 'Diabetes Mellitus, Experimental']\n",
    "report_df.index = [class_names[int(i)] if i.isdigit() else i for i in report_df.index]\n",
    "\n",
    "# Extract only relevant columns for better readability\n",
    "if \"accuracy\" in report_df.index:  # accuracy row is not relevant for heatmap\n",
    "    report_df = report_df.drop(\"accuracy\", axis=0)\n",
    "\n",
    "# Plot the classification report as a heatmap\n",
    "plt.figure(figsize=(10, 6))\n",
    "sns.heatmap(report_df.iloc[:-1, :-1], annot=True, cmap=\"Reds\", fmt=\".2f\", cbar=False, linewidths=0.5)\n",
    "\n",
    "# Add labels and title\n",
    "plt.title(\"Classification Report Heatmap\")\n",
    "plt.xlabel(\"Metrics\")\n",
    "plt.ylabel(\"Classes\")\n",
    "plt.show()\n"
   ]
  },
  {
   "cell_type": "code",
   "execution_count": null,
   "id": "30dfbc84",
   "metadata": {
    "papermill": {
     "duration": 0.076716,
     "end_time": "2024-11-26T05:25:09.030054",
     "exception": false,
     "start_time": "2024-11-26T05:25:08.953338",
     "status": "completed"
    },
    "tags": []
   },
   "outputs": [],
   "source": []
  }
 ],
 "metadata": {
  "kaggle": {
   "accelerator": "none",
   "dataSources": [
    {
     "datasetId": 5844629,
     "sourceId": 9584426,
     "sourceType": "datasetVersion"
    },
    {
     "datasetId": 5848292,
     "sourceId": 9589180,
     "sourceType": "datasetVersion"
    },
    {
     "datasetId": 5848648,
     "sourceId": 9589672,
     "sourceType": "datasetVersion"
    }
   ],
   "dockerImageVersionId": 30786,
   "isGpuEnabled": false,
   "isInternetEnabled": false,
   "language": "python",
   "sourceType": "notebook"
  },
  "kernelspec": {
   "display_name": "Python 3",
   "language": "python",
   "name": "python3"
  },
  "language_info": {
   "codemirror_mode": {
    "name": "ipython",
    "version": 3
   },
   "file_extension": ".py",
   "mimetype": "text/x-python",
   "name": "python",
   "nbconvert_exporter": "python",
   "pygments_lexer": "ipython3",
   "version": "3.10.14"
  },
  "papermill": {
   "default_parameters": {},
   "duration": 91.586995,
   "end_time": "2024-11-26T05:25:11.561328",
   "environment_variables": {},
   "exception": null,
   "input_path": "__notebook__.ipynb",
   "output_path": "__notebook__.ipynb",
   "parameters": {},
   "start_time": "2024-11-26T05:23:39.974333",
   "version": "2.6.0"
  }
 },
 "nbformat": 4,
 "nbformat_minor": 5
}
